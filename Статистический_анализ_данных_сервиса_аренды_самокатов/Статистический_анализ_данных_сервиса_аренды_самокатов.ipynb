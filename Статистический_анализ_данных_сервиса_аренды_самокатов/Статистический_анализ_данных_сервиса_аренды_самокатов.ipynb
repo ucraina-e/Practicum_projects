{
  "cells": [
    {
      "cell_type": "markdown",
      "id": "3b45eb6e",
      "metadata": {
        "id": "3b45eb6e"
      },
      "source": [
        "# Статистический анализ данных сервиса аренды самокатов"
      ]
    },
    {
      "cell_type": "markdown",
      "id": "6c98fa12",
      "metadata": {
        "id": "6c98fa12"
      },
      "source": [
        "**Цель исследования**:\n",
        "\n",
        "1. Изучить данные пользователей сервиса аренды самокатов GoFast, о совершенных пользователями поездках, об используемых пользователями видах подписки.\n",
        "2. Проверить ряд статистических гипотез по данным поездок пользователей, использующих и неиспользующих подписку.\n",
        "\n",
        "  **Ход исследования:**\n",
        "    Данные я получу из файлов `'/datasets/users_go.csv', '/datasets/rides_go.csv', '/datasets/subscriptions_go.csv'`. О качестве данных ничего не известно. Поэтому перед тем, как приступать к целям исследования, понадобится обзор данных.\n",
        "    \n",
        "    Я проверю данные на ошибки и оценю их влияние на исследование. Затем, на этапе предобработки я поищу возможность исправить все ошибки данных, которые не приведут к искажению конечного результата. Далее, создам необходимые столбцы и приступлю к проведению статистического анализа данных.\n",
        "    \n",
        "    Таким образом, мое исследование пройдет в шесть этапов:\n",
        "    - Обзор данных.\n",
        "    - Предобработка данных.\n",
        "    - Исследовательский анализ данных.\n",
        "    - Объединение данных.\n",
        "    - Добавление новых столбцов.\n",
        "    - Проверка гипотез."
      ]
    },
    {
      "cell_type": "code",
      "execution_count": null,
      "id": "bf5713e0",
      "metadata": {
        "id": "bf5713e0"
      },
      "outputs": [],
      "source": [
        "import pandas as pd\n",
        "import numpy as np\n",
        "import matplotlib.pyplot as plt\n",
        "import seaborn as sns\n",
        "from matplotlib import rcParams\n",
        "from scipy import stats as st"
      ]
    },
    {
      "cell_type": "code",
      "execution_count": null,
      "id": "72645fcf",
      "metadata": {
        "id": "72645fcf"
      },
      "outputs": [],
      "source": [
        "pd.set_option('display.max_columns', None)\n",
        "pd.set_option('display.max_rows', None)\n",
        "pd.options.display.float_format='{:,.2f}'.format\n",
        "rcParams['figure.figsize'] = 10, 7"
      ]
    },
    {
      "cell_type": "markdown",
      "id": "145717ca",
      "metadata": {
        "id": "145717ca"
      },
      "source": [
        "## Загрузка данных"
      ]
    },
    {
      "cell_type": "code",
      "execution_count": null,
      "id": "db0b31cf",
      "metadata": {
        "id": "db0b31cf"
      },
      "outputs": [],
      "source": [
        "try:\n",
        "    users, rides, subscriptions = (pd.read_csv('/datasets/users_go.csv'),\n",
        "                                   pd.read_csv('/datasets/rides_go.csv'),\n",
        "                                   pd.read_csv('/datasets/subscriptions_go.csv')\n",
        "    )\n",
        "except:\n",
        "    users, rides, subscriptions = (pd.read_csv('https://code.s3.yandex.net//datasets/users_go.csv'),\n",
        "                                   pd.read_csv('https://code.s3.yandex.net//datasets/rides_go.csv'),\n",
        "                                   pd.read_csv('https://code.s3.yandex.net//datasets/subscriptions_go.csv')\n",
        "    )"
      ]
    },
    {
      "cell_type": "code",
      "execution_count": null,
      "id": "ab5cf557",
      "metadata": {
        "id": "ab5cf557"
      },
      "outputs": [],
      "source": [
        "def get_info_df(df):\n",
        "    display(df.head())\n",
        "    display(df.info())"
      ]
    },
    {
      "cell_type": "code",
      "execution_count": null,
      "id": "78d4614b",
      "metadata": {
        "colab": {
          "base_uri": "https://localhost:8080/",
          "height": 443
        },
        "id": "78d4614b",
        "outputId": "56d4b29f-16e1-4a89-8a01-ebecda9428ee"
      },
      "outputs": [
        {
          "output_type": "display_data",
          "data": {
            "text/plain": [
              "   user_id        name  age            city subscription_type\n",
              "0        1        Кира   22          Тюмень             ultra\n",
              "1        2   Станислав   31            Омск             ultra\n",
              "2        3     Алексей   20          Москва             ultra\n",
              "3        4  Константин   26  Ростов-на-Дону             ultra\n",
              "4        5       Адель   28            Омск             ultra"
            ],
            "text/html": [
              "\n",
              "  <div id=\"df-0939583d-ca6f-436b-8289-4a80a3f86df2\" class=\"colab-df-container\">\n",
              "    <div>\n",
              "<style scoped>\n",
              "    .dataframe tbody tr th:only-of-type {\n",
              "        vertical-align: middle;\n",
              "    }\n",
              "\n",
              "    .dataframe tbody tr th {\n",
              "        vertical-align: top;\n",
              "    }\n",
              "\n",
              "    .dataframe thead th {\n",
              "        text-align: right;\n",
              "    }\n",
              "</style>\n",
              "<table border=\"1\" class=\"dataframe\">\n",
              "  <thead>\n",
              "    <tr style=\"text-align: right;\">\n",
              "      <th></th>\n",
              "      <th>user_id</th>\n",
              "      <th>name</th>\n",
              "      <th>age</th>\n",
              "      <th>city</th>\n",
              "      <th>subscription_type</th>\n",
              "    </tr>\n",
              "  </thead>\n",
              "  <tbody>\n",
              "    <tr>\n",
              "      <th>0</th>\n",
              "      <td>1</td>\n",
              "      <td>Кира</td>\n",
              "      <td>22</td>\n",
              "      <td>Тюмень</td>\n",
              "      <td>ultra</td>\n",
              "    </tr>\n",
              "    <tr>\n",
              "      <th>1</th>\n",
              "      <td>2</td>\n",
              "      <td>Станислав</td>\n",
              "      <td>31</td>\n",
              "      <td>Омск</td>\n",
              "      <td>ultra</td>\n",
              "    </tr>\n",
              "    <tr>\n",
              "      <th>2</th>\n",
              "      <td>3</td>\n",
              "      <td>Алексей</td>\n",
              "      <td>20</td>\n",
              "      <td>Москва</td>\n",
              "      <td>ultra</td>\n",
              "    </tr>\n",
              "    <tr>\n",
              "      <th>3</th>\n",
              "      <td>4</td>\n",
              "      <td>Константин</td>\n",
              "      <td>26</td>\n",
              "      <td>Ростов-на-Дону</td>\n",
              "      <td>ultra</td>\n",
              "    </tr>\n",
              "    <tr>\n",
              "      <th>4</th>\n",
              "      <td>5</td>\n",
              "      <td>Адель</td>\n",
              "      <td>28</td>\n",
              "      <td>Омск</td>\n",
              "      <td>ultra</td>\n",
              "    </tr>\n",
              "  </tbody>\n",
              "</table>\n",
              "</div>\n",
              "    <div class=\"colab-df-buttons\">\n",
              "\n",
              "  <div class=\"colab-df-container\">\n",
              "    <button class=\"colab-df-convert\" onclick=\"convertToInteractive('df-0939583d-ca6f-436b-8289-4a80a3f86df2')\"\n",
              "            title=\"Convert this dataframe to an interactive table.\"\n",
              "            style=\"display:none;\">\n",
              "\n",
              "  <svg xmlns=\"http://www.w3.org/2000/svg\" height=\"24px\" viewBox=\"0 -960 960 960\">\n",
              "    <path d=\"M120-120v-720h720v720H120Zm60-500h600v-160H180v160Zm220 220h160v-160H400v160Zm0 220h160v-160H400v160ZM180-400h160v-160H180v160Zm440 0h160v-160H620v160ZM180-180h160v-160H180v160Zm440 0h160v-160H620v160Z\"/>\n",
              "  </svg>\n",
              "    </button>\n",
              "\n",
              "  <style>\n",
              "    .colab-df-container {\n",
              "      display:flex;\n",
              "      gap: 12px;\n",
              "    }\n",
              "\n",
              "    .colab-df-convert {\n",
              "      background-color: #E8F0FE;\n",
              "      border: none;\n",
              "      border-radius: 50%;\n",
              "      cursor: pointer;\n",
              "      display: none;\n",
              "      fill: #1967D2;\n",
              "      height: 32px;\n",
              "      padding: 0 0 0 0;\n",
              "      width: 32px;\n",
              "    }\n",
              "\n",
              "    .colab-df-convert:hover {\n",
              "      background-color: #E2EBFA;\n",
              "      box-shadow: 0px 1px 2px rgba(60, 64, 67, 0.3), 0px 1px 3px 1px rgba(60, 64, 67, 0.15);\n",
              "      fill: #174EA6;\n",
              "    }\n",
              "\n",
              "    .colab-df-buttons div {\n",
              "      margin-bottom: 4px;\n",
              "    }\n",
              "\n",
              "    [theme=dark] .colab-df-convert {\n",
              "      background-color: #3B4455;\n",
              "      fill: #D2E3FC;\n",
              "    }\n",
              "\n",
              "    [theme=dark] .colab-df-convert:hover {\n",
              "      background-color: #434B5C;\n",
              "      box-shadow: 0px 1px 3px 1px rgba(0, 0, 0, 0.15);\n",
              "      filter: drop-shadow(0px 1px 2px rgba(0, 0, 0, 0.3));\n",
              "      fill: #FFFFFF;\n",
              "    }\n",
              "  </style>\n",
              "\n",
              "    <script>\n",
              "      const buttonEl =\n",
              "        document.querySelector('#df-0939583d-ca6f-436b-8289-4a80a3f86df2 button.colab-df-convert');\n",
              "      buttonEl.style.display =\n",
              "        google.colab.kernel.accessAllowed ? 'block' : 'none';\n",
              "\n",
              "      async function convertToInteractive(key) {\n",
              "        const element = document.querySelector('#df-0939583d-ca6f-436b-8289-4a80a3f86df2');\n",
              "        const dataTable =\n",
              "          await google.colab.kernel.invokeFunction('convertToInteractive',\n",
              "                                                    [key], {});\n",
              "        if (!dataTable) return;\n",
              "\n",
              "        const docLinkHtml = 'Like what you see? Visit the ' +\n",
              "          '<a target=\"_blank\" href=https://colab.research.google.com/notebooks/data_table.ipynb>data table notebook</a>'\n",
              "          + ' to learn more about interactive tables.';\n",
              "        element.innerHTML = '';\n",
              "        dataTable['output_type'] = 'display_data';\n",
              "        await google.colab.output.renderOutput(dataTable, element);\n",
              "        const docLink = document.createElement('div');\n",
              "        docLink.innerHTML = docLinkHtml;\n",
              "        element.appendChild(docLink);\n",
              "      }\n",
              "    </script>\n",
              "  </div>\n",
              "\n",
              "\n",
              "    <div id=\"df-5328182a-298f-43bc-a086-63499d4d8ccc\">\n",
              "      <button class=\"colab-df-quickchart\" onclick=\"quickchart('df-5328182a-298f-43bc-a086-63499d4d8ccc')\"\n",
              "                title=\"Suggest charts\"\n",
              "                style=\"display:none;\">\n",
              "\n",
              "<svg xmlns=\"http://www.w3.org/2000/svg\" height=\"24px\"viewBox=\"0 0 24 24\"\n",
              "     width=\"24px\">\n",
              "    <g>\n",
              "        <path d=\"M19 3H5c-1.1 0-2 .9-2 2v14c0 1.1.9 2 2 2h14c1.1 0 2-.9 2-2V5c0-1.1-.9-2-2-2zM9 17H7v-7h2v7zm4 0h-2V7h2v10zm4 0h-2v-4h2v4z\"/>\n",
              "    </g>\n",
              "</svg>\n",
              "      </button>\n",
              "\n",
              "<style>\n",
              "  .colab-df-quickchart {\n",
              "      --bg-color: #E8F0FE;\n",
              "      --fill-color: #1967D2;\n",
              "      --hover-bg-color: #E2EBFA;\n",
              "      --hover-fill-color: #174EA6;\n",
              "      --disabled-fill-color: #AAA;\n",
              "      --disabled-bg-color: #DDD;\n",
              "  }\n",
              "\n",
              "  [theme=dark] .colab-df-quickchart {\n",
              "      --bg-color: #3B4455;\n",
              "      --fill-color: #D2E3FC;\n",
              "      --hover-bg-color: #434B5C;\n",
              "      --hover-fill-color: #FFFFFF;\n",
              "      --disabled-bg-color: #3B4455;\n",
              "      --disabled-fill-color: #666;\n",
              "  }\n",
              "\n",
              "  .colab-df-quickchart {\n",
              "    background-color: var(--bg-color);\n",
              "    border: none;\n",
              "    border-radius: 50%;\n",
              "    cursor: pointer;\n",
              "    display: none;\n",
              "    fill: var(--fill-color);\n",
              "    height: 32px;\n",
              "    padding: 0;\n",
              "    width: 32px;\n",
              "  }\n",
              "\n",
              "  .colab-df-quickchart:hover {\n",
              "    background-color: var(--hover-bg-color);\n",
              "    box-shadow: 0 1px 2px rgba(60, 64, 67, 0.3), 0 1px 3px 1px rgba(60, 64, 67, 0.15);\n",
              "    fill: var(--button-hover-fill-color);\n",
              "  }\n",
              "\n",
              "  .colab-df-quickchart-complete:disabled,\n",
              "  .colab-df-quickchart-complete:disabled:hover {\n",
              "    background-color: var(--disabled-bg-color);\n",
              "    fill: var(--disabled-fill-color);\n",
              "    box-shadow: none;\n",
              "  }\n",
              "\n",
              "  .colab-df-spinner {\n",
              "    border: 2px solid var(--fill-color);\n",
              "    border-color: transparent;\n",
              "    border-bottom-color: var(--fill-color);\n",
              "    animation:\n",
              "      spin 1s steps(1) infinite;\n",
              "  }\n",
              "\n",
              "  @keyframes spin {\n",
              "    0% {\n",
              "      border-color: transparent;\n",
              "      border-bottom-color: var(--fill-color);\n",
              "      border-left-color: var(--fill-color);\n",
              "    }\n",
              "    20% {\n",
              "      border-color: transparent;\n",
              "      border-left-color: var(--fill-color);\n",
              "      border-top-color: var(--fill-color);\n",
              "    }\n",
              "    30% {\n",
              "      border-color: transparent;\n",
              "      border-left-color: var(--fill-color);\n",
              "      border-top-color: var(--fill-color);\n",
              "      border-right-color: var(--fill-color);\n",
              "    }\n",
              "    40% {\n",
              "      border-color: transparent;\n",
              "      border-right-color: var(--fill-color);\n",
              "      border-top-color: var(--fill-color);\n",
              "    }\n",
              "    60% {\n",
              "      border-color: transparent;\n",
              "      border-right-color: var(--fill-color);\n",
              "    }\n",
              "    80% {\n",
              "      border-color: transparent;\n",
              "      border-right-color: var(--fill-color);\n",
              "      border-bottom-color: var(--fill-color);\n",
              "    }\n",
              "    90% {\n",
              "      border-color: transparent;\n",
              "      border-bottom-color: var(--fill-color);\n",
              "    }\n",
              "  }\n",
              "</style>\n",
              "\n",
              "      <script>\n",
              "        async function quickchart(key) {\n",
              "          const quickchartButtonEl =\n",
              "            document.querySelector('#' + key + ' button');\n",
              "          quickchartButtonEl.disabled = true;  // To prevent multiple clicks.\n",
              "          quickchartButtonEl.classList.add('colab-df-spinner');\n",
              "          try {\n",
              "            const charts = await google.colab.kernel.invokeFunction(\n",
              "                'suggestCharts', [key], {});\n",
              "          } catch (error) {\n",
              "            console.error('Error during call to suggestCharts:', error);\n",
              "          }\n",
              "          quickchartButtonEl.classList.remove('colab-df-spinner');\n",
              "          quickchartButtonEl.classList.add('colab-df-quickchart-complete');\n",
              "        }\n",
              "        (() => {\n",
              "          let quickchartButtonEl =\n",
              "            document.querySelector('#df-5328182a-298f-43bc-a086-63499d4d8ccc button');\n",
              "          quickchartButtonEl.style.display =\n",
              "            google.colab.kernel.accessAllowed ? 'block' : 'none';\n",
              "        })();\n",
              "      </script>\n",
              "    </div>\n",
              "    </div>\n",
              "  </div>\n"
            ],
            "application/vnd.google.colaboratory.intrinsic+json": {
              "type": "dataframe",
              "summary": "{\n  \"name\": \"get_info_df(users)\",\n  \"rows\": 5,\n  \"fields\": [\n    {\n      \"column\": \"user_id\",\n      \"properties\": {\n        \"dtype\": \"number\",\n        \"std\": 1,\n        \"min\": 1,\n        \"max\": 5,\n        \"num_unique_values\": 5,\n        \"samples\": [\n          2,\n          5,\n          3\n        ],\n        \"semantic_type\": \"\",\n        \"description\": \"\"\n      }\n    },\n    {\n      \"column\": \"name\",\n      \"properties\": {\n        \"dtype\": \"string\",\n        \"num_unique_values\": 5,\n        \"samples\": [\n          \"\\u0421\\u0442\\u0430\\u043d\\u0438\\u0441\\u043b\\u0430\\u0432\",\n          \"\\u0410\\u0434\\u0435\\u043b\\u044c\",\n          \"\\u0410\\u043b\\u0435\\u043a\\u0441\\u0435\\u0439\"\n        ],\n        \"semantic_type\": \"\",\n        \"description\": \"\"\n      }\n    },\n    {\n      \"column\": \"age\",\n      \"properties\": {\n        \"dtype\": \"number\",\n        \"std\": 4,\n        \"min\": 20,\n        \"max\": 31,\n        \"num_unique_values\": 5,\n        \"samples\": [\n          31,\n          28,\n          20\n        ],\n        \"semantic_type\": \"\",\n        \"description\": \"\"\n      }\n    },\n    {\n      \"column\": \"city\",\n      \"properties\": {\n        \"dtype\": \"string\",\n        \"num_unique_values\": 4,\n        \"samples\": [\n          \"\\u041e\\u043c\\u0441\\u043a\",\n          \"\\u0420\\u043e\\u0441\\u0442\\u043e\\u0432-\\u043d\\u0430-\\u0414\\u043e\\u043d\\u0443\",\n          \"\\u0422\\u044e\\u043c\\u0435\\u043d\\u044c\"\n        ],\n        \"semantic_type\": \"\",\n        \"description\": \"\"\n      }\n    },\n    {\n      \"column\": \"subscription_type\",\n      \"properties\": {\n        \"dtype\": \"category\",\n        \"num_unique_values\": 1,\n        \"samples\": [\n          \"ultra\"\n        ],\n        \"semantic_type\": \"\",\n        \"description\": \"\"\n      }\n    }\n  ]\n}"
            }
          },
          "metadata": {}
        },
        {
          "output_type": "stream",
          "name": "stdout",
          "text": [
            "<class 'pandas.core.frame.DataFrame'>\n",
            "RangeIndex: 1565 entries, 0 to 1564\n",
            "Data columns (total 5 columns):\n",
            " #   Column             Non-Null Count  Dtype \n",
            "---  ------             --------------  ----- \n",
            " 0   user_id            1565 non-null   int64 \n",
            " 1   name               1565 non-null   object\n",
            " 2   age                1565 non-null   int64 \n",
            " 3   city               1565 non-null   object\n",
            " 4   subscription_type  1565 non-null   object\n",
            "dtypes: int64(2), object(3)\n",
            "memory usage: 61.3+ KB\n"
          ]
        },
        {
          "output_type": "display_data",
          "data": {
            "text/plain": [
              "None"
            ]
          },
          "metadata": {}
        }
      ],
      "source": [
        "get_info_df(users)"
      ]
    },
    {
      "cell_type": "code",
      "execution_count": null,
      "id": "a75bc890",
      "metadata": {
        "colab": {
          "base_uri": "https://localhost:8080/",
          "height": 425
        },
        "id": "a75bc890",
        "outputId": "87ac2670-cb94-4046-942f-02d1965ea0b8"
      },
      "outputs": [
        {
          "output_type": "display_data",
          "data": {
            "text/plain": [
              "   user_id  distance  duration        date\n",
              "0        1  4,409.92     25.60  2021-01-01\n",
              "1        1  2,617.59     15.82  2021-01-18\n",
              "2        1    754.16      6.23  2021-04-20\n",
              "3        1  2,694.78     18.51  2021-08-11\n",
              "4        1  4,028.69     26.27  2021-08-28"
            ],
            "text/html": [
              "\n",
              "  <div id=\"df-93889ac9-69cc-4d71-b818-85d578ecec6d\" class=\"colab-df-container\">\n",
              "    <div>\n",
              "<style scoped>\n",
              "    .dataframe tbody tr th:only-of-type {\n",
              "        vertical-align: middle;\n",
              "    }\n",
              "\n",
              "    .dataframe tbody tr th {\n",
              "        vertical-align: top;\n",
              "    }\n",
              "\n",
              "    .dataframe thead th {\n",
              "        text-align: right;\n",
              "    }\n",
              "</style>\n",
              "<table border=\"1\" class=\"dataframe\">\n",
              "  <thead>\n",
              "    <tr style=\"text-align: right;\">\n",
              "      <th></th>\n",
              "      <th>user_id</th>\n",
              "      <th>distance</th>\n",
              "      <th>duration</th>\n",
              "      <th>date</th>\n",
              "    </tr>\n",
              "  </thead>\n",
              "  <tbody>\n",
              "    <tr>\n",
              "      <th>0</th>\n",
              "      <td>1</td>\n",
              "      <td>4,409.92</td>\n",
              "      <td>25.60</td>\n",
              "      <td>2021-01-01</td>\n",
              "    </tr>\n",
              "    <tr>\n",
              "      <th>1</th>\n",
              "      <td>1</td>\n",
              "      <td>2,617.59</td>\n",
              "      <td>15.82</td>\n",
              "      <td>2021-01-18</td>\n",
              "    </tr>\n",
              "    <tr>\n",
              "      <th>2</th>\n",
              "      <td>1</td>\n",
              "      <td>754.16</td>\n",
              "      <td>6.23</td>\n",
              "      <td>2021-04-20</td>\n",
              "    </tr>\n",
              "    <tr>\n",
              "      <th>3</th>\n",
              "      <td>1</td>\n",
              "      <td>2,694.78</td>\n",
              "      <td>18.51</td>\n",
              "      <td>2021-08-11</td>\n",
              "    </tr>\n",
              "    <tr>\n",
              "      <th>4</th>\n",
              "      <td>1</td>\n",
              "      <td>4,028.69</td>\n",
              "      <td>26.27</td>\n",
              "      <td>2021-08-28</td>\n",
              "    </tr>\n",
              "  </tbody>\n",
              "</table>\n",
              "</div>\n",
              "    <div class=\"colab-df-buttons\">\n",
              "\n",
              "  <div class=\"colab-df-container\">\n",
              "    <button class=\"colab-df-convert\" onclick=\"convertToInteractive('df-93889ac9-69cc-4d71-b818-85d578ecec6d')\"\n",
              "            title=\"Convert this dataframe to an interactive table.\"\n",
              "            style=\"display:none;\">\n",
              "\n",
              "  <svg xmlns=\"http://www.w3.org/2000/svg\" height=\"24px\" viewBox=\"0 -960 960 960\">\n",
              "    <path d=\"M120-120v-720h720v720H120Zm60-500h600v-160H180v160Zm220 220h160v-160H400v160Zm0 220h160v-160H400v160ZM180-400h160v-160H180v160Zm440 0h160v-160H620v160ZM180-180h160v-160H180v160Zm440 0h160v-160H620v160Z\"/>\n",
              "  </svg>\n",
              "    </button>\n",
              "\n",
              "  <style>\n",
              "    .colab-df-container {\n",
              "      display:flex;\n",
              "      gap: 12px;\n",
              "    }\n",
              "\n",
              "    .colab-df-convert {\n",
              "      background-color: #E8F0FE;\n",
              "      border: none;\n",
              "      border-radius: 50%;\n",
              "      cursor: pointer;\n",
              "      display: none;\n",
              "      fill: #1967D2;\n",
              "      height: 32px;\n",
              "      padding: 0 0 0 0;\n",
              "      width: 32px;\n",
              "    }\n",
              "\n",
              "    .colab-df-convert:hover {\n",
              "      background-color: #E2EBFA;\n",
              "      box-shadow: 0px 1px 2px rgba(60, 64, 67, 0.3), 0px 1px 3px 1px rgba(60, 64, 67, 0.15);\n",
              "      fill: #174EA6;\n",
              "    }\n",
              "\n",
              "    .colab-df-buttons div {\n",
              "      margin-bottom: 4px;\n",
              "    }\n",
              "\n",
              "    [theme=dark] .colab-df-convert {\n",
              "      background-color: #3B4455;\n",
              "      fill: #D2E3FC;\n",
              "    }\n",
              "\n",
              "    [theme=dark] .colab-df-convert:hover {\n",
              "      background-color: #434B5C;\n",
              "      box-shadow: 0px 1px 3px 1px rgba(0, 0, 0, 0.15);\n",
              "      filter: drop-shadow(0px 1px 2px rgba(0, 0, 0, 0.3));\n",
              "      fill: #FFFFFF;\n",
              "    }\n",
              "  </style>\n",
              "\n",
              "    <script>\n",
              "      const buttonEl =\n",
              "        document.querySelector('#df-93889ac9-69cc-4d71-b818-85d578ecec6d button.colab-df-convert');\n",
              "      buttonEl.style.display =\n",
              "        google.colab.kernel.accessAllowed ? 'block' : 'none';\n",
              "\n",
              "      async function convertToInteractive(key) {\n",
              "        const element = document.querySelector('#df-93889ac9-69cc-4d71-b818-85d578ecec6d');\n",
              "        const dataTable =\n",
              "          await google.colab.kernel.invokeFunction('convertToInteractive',\n",
              "                                                    [key], {});\n",
              "        if (!dataTable) return;\n",
              "\n",
              "        const docLinkHtml = 'Like what you see? Visit the ' +\n",
              "          '<a target=\"_blank\" href=https://colab.research.google.com/notebooks/data_table.ipynb>data table notebook</a>'\n",
              "          + ' to learn more about interactive tables.';\n",
              "        element.innerHTML = '';\n",
              "        dataTable['output_type'] = 'display_data';\n",
              "        await google.colab.output.renderOutput(dataTable, element);\n",
              "        const docLink = document.createElement('div');\n",
              "        docLink.innerHTML = docLinkHtml;\n",
              "        element.appendChild(docLink);\n",
              "      }\n",
              "    </script>\n",
              "  </div>\n",
              "\n",
              "\n",
              "    <div id=\"df-de0aa5d5-47e5-430c-8cf8-a0e288d1958b\">\n",
              "      <button class=\"colab-df-quickchart\" onclick=\"quickchart('df-de0aa5d5-47e5-430c-8cf8-a0e288d1958b')\"\n",
              "                title=\"Suggest charts\"\n",
              "                style=\"display:none;\">\n",
              "\n",
              "<svg xmlns=\"http://www.w3.org/2000/svg\" height=\"24px\"viewBox=\"0 0 24 24\"\n",
              "     width=\"24px\">\n",
              "    <g>\n",
              "        <path d=\"M19 3H5c-1.1 0-2 .9-2 2v14c0 1.1.9 2 2 2h14c1.1 0 2-.9 2-2V5c0-1.1-.9-2-2-2zM9 17H7v-7h2v7zm4 0h-2V7h2v10zm4 0h-2v-4h2v4z\"/>\n",
              "    </g>\n",
              "</svg>\n",
              "      </button>\n",
              "\n",
              "<style>\n",
              "  .colab-df-quickchart {\n",
              "      --bg-color: #E8F0FE;\n",
              "      --fill-color: #1967D2;\n",
              "      --hover-bg-color: #E2EBFA;\n",
              "      --hover-fill-color: #174EA6;\n",
              "      --disabled-fill-color: #AAA;\n",
              "      --disabled-bg-color: #DDD;\n",
              "  }\n",
              "\n",
              "  [theme=dark] .colab-df-quickchart {\n",
              "      --bg-color: #3B4455;\n",
              "      --fill-color: #D2E3FC;\n",
              "      --hover-bg-color: #434B5C;\n",
              "      --hover-fill-color: #FFFFFF;\n",
              "      --disabled-bg-color: #3B4455;\n",
              "      --disabled-fill-color: #666;\n",
              "  }\n",
              "\n",
              "  .colab-df-quickchart {\n",
              "    background-color: var(--bg-color);\n",
              "    border: none;\n",
              "    border-radius: 50%;\n",
              "    cursor: pointer;\n",
              "    display: none;\n",
              "    fill: var(--fill-color);\n",
              "    height: 32px;\n",
              "    padding: 0;\n",
              "    width: 32px;\n",
              "  }\n",
              "\n",
              "  .colab-df-quickchart:hover {\n",
              "    background-color: var(--hover-bg-color);\n",
              "    box-shadow: 0 1px 2px rgba(60, 64, 67, 0.3), 0 1px 3px 1px rgba(60, 64, 67, 0.15);\n",
              "    fill: var(--button-hover-fill-color);\n",
              "  }\n",
              "\n",
              "  .colab-df-quickchart-complete:disabled,\n",
              "  .colab-df-quickchart-complete:disabled:hover {\n",
              "    background-color: var(--disabled-bg-color);\n",
              "    fill: var(--disabled-fill-color);\n",
              "    box-shadow: none;\n",
              "  }\n",
              "\n",
              "  .colab-df-spinner {\n",
              "    border: 2px solid var(--fill-color);\n",
              "    border-color: transparent;\n",
              "    border-bottom-color: var(--fill-color);\n",
              "    animation:\n",
              "      spin 1s steps(1) infinite;\n",
              "  }\n",
              "\n",
              "  @keyframes spin {\n",
              "    0% {\n",
              "      border-color: transparent;\n",
              "      border-bottom-color: var(--fill-color);\n",
              "      border-left-color: var(--fill-color);\n",
              "    }\n",
              "    20% {\n",
              "      border-color: transparent;\n",
              "      border-left-color: var(--fill-color);\n",
              "      border-top-color: var(--fill-color);\n",
              "    }\n",
              "    30% {\n",
              "      border-color: transparent;\n",
              "      border-left-color: var(--fill-color);\n",
              "      border-top-color: var(--fill-color);\n",
              "      border-right-color: var(--fill-color);\n",
              "    }\n",
              "    40% {\n",
              "      border-color: transparent;\n",
              "      border-right-color: var(--fill-color);\n",
              "      border-top-color: var(--fill-color);\n",
              "    }\n",
              "    60% {\n",
              "      border-color: transparent;\n",
              "      border-right-color: var(--fill-color);\n",
              "    }\n",
              "    80% {\n",
              "      border-color: transparent;\n",
              "      border-right-color: var(--fill-color);\n",
              "      border-bottom-color: var(--fill-color);\n",
              "    }\n",
              "    90% {\n",
              "      border-color: transparent;\n",
              "      border-bottom-color: var(--fill-color);\n",
              "    }\n",
              "  }\n",
              "</style>\n",
              "\n",
              "      <script>\n",
              "        async function quickchart(key) {\n",
              "          const quickchartButtonEl =\n",
              "            document.querySelector('#' + key + ' button');\n",
              "          quickchartButtonEl.disabled = true;  // To prevent multiple clicks.\n",
              "          quickchartButtonEl.classList.add('colab-df-spinner');\n",
              "          try {\n",
              "            const charts = await google.colab.kernel.invokeFunction(\n",
              "                'suggestCharts', [key], {});\n",
              "          } catch (error) {\n",
              "            console.error('Error during call to suggestCharts:', error);\n",
              "          }\n",
              "          quickchartButtonEl.classList.remove('colab-df-spinner');\n",
              "          quickchartButtonEl.classList.add('colab-df-quickchart-complete');\n",
              "        }\n",
              "        (() => {\n",
              "          let quickchartButtonEl =\n",
              "            document.querySelector('#df-de0aa5d5-47e5-430c-8cf8-a0e288d1958b button');\n",
              "          quickchartButtonEl.style.display =\n",
              "            google.colab.kernel.accessAllowed ? 'block' : 'none';\n",
              "        })();\n",
              "      </script>\n",
              "    </div>\n",
              "    </div>\n",
              "  </div>\n"
            ],
            "application/vnd.google.colaboratory.intrinsic+json": {
              "type": "dataframe",
              "summary": "{\n  \"name\": \"get_info_df(rides)\",\n  \"rows\": 5,\n  \"fields\": [\n    {\n      \"column\": \"user_id\",\n      \"properties\": {\n        \"dtype\": \"number\",\n        \"std\": 0,\n        \"min\": 1,\n        \"max\": 1,\n        \"num_unique_values\": 1,\n        \"samples\": [\n          1\n        ],\n        \"semantic_type\": \"\",\n        \"description\": \"\"\n      }\n    },\n    {\n      \"column\": \"distance\",\n      \"properties\": {\n        \"dtype\": \"number\",\n        \"std\": 1438.774113305551,\n        \"min\": 754.1598069611837,\n        \"max\": 4409.919140196136,\n        \"num_unique_values\": 5,\n        \"samples\": [\n          2617.5921534552563\n        ],\n        \"semantic_type\": \"\",\n        \"description\": \"\"\n      }\n    },\n    {\n      \"column\": \"duration\",\n      \"properties\": {\n        \"dtype\": \"number\",\n        \"std\": 8.191667157656862,\n        \"min\": 6.232113458405072,\n        \"max\": 26.265802740711653,\n        \"num_unique_values\": 5,\n        \"samples\": [\n          15.816871452122792\n        ],\n        \"semantic_type\": \"\",\n        \"description\": \"\"\n      }\n    },\n    {\n      \"column\": \"date\",\n      \"properties\": {\n        \"dtype\": \"object\",\n        \"num_unique_values\": 5,\n        \"samples\": [\n          \"2021-01-18\"\n        ],\n        \"semantic_type\": \"\",\n        \"description\": \"\"\n      }\n    }\n  ]\n}"
            }
          },
          "metadata": {}
        },
        {
          "output_type": "stream",
          "name": "stdout",
          "text": [
            "<class 'pandas.core.frame.DataFrame'>\n",
            "RangeIndex: 18068 entries, 0 to 18067\n",
            "Data columns (total 4 columns):\n",
            " #   Column    Non-Null Count  Dtype  \n",
            "---  ------    --------------  -----  \n",
            " 0   user_id   18068 non-null  int64  \n",
            " 1   distance  18068 non-null  float64\n",
            " 2   duration  18068 non-null  float64\n",
            " 3   date      18068 non-null  object \n",
            "dtypes: float64(2), int64(1), object(1)\n",
            "memory usage: 564.8+ KB\n"
          ]
        },
        {
          "output_type": "display_data",
          "data": {
            "text/plain": [
              "None"
            ]
          },
          "metadata": {}
        }
      ],
      "source": [
        "get_info_df(rides)"
      ]
    },
    {
      "cell_type": "code",
      "execution_count": null,
      "id": "5eeb7e20",
      "metadata": {
        "colab": {
          "base_uri": "https://localhost:8080/",
          "height": 331
        },
        "id": "5eeb7e20",
        "outputId": "003e158d-03fc-4909-bacb-b925bb844ea2"
      },
      "outputs": [
        {
          "output_type": "display_data",
          "data": {
            "text/plain": [
              "  subscription_type  minute_price  start_ride_price  subscription_fee\n",
              "0              free             8                50                 0\n",
              "1             ultra             6                 0               199"
            ],
            "text/html": [
              "\n",
              "  <div id=\"df-7c376d2b-5441-4ba7-ba2e-d1ae32b154c0\" class=\"colab-df-container\">\n",
              "    <div>\n",
              "<style scoped>\n",
              "    .dataframe tbody tr th:only-of-type {\n",
              "        vertical-align: middle;\n",
              "    }\n",
              "\n",
              "    .dataframe tbody tr th {\n",
              "        vertical-align: top;\n",
              "    }\n",
              "\n",
              "    .dataframe thead th {\n",
              "        text-align: right;\n",
              "    }\n",
              "</style>\n",
              "<table border=\"1\" class=\"dataframe\">\n",
              "  <thead>\n",
              "    <tr style=\"text-align: right;\">\n",
              "      <th></th>\n",
              "      <th>subscription_type</th>\n",
              "      <th>minute_price</th>\n",
              "      <th>start_ride_price</th>\n",
              "      <th>subscription_fee</th>\n",
              "    </tr>\n",
              "  </thead>\n",
              "  <tbody>\n",
              "    <tr>\n",
              "      <th>0</th>\n",
              "      <td>free</td>\n",
              "      <td>8</td>\n",
              "      <td>50</td>\n",
              "      <td>0</td>\n",
              "    </tr>\n",
              "    <tr>\n",
              "      <th>1</th>\n",
              "      <td>ultra</td>\n",
              "      <td>6</td>\n",
              "      <td>0</td>\n",
              "      <td>199</td>\n",
              "    </tr>\n",
              "  </tbody>\n",
              "</table>\n",
              "</div>\n",
              "    <div class=\"colab-df-buttons\">\n",
              "\n",
              "  <div class=\"colab-df-container\">\n",
              "    <button class=\"colab-df-convert\" onclick=\"convertToInteractive('df-7c376d2b-5441-4ba7-ba2e-d1ae32b154c0')\"\n",
              "            title=\"Convert this dataframe to an interactive table.\"\n",
              "            style=\"display:none;\">\n",
              "\n",
              "  <svg xmlns=\"http://www.w3.org/2000/svg\" height=\"24px\" viewBox=\"0 -960 960 960\">\n",
              "    <path d=\"M120-120v-720h720v720H120Zm60-500h600v-160H180v160Zm220 220h160v-160H400v160Zm0 220h160v-160H400v160ZM180-400h160v-160H180v160Zm440 0h160v-160H620v160ZM180-180h160v-160H180v160Zm440 0h160v-160H620v160Z\"/>\n",
              "  </svg>\n",
              "    </button>\n",
              "\n",
              "  <style>\n",
              "    .colab-df-container {\n",
              "      display:flex;\n",
              "      gap: 12px;\n",
              "    }\n",
              "\n",
              "    .colab-df-convert {\n",
              "      background-color: #E8F0FE;\n",
              "      border: none;\n",
              "      border-radius: 50%;\n",
              "      cursor: pointer;\n",
              "      display: none;\n",
              "      fill: #1967D2;\n",
              "      height: 32px;\n",
              "      padding: 0 0 0 0;\n",
              "      width: 32px;\n",
              "    }\n",
              "\n",
              "    .colab-df-convert:hover {\n",
              "      background-color: #E2EBFA;\n",
              "      box-shadow: 0px 1px 2px rgba(60, 64, 67, 0.3), 0px 1px 3px 1px rgba(60, 64, 67, 0.15);\n",
              "      fill: #174EA6;\n",
              "    }\n",
              "\n",
              "    .colab-df-buttons div {\n",
              "      margin-bottom: 4px;\n",
              "    }\n",
              "\n",
              "    [theme=dark] .colab-df-convert {\n",
              "      background-color: #3B4455;\n",
              "      fill: #D2E3FC;\n",
              "    }\n",
              "\n",
              "    [theme=dark] .colab-df-convert:hover {\n",
              "      background-color: #434B5C;\n",
              "      box-shadow: 0px 1px 3px 1px rgba(0, 0, 0, 0.15);\n",
              "      filter: drop-shadow(0px 1px 2px rgba(0, 0, 0, 0.3));\n",
              "      fill: #FFFFFF;\n",
              "    }\n",
              "  </style>\n",
              "\n",
              "    <script>\n",
              "      const buttonEl =\n",
              "        document.querySelector('#df-7c376d2b-5441-4ba7-ba2e-d1ae32b154c0 button.colab-df-convert');\n",
              "      buttonEl.style.display =\n",
              "        google.colab.kernel.accessAllowed ? 'block' : 'none';\n",
              "\n",
              "      async function convertToInteractive(key) {\n",
              "        const element = document.querySelector('#df-7c376d2b-5441-4ba7-ba2e-d1ae32b154c0');\n",
              "        const dataTable =\n",
              "          await google.colab.kernel.invokeFunction('convertToInteractive',\n",
              "                                                    [key], {});\n",
              "        if (!dataTable) return;\n",
              "\n",
              "        const docLinkHtml = 'Like what you see? Visit the ' +\n",
              "          '<a target=\"_blank\" href=https://colab.research.google.com/notebooks/data_table.ipynb>data table notebook</a>'\n",
              "          + ' to learn more about interactive tables.';\n",
              "        element.innerHTML = '';\n",
              "        dataTable['output_type'] = 'display_data';\n",
              "        await google.colab.output.renderOutput(dataTable, element);\n",
              "        const docLink = document.createElement('div');\n",
              "        docLink.innerHTML = docLinkHtml;\n",
              "        element.appendChild(docLink);\n",
              "      }\n",
              "    </script>\n",
              "  </div>\n",
              "\n",
              "\n",
              "    <div id=\"df-48365163-76a7-4168-b9ef-b4032efb5911\">\n",
              "      <button class=\"colab-df-quickchart\" onclick=\"quickchart('df-48365163-76a7-4168-b9ef-b4032efb5911')\"\n",
              "                title=\"Suggest charts\"\n",
              "                style=\"display:none;\">\n",
              "\n",
              "<svg xmlns=\"http://www.w3.org/2000/svg\" height=\"24px\"viewBox=\"0 0 24 24\"\n",
              "     width=\"24px\">\n",
              "    <g>\n",
              "        <path d=\"M19 3H5c-1.1 0-2 .9-2 2v14c0 1.1.9 2 2 2h14c1.1 0 2-.9 2-2V5c0-1.1-.9-2-2-2zM9 17H7v-7h2v7zm4 0h-2V7h2v10zm4 0h-2v-4h2v4z\"/>\n",
              "    </g>\n",
              "</svg>\n",
              "      </button>\n",
              "\n",
              "<style>\n",
              "  .colab-df-quickchart {\n",
              "      --bg-color: #E8F0FE;\n",
              "      --fill-color: #1967D2;\n",
              "      --hover-bg-color: #E2EBFA;\n",
              "      --hover-fill-color: #174EA6;\n",
              "      --disabled-fill-color: #AAA;\n",
              "      --disabled-bg-color: #DDD;\n",
              "  }\n",
              "\n",
              "  [theme=dark] .colab-df-quickchart {\n",
              "      --bg-color: #3B4455;\n",
              "      --fill-color: #D2E3FC;\n",
              "      --hover-bg-color: #434B5C;\n",
              "      --hover-fill-color: #FFFFFF;\n",
              "      --disabled-bg-color: #3B4455;\n",
              "      --disabled-fill-color: #666;\n",
              "  }\n",
              "\n",
              "  .colab-df-quickchart {\n",
              "    background-color: var(--bg-color);\n",
              "    border: none;\n",
              "    border-radius: 50%;\n",
              "    cursor: pointer;\n",
              "    display: none;\n",
              "    fill: var(--fill-color);\n",
              "    height: 32px;\n",
              "    padding: 0;\n",
              "    width: 32px;\n",
              "  }\n",
              "\n",
              "  .colab-df-quickchart:hover {\n",
              "    background-color: var(--hover-bg-color);\n",
              "    box-shadow: 0 1px 2px rgba(60, 64, 67, 0.3), 0 1px 3px 1px rgba(60, 64, 67, 0.15);\n",
              "    fill: var(--button-hover-fill-color);\n",
              "  }\n",
              "\n",
              "  .colab-df-quickchart-complete:disabled,\n",
              "  .colab-df-quickchart-complete:disabled:hover {\n",
              "    background-color: var(--disabled-bg-color);\n",
              "    fill: var(--disabled-fill-color);\n",
              "    box-shadow: none;\n",
              "  }\n",
              "\n",
              "  .colab-df-spinner {\n",
              "    border: 2px solid var(--fill-color);\n",
              "    border-color: transparent;\n",
              "    border-bottom-color: var(--fill-color);\n",
              "    animation:\n",
              "      spin 1s steps(1) infinite;\n",
              "  }\n",
              "\n",
              "  @keyframes spin {\n",
              "    0% {\n",
              "      border-color: transparent;\n",
              "      border-bottom-color: var(--fill-color);\n",
              "      border-left-color: var(--fill-color);\n",
              "    }\n",
              "    20% {\n",
              "      border-color: transparent;\n",
              "      border-left-color: var(--fill-color);\n",
              "      border-top-color: var(--fill-color);\n",
              "    }\n",
              "    30% {\n",
              "      border-color: transparent;\n",
              "      border-left-color: var(--fill-color);\n",
              "      border-top-color: var(--fill-color);\n",
              "      border-right-color: var(--fill-color);\n",
              "    }\n",
              "    40% {\n",
              "      border-color: transparent;\n",
              "      border-right-color: var(--fill-color);\n",
              "      border-top-color: var(--fill-color);\n",
              "    }\n",
              "    60% {\n",
              "      border-color: transparent;\n",
              "      border-right-color: var(--fill-color);\n",
              "    }\n",
              "    80% {\n",
              "      border-color: transparent;\n",
              "      border-right-color: var(--fill-color);\n",
              "      border-bottom-color: var(--fill-color);\n",
              "    }\n",
              "    90% {\n",
              "      border-color: transparent;\n",
              "      border-bottom-color: var(--fill-color);\n",
              "    }\n",
              "  }\n",
              "</style>\n",
              "\n",
              "      <script>\n",
              "        async function quickchart(key) {\n",
              "          const quickchartButtonEl =\n",
              "            document.querySelector('#' + key + ' button');\n",
              "          quickchartButtonEl.disabled = true;  // To prevent multiple clicks.\n",
              "          quickchartButtonEl.classList.add('colab-df-spinner');\n",
              "          try {\n",
              "            const charts = await google.colab.kernel.invokeFunction(\n",
              "                'suggestCharts', [key], {});\n",
              "          } catch (error) {\n",
              "            console.error('Error during call to suggestCharts:', error);\n",
              "          }\n",
              "          quickchartButtonEl.classList.remove('colab-df-spinner');\n",
              "          quickchartButtonEl.classList.add('colab-df-quickchart-complete');\n",
              "        }\n",
              "        (() => {\n",
              "          let quickchartButtonEl =\n",
              "            document.querySelector('#df-48365163-76a7-4168-b9ef-b4032efb5911 button');\n",
              "          quickchartButtonEl.style.display =\n",
              "            google.colab.kernel.accessAllowed ? 'block' : 'none';\n",
              "        })();\n",
              "      </script>\n",
              "    </div>\n",
              "    </div>\n",
              "  </div>\n"
            ],
            "application/vnd.google.colaboratory.intrinsic+json": {
              "type": "dataframe",
              "summary": "{\n  \"name\": \"get_info_df(subscriptions)\",\n  \"rows\": 2,\n  \"fields\": [\n    {\n      \"column\": \"subscription_type\",\n      \"properties\": {\n        \"dtype\": \"string\",\n        \"num_unique_values\": 2,\n        \"samples\": [\n          \"ultra\",\n          \"free\"\n        ],\n        \"semantic_type\": \"\",\n        \"description\": \"\"\n      }\n    },\n    {\n      \"column\": \"minute_price\",\n      \"properties\": {\n        \"dtype\": \"number\",\n        \"std\": 1,\n        \"min\": 6,\n        \"max\": 8,\n        \"num_unique_values\": 2,\n        \"samples\": [\n          6,\n          8\n        ],\n        \"semantic_type\": \"\",\n        \"description\": \"\"\n      }\n    },\n    {\n      \"column\": \"start_ride_price\",\n      \"properties\": {\n        \"dtype\": \"number\",\n        \"std\": 35,\n        \"min\": 0,\n        \"max\": 50,\n        \"num_unique_values\": 2,\n        \"samples\": [\n          0,\n          50\n        ],\n        \"semantic_type\": \"\",\n        \"description\": \"\"\n      }\n    },\n    {\n      \"column\": \"subscription_fee\",\n      \"properties\": {\n        \"dtype\": \"number\",\n        \"std\": 140,\n        \"min\": 0,\n        \"max\": 199,\n        \"num_unique_values\": 2,\n        \"samples\": [\n          199,\n          0\n        ],\n        \"semantic_type\": \"\",\n        \"description\": \"\"\n      }\n    }\n  ]\n}"
            }
          },
          "metadata": {}
        },
        {
          "output_type": "stream",
          "name": "stdout",
          "text": [
            "<class 'pandas.core.frame.DataFrame'>\n",
            "RangeIndex: 2 entries, 0 to 1\n",
            "Data columns (total 4 columns):\n",
            " #   Column             Non-Null Count  Dtype \n",
            "---  ------             --------------  ----- \n",
            " 0   subscription_type  2 non-null      object\n",
            " 1   minute_price       2 non-null      int64 \n",
            " 2   start_ride_price   2 non-null      int64 \n",
            " 3   subscription_fee   2 non-null      int64 \n",
            "dtypes: int64(3), object(1)\n",
            "memory usage: 196.0+ bytes\n"
          ]
        },
        {
          "output_type": "display_data",
          "data": {
            "text/plain": [
              "None"
            ]
          },
          "metadata": {}
        }
      ],
      "source": [
        "get_info_df(subscriptions)"
      ]
    },
    {
      "cell_type": "markdown",
      "id": "4f9cad0f",
      "metadata": {
        "id": "4f9cad0f"
      },
      "source": [
        "**Вывод по разделу \"Загрузка данных\":**\n",
        "\n",
        "1. В представленных данных есть информация о 1565 пользователях сервиса, о 18068 совершенных ими поездках, и типах подписки при использовании мобильного приложения сервиса.\n",
        "2. В столбце `date` установлен формат данных `object`, приведем столбец к типу даты pandas в разделе \"Предобработка данных\""
      ]
    },
    {
      "cell_type": "markdown",
      "id": "e22eeeed",
      "metadata": {
        "id": "e22eeeed"
      },
      "source": [
        "## Предобработка данных"
      ]
    },
    {
      "cell_type": "code",
      "execution_count": null,
      "id": "ac3a0fba",
      "metadata": {
        "colab": {
          "base_uri": "https://localhost:8080/"
        },
        "id": "ac3a0fba",
        "outputId": "cb729da8-3a7d-42d3-e4c7-b70bce5a1031"
      },
      "outputs": [
        {
          "output_type": "execute_result",
          "data": {
            "text/plain": [
              "(1565, 18068)"
            ]
          },
          "metadata": {},
          "execution_count": 8
        }
      ],
      "source": [
        "# сделаем контроль размера датасетов до и после обработки.\n",
        "users_copy, rides_copy = users.copy(), rides.copy()\n",
        "len(users_copy), len(rides_copy)"
      ]
    },
    {
      "cell_type": "markdown",
      "id": "58fc9fbb",
      "metadata": {
        "id": "58fc9fbb"
      },
      "source": [
        "### Приведем столбцы к нужному формату"
      ]
    },
    {
      "cell_type": "code",
      "execution_count": null,
      "id": "0684cf09",
      "metadata": {
        "colab": {
          "base_uri": "https://localhost:8080/",
          "height": 241
        },
        "id": "0684cf09",
        "outputId": "35d03b65-fdfe-48e8-af0a-30199efa8522"
      },
      "outputs": [
        {
          "output_type": "display_data",
          "data": {
            "text/plain": [
              "0   2021-01-01\n",
              "1   2021-01-18\n",
              "2   2021-04-20\n",
              "3   2021-08-11\n",
              "4   2021-08-28\n",
              "Name: date, dtype: datetime64[ns]"
            ],
            "text/html": [
              "<div>\n",
              "<style scoped>\n",
              "    .dataframe tbody tr th:only-of-type {\n",
              "        vertical-align: middle;\n",
              "    }\n",
              "\n",
              "    .dataframe tbody tr th {\n",
              "        vertical-align: top;\n",
              "    }\n",
              "\n",
              "    .dataframe thead th {\n",
              "        text-align: right;\n",
              "    }\n",
              "</style>\n",
              "<table border=\"1\" class=\"dataframe\">\n",
              "  <thead>\n",
              "    <tr style=\"text-align: right;\">\n",
              "      <th></th>\n",
              "      <th>date</th>\n",
              "    </tr>\n",
              "  </thead>\n",
              "  <tbody>\n",
              "    <tr>\n",
              "      <th>0</th>\n",
              "      <td>2021-01-01</td>\n",
              "    </tr>\n",
              "    <tr>\n",
              "      <th>1</th>\n",
              "      <td>2021-01-18</td>\n",
              "    </tr>\n",
              "    <tr>\n",
              "      <th>2</th>\n",
              "      <td>2021-04-20</td>\n",
              "    </tr>\n",
              "    <tr>\n",
              "      <th>3</th>\n",
              "      <td>2021-08-11</td>\n",
              "    </tr>\n",
              "    <tr>\n",
              "      <th>4</th>\n",
              "      <td>2021-08-28</td>\n",
              "    </tr>\n",
              "  </tbody>\n",
              "</table>\n",
              "</div><br><label><b>dtype:</b> datetime64[ns]</label>"
            ]
          },
          "metadata": {}
        }
      ],
      "source": [
        "# приведем даты к формату datetime\n",
        "rides['date'] = pd.to_datetime(rides['date'])\n",
        "display(rides['date'].head())"
      ]
    },
    {
      "cell_type": "markdown",
      "id": "812607f4",
      "metadata": {
        "id": "812607f4"
      },
      "source": [
        "### Создадим новые столбцы"
      ]
    },
    {
      "cell_type": "code",
      "execution_count": null,
      "id": "45f5d9c5",
      "metadata": {
        "colab": {
          "base_uri": "https://localhost:8080/",
          "height": 241
        },
        "id": "45f5d9c5",
        "outputId": "2233aa39-5132-4b2d-ece0-f618f5bf1c87"
      },
      "outputs": [
        {
          "output_type": "execute_result",
          "data": {
            "text/plain": [
              "0    2021-01\n",
              "1    2021-01\n",
              "2    2021-04\n",
              "3    2021-08\n",
              "4    2021-08\n",
              "Name: month, dtype: period[M]"
            ],
            "text/html": [
              "<div>\n",
              "<style scoped>\n",
              "    .dataframe tbody tr th:only-of-type {\n",
              "        vertical-align: middle;\n",
              "    }\n",
              "\n",
              "    .dataframe tbody tr th {\n",
              "        vertical-align: top;\n",
              "    }\n",
              "\n",
              "    .dataframe thead th {\n",
              "        text-align: right;\n",
              "    }\n",
              "</style>\n",
              "<table border=\"1\" class=\"dataframe\">\n",
              "  <thead>\n",
              "    <tr style=\"text-align: right;\">\n",
              "      <th></th>\n",
              "      <th>month</th>\n",
              "    </tr>\n",
              "  </thead>\n",
              "  <tbody>\n",
              "    <tr>\n",
              "      <th>0</th>\n",
              "      <td>2021-01</td>\n",
              "    </tr>\n",
              "    <tr>\n",
              "      <th>1</th>\n",
              "      <td>2021-01</td>\n",
              "    </tr>\n",
              "    <tr>\n",
              "      <th>2</th>\n",
              "      <td>2021-04</td>\n",
              "    </tr>\n",
              "    <tr>\n",
              "      <th>3</th>\n",
              "      <td>2021-08</td>\n",
              "    </tr>\n",
              "    <tr>\n",
              "      <th>4</th>\n",
              "      <td>2021-08</td>\n",
              "    </tr>\n",
              "  </tbody>\n",
              "</table>\n",
              "</div><br><label><b>dtype:</b> period[M]</label>"
            ]
          },
          "metadata": {},
          "execution_count": 10
        }
      ],
      "source": [
        "# cоздадим новый столбец с номером месяца на основе столбца `date`\n",
        "rides['month']=rides['date'].dt.to_period('M')\n",
        "rides['month'].head()"
      ]
    },
    {
      "cell_type": "markdown",
      "id": "1c390d5e",
      "metadata": {
        "id": "1c390d5e"
      },
      "source": [
        "### Изучим пропуски в данных"
      ]
    },
    {
      "cell_type": "code",
      "execution_count": null,
      "id": "aab01af4",
      "metadata": {
        "colab": {
          "base_uri": "https://localhost:8080/"
        },
        "id": "aab01af4",
        "outputId": "5556799b-9b3a-426d-d373-9a7984928648"
      },
      "outputs": [
        {
          "output_type": "execute_result",
          "data": {
            "text/plain": [
              "(user_id              0\n",
              " name                 0\n",
              " age                  0\n",
              " city                 0\n",
              " subscription_type    0\n",
              " dtype: int64,\n",
              " user_id     0\n",
              " distance    0\n",
              " duration    0\n",
              " date        0\n",
              " month       0\n",
              " dtype: int64)"
            ]
          },
          "metadata": {},
          "execution_count": 11
        }
      ],
      "source": [
        "users.isna().sum(), rides.isna().sum()"
      ]
    },
    {
      "cell_type": "markdown",
      "id": "d2596625",
      "metadata": {
        "id": "d2596625"
      },
      "source": [
        "### Изучим дубликаты"
      ]
    },
    {
      "cell_type": "code",
      "execution_count": null,
      "id": "ef4c2d1a",
      "metadata": {
        "colab": {
          "base_uri": "https://localhost:8080/"
        },
        "id": "ef4c2d1a",
        "outputId": "4637b0b5-38f4-445a-d156-2050c0f1ffef"
      },
      "outputs": [
        {
          "output_type": "execute_result",
          "data": {
            "text/plain": [
              "(np.int64(31), np.int64(0))"
            ]
          },
          "metadata": {},
          "execution_count": 12
        }
      ],
      "source": [
        "users.duplicated().sum(), rides.duplicated().sum()"
      ]
    },
    {
      "cell_type": "code",
      "execution_count": null,
      "id": "3a38820f",
      "metadata": {
        "scrolled": true,
        "colab": {
          "base_uri": "https://localhost:8080/",
          "height": 1000
        },
        "id": "3a38820f",
        "outputId": "cebf482d-2588-4564-8ca5-5e70ce7eb552"
      },
      "outputs": [
        {
          "output_type": "execute_result",
          "data": {
            "text/plain": [
              "      user_id        name  age            city subscription_type\n",
              "15         16      Амалия   27       Краснодар             ultra\n",
              "1535       16      Амалия   27       Краснодар             ultra\n",
              "1539       43    Стефания   22            Омск             ultra\n",
              "42         43    Стефания   22            Омск             ultra\n",
              "46         47        Юрий   28          Тюмень             ultra\n",
              "1563       47        Юрий   28          Тюмень             ultra\n",
              "1555       72      Никита   25          Москва             ultra\n",
              "71         72      Никита   25          Москва             ultra\n",
              "107       108       Влада   29          Тюмень             ultra\n",
              "1549      108       Влада   29          Тюмень             ultra\n",
              "1553      121       Алина   25       Пятигорск             ultra\n",
              "120       121       Алина   25       Пятигорск             ultra\n",
              "126       127       Павел   25       Пятигорск             ultra\n",
              "1540      127       Павел   25       Пятигорск             ultra\n",
              "1548      136     Марсель   25          Тюмень             ultra\n",
              "135       136     Марсель   25          Тюмень             ultra\n",
              "152       153      Герман   23          Москва             ultra\n",
              "1543      153      Герман   23          Москва             ultra\n",
              "1542      204      Руслан   30       Пятигорск             ultra\n",
              "203       204      Руслан   30       Пятигорск             ultra\n",
              "208       209      Андрей   23            Омск             ultra\n",
              "1559      209      Андрей   23            Омск             ultra\n",
              "1534      293       Агата   26       Краснодар             ultra\n",
              "292       293       Агата   26       Краснодар             ultra\n",
              "1552      297        Егор   33       Пятигорск             ultra\n",
              "296       297        Егор   33       Пятигорск             ultra\n",
              "306       307      Ясмина   19       Краснодар             ultra\n",
              "1562      307      Ясмина   19       Краснодар             ultra\n",
              "1537      403      Полина   19            Сочи             ultra\n",
              "402       403      Полина   19            Сочи             ultra\n",
              "421       422      Кирилл   27            Сочи             ultra\n",
              "1556      422      Кирилл   27            Сочи             ultra\n",
              "610       611    Владимир   28            Омск             ultra\n",
              "1557      611    Владимир   28            Омск             ultra\n",
              "1547      635      Герман   21          Москва             ultra\n",
              "634       635      Герман   21          Москва             ultra\n",
              "658       659       Злата   27  Ростов-на-Дону             ultra\n",
              "1541      659       Злата   27  Ростов-на-Дону             ultra\n",
              "1551      666      Зарина   29          Москва             ultra\n",
              "665       666      Зарина   29          Москва             ultra\n",
              "736       737     Мелания   27  Ростов-на-Дону              free\n",
              "1550      737     Мелания   27  Ростов-на-Дону              free\n",
              "1545      807   Александр   28    Екатеринбург              free\n",
              "806       807   Александр   28    Екатеринбург              free\n",
              "808       809        Юрий   26            Сочи              free\n",
              "1561      809        Юрий   26            Сочи              free\n",
              "1560      829       Федор   29       Пятигорск              free\n",
              "828       829       Федор   29       Пятигорск              free\n",
              "907       908      Рустам   30          Тюмень              free\n",
              "1538      908      Рустам   30          Тюмень              free\n",
              "1536      909  Константин   20    Екатеринбург              free\n",
              "908       909  Константин   20    Екатеринбург              free\n",
              "923       924       Мария   23       Пятигорск              free\n",
              "1546      924       Мария   23       Пятигорск              free\n",
              "1564     1045     Артемий   28  Ростов-на-Дону              free\n",
              "1044     1045     Артемий   28  Ростов-на-Дону              free\n",
              "1197     1198       Демид   29  Ростов-на-Дону              free\n",
              "1554     1198       Демид   29  Ростов-на-Дону              free\n",
              "1558     1237     Евгения   23          Тюмень              free\n",
              "1236     1237     Евгения   23          Тюмень              free\n",
              "1244     1245      Регина   27       Пятигорск              free\n",
              "1544     1245      Регина   27       Пятигорск              free"
            ],
            "text/html": [
              "\n",
              "  <div id=\"df-2022ef57-4716-4024-a83b-d3a0bd01a743\" class=\"colab-df-container\">\n",
              "    <div>\n",
              "<style scoped>\n",
              "    .dataframe tbody tr th:only-of-type {\n",
              "        vertical-align: middle;\n",
              "    }\n",
              "\n",
              "    .dataframe tbody tr th {\n",
              "        vertical-align: top;\n",
              "    }\n",
              "\n",
              "    .dataframe thead th {\n",
              "        text-align: right;\n",
              "    }\n",
              "</style>\n",
              "<table border=\"1\" class=\"dataframe\">\n",
              "  <thead>\n",
              "    <tr style=\"text-align: right;\">\n",
              "      <th></th>\n",
              "      <th>user_id</th>\n",
              "      <th>name</th>\n",
              "      <th>age</th>\n",
              "      <th>city</th>\n",
              "      <th>subscription_type</th>\n",
              "    </tr>\n",
              "  </thead>\n",
              "  <tbody>\n",
              "    <tr>\n",
              "      <th>15</th>\n",
              "      <td>16</td>\n",
              "      <td>Амалия</td>\n",
              "      <td>27</td>\n",
              "      <td>Краснодар</td>\n",
              "      <td>ultra</td>\n",
              "    </tr>\n",
              "    <tr>\n",
              "      <th>1535</th>\n",
              "      <td>16</td>\n",
              "      <td>Амалия</td>\n",
              "      <td>27</td>\n",
              "      <td>Краснодар</td>\n",
              "      <td>ultra</td>\n",
              "    </tr>\n",
              "    <tr>\n",
              "      <th>1539</th>\n",
              "      <td>43</td>\n",
              "      <td>Стефания</td>\n",
              "      <td>22</td>\n",
              "      <td>Омск</td>\n",
              "      <td>ultra</td>\n",
              "    </tr>\n",
              "    <tr>\n",
              "      <th>42</th>\n",
              "      <td>43</td>\n",
              "      <td>Стефания</td>\n",
              "      <td>22</td>\n",
              "      <td>Омск</td>\n",
              "      <td>ultra</td>\n",
              "    </tr>\n",
              "    <tr>\n",
              "      <th>46</th>\n",
              "      <td>47</td>\n",
              "      <td>Юрий</td>\n",
              "      <td>28</td>\n",
              "      <td>Тюмень</td>\n",
              "      <td>ultra</td>\n",
              "    </tr>\n",
              "    <tr>\n",
              "      <th>1563</th>\n",
              "      <td>47</td>\n",
              "      <td>Юрий</td>\n",
              "      <td>28</td>\n",
              "      <td>Тюмень</td>\n",
              "      <td>ultra</td>\n",
              "    </tr>\n",
              "    <tr>\n",
              "      <th>1555</th>\n",
              "      <td>72</td>\n",
              "      <td>Никита</td>\n",
              "      <td>25</td>\n",
              "      <td>Москва</td>\n",
              "      <td>ultra</td>\n",
              "    </tr>\n",
              "    <tr>\n",
              "      <th>71</th>\n",
              "      <td>72</td>\n",
              "      <td>Никита</td>\n",
              "      <td>25</td>\n",
              "      <td>Москва</td>\n",
              "      <td>ultra</td>\n",
              "    </tr>\n",
              "    <tr>\n",
              "      <th>107</th>\n",
              "      <td>108</td>\n",
              "      <td>Влада</td>\n",
              "      <td>29</td>\n",
              "      <td>Тюмень</td>\n",
              "      <td>ultra</td>\n",
              "    </tr>\n",
              "    <tr>\n",
              "      <th>1549</th>\n",
              "      <td>108</td>\n",
              "      <td>Влада</td>\n",
              "      <td>29</td>\n",
              "      <td>Тюмень</td>\n",
              "      <td>ultra</td>\n",
              "    </tr>\n",
              "    <tr>\n",
              "      <th>1553</th>\n",
              "      <td>121</td>\n",
              "      <td>Алина</td>\n",
              "      <td>25</td>\n",
              "      <td>Пятигорск</td>\n",
              "      <td>ultra</td>\n",
              "    </tr>\n",
              "    <tr>\n",
              "      <th>120</th>\n",
              "      <td>121</td>\n",
              "      <td>Алина</td>\n",
              "      <td>25</td>\n",
              "      <td>Пятигорск</td>\n",
              "      <td>ultra</td>\n",
              "    </tr>\n",
              "    <tr>\n",
              "      <th>126</th>\n",
              "      <td>127</td>\n",
              "      <td>Павел</td>\n",
              "      <td>25</td>\n",
              "      <td>Пятигорск</td>\n",
              "      <td>ultra</td>\n",
              "    </tr>\n",
              "    <tr>\n",
              "      <th>1540</th>\n",
              "      <td>127</td>\n",
              "      <td>Павел</td>\n",
              "      <td>25</td>\n",
              "      <td>Пятигорск</td>\n",
              "      <td>ultra</td>\n",
              "    </tr>\n",
              "    <tr>\n",
              "      <th>1548</th>\n",
              "      <td>136</td>\n",
              "      <td>Марсель</td>\n",
              "      <td>25</td>\n",
              "      <td>Тюмень</td>\n",
              "      <td>ultra</td>\n",
              "    </tr>\n",
              "    <tr>\n",
              "      <th>135</th>\n",
              "      <td>136</td>\n",
              "      <td>Марсель</td>\n",
              "      <td>25</td>\n",
              "      <td>Тюмень</td>\n",
              "      <td>ultra</td>\n",
              "    </tr>\n",
              "    <tr>\n",
              "      <th>152</th>\n",
              "      <td>153</td>\n",
              "      <td>Герман</td>\n",
              "      <td>23</td>\n",
              "      <td>Москва</td>\n",
              "      <td>ultra</td>\n",
              "    </tr>\n",
              "    <tr>\n",
              "      <th>1543</th>\n",
              "      <td>153</td>\n",
              "      <td>Герман</td>\n",
              "      <td>23</td>\n",
              "      <td>Москва</td>\n",
              "      <td>ultra</td>\n",
              "    </tr>\n",
              "    <tr>\n",
              "      <th>1542</th>\n",
              "      <td>204</td>\n",
              "      <td>Руслан</td>\n",
              "      <td>30</td>\n",
              "      <td>Пятигорск</td>\n",
              "      <td>ultra</td>\n",
              "    </tr>\n",
              "    <tr>\n",
              "      <th>203</th>\n",
              "      <td>204</td>\n",
              "      <td>Руслан</td>\n",
              "      <td>30</td>\n",
              "      <td>Пятигорск</td>\n",
              "      <td>ultra</td>\n",
              "    </tr>\n",
              "    <tr>\n",
              "      <th>208</th>\n",
              "      <td>209</td>\n",
              "      <td>Андрей</td>\n",
              "      <td>23</td>\n",
              "      <td>Омск</td>\n",
              "      <td>ultra</td>\n",
              "    </tr>\n",
              "    <tr>\n",
              "      <th>1559</th>\n",
              "      <td>209</td>\n",
              "      <td>Андрей</td>\n",
              "      <td>23</td>\n",
              "      <td>Омск</td>\n",
              "      <td>ultra</td>\n",
              "    </tr>\n",
              "    <tr>\n",
              "      <th>1534</th>\n",
              "      <td>293</td>\n",
              "      <td>Агата</td>\n",
              "      <td>26</td>\n",
              "      <td>Краснодар</td>\n",
              "      <td>ultra</td>\n",
              "    </tr>\n",
              "    <tr>\n",
              "      <th>292</th>\n",
              "      <td>293</td>\n",
              "      <td>Агата</td>\n",
              "      <td>26</td>\n",
              "      <td>Краснодар</td>\n",
              "      <td>ultra</td>\n",
              "    </tr>\n",
              "    <tr>\n",
              "      <th>1552</th>\n",
              "      <td>297</td>\n",
              "      <td>Егор</td>\n",
              "      <td>33</td>\n",
              "      <td>Пятигорск</td>\n",
              "      <td>ultra</td>\n",
              "    </tr>\n",
              "    <tr>\n",
              "      <th>296</th>\n",
              "      <td>297</td>\n",
              "      <td>Егор</td>\n",
              "      <td>33</td>\n",
              "      <td>Пятигорск</td>\n",
              "      <td>ultra</td>\n",
              "    </tr>\n",
              "    <tr>\n",
              "      <th>306</th>\n",
              "      <td>307</td>\n",
              "      <td>Ясмина</td>\n",
              "      <td>19</td>\n",
              "      <td>Краснодар</td>\n",
              "      <td>ultra</td>\n",
              "    </tr>\n",
              "    <tr>\n",
              "      <th>1562</th>\n",
              "      <td>307</td>\n",
              "      <td>Ясмина</td>\n",
              "      <td>19</td>\n",
              "      <td>Краснодар</td>\n",
              "      <td>ultra</td>\n",
              "    </tr>\n",
              "    <tr>\n",
              "      <th>1537</th>\n",
              "      <td>403</td>\n",
              "      <td>Полина</td>\n",
              "      <td>19</td>\n",
              "      <td>Сочи</td>\n",
              "      <td>ultra</td>\n",
              "    </tr>\n",
              "    <tr>\n",
              "      <th>402</th>\n",
              "      <td>403</td>\n",
              "      <td>Полина</td>\n",
              "      <td>19</td>\n",
              "      <td>Сочи</td>\n",
              "      <td>ultra</td>\n",
              "    </tr>\n",
              "    <tr>\n",
              "      <th>421</th>\n",
              "      <td>422</td>\n",
              "      <td>Кирилл</td>\n",
              "      <td>27</td>\n",
              "      <td>Сочи</td>\n",
              "      <td>ultra</td>\n",
              "    </tr>\n",
              "    <tr>\n",
              "      <th>1556</th>\n",
              "      <td>422</td>\n",
              "      <td>Кирилл</td>\n",
              "      <td>27</td>\n",
              "      <td>Сочи</td>\n",
              "      <td>ultra</td>\n",
              "    </tr>\n",
              "    <tr>\n",
              "      <th>610</th>\n",
              "      <td>611</td>\n",
              "      <td>Владимир</td>\n",
              "      <td>28</td>\n",
              "      <td>Омск</td>\n",
              "      <td>ultra</td>\n",
              "    </tr>\n",
              "    <tr>\n",
              "      <th>1557</th>\n",
              "      <td>611</td>\n",
              "      <td>Владимир</td>\n",
              "      <td>28</td>\n",
              "      <td>Омск</td>\n",
              "      <td>ultra</td>\n",
              "    </tr>\n",
              "    <tr>\n",
              "      <th>1547</th>\n",
              "      <td>635</td>\n",
              "      <td>Герман</td>\n",
              "      <td>21</td>\n",
              "      <td>Москва</td>\n",
              "      <td>ultra</td>\n",
              "    </tr>\n",
              "    <tr>\n",
              "      <th>634</th>\n",
              "      <td>635</td>\n",
              "      <td>Герман</td>\n",
              "      <td>21</td>\n",
              "      <td>Москва</td>\n",
              "      <td>ultra</td>\n",
              "    </tr>\n",
              "    <tr>\n",
              "      <th>658</th>\n",
              "      <td>659</td>\n",
              "      <td>Злата</td>\n",
              "      <td>27</td>\n",
              "      <td>Ростов-на-Дону</td>\n",
              "      <td>ultra</td>\n",
              "    </tr>\n",
              "    <tr>\n",
              "      <th>1541</th>\n",
              "      <td>659</td>\n",
              "      <td>Злата</td>\n",
              "      <td>27</td>\n",
              "      <td>Ростов-на-Дону</td>\n",
              "      <td>ultra</td>\n",
              "    </tr>\n",
              "    <tr>\n",
              "      <th>1551</th>\n",
              "      <td>666</td>\n",
              "      <td>Зарина</td>\n",
              "      <td>29</td>\n",
              "      <td>Москва</td>\n",
              "      <td>ultra</td>\n",
              "    </tr>\n",
              "    <tr>\n",
              "      <th>665</th>\n",
              "      <td>666</td>\n",
              "      <td>Зарина</td>\n",
              "      <td>29</td>\n",
              "      <td>Москва</td>\n",
              "      <td>ultra</td>\n",
              "    </tr>\n",
              "    <tr>\n",
              "      <th>736</th>\n",
              "      <td>737</td>\n",
              "      <td>Мелания</td>\n",
              "      <td>27</td>\n",
              "      <td>Ростов-на-Дону</td>\n",
              "      <td>free</td>\n",
              "    </tr>\n",
              "    <tr>\n",
              "      <th>1550</th>\n",
              "      <td>737</td>\n",
              "      <td>Мелания</td>\n",
              "      <td>27</td>\n",
              "      <td>Ростов-на-Дону</td>\n",
              "      <td>free</td>\n",
              "    </tr>\n",
              "    <tr>\n",
              "      <th>1545</th>\n",
              "      <td>807</td>\n",
              "      <td>Александр</td>\n",
              "      <td>28</td>\n",
              "      <td>Екатеринбург</td>\n",
              "      <td>free</td>\n",
              "    </tr>\n",
              "    <tr>\n",
              "      <th>806</th>\n",
              "      <td>807</td>\n",
              "      <td>Александр</td>\n",
              "      <td>28</td>\n",
              "      <td>Екатеринбург</td>\n",
              "      <td>free</td>\n",
              "    </tr>\n",
              "    <tr>\n",
              "      <th>808</th>\n",
              "      <td>809</td>\n",
              "      <td>Юрий</td>\n",
              "      <td>26</td>\n",
              "      <td>Сочи</td>\n",
              "      <td>free</td>\n",
              "    </tr>\n",
              "    <tr>\n",
              "      <th>1561</th>\n",
              "      <td>809</td>\n",
              "      <td>Юрий</td>\n",
              "      <td>26</td>\n",
              "      <td>Сочи</td>\n",
              "      <td>free</td>\n",
              "    </tr>\n",
              "    <tr>\n",
              "      <th>1560</th>\n",
              "      <td>829</td>\n",
              "      <td>Федор</td>\n",
              "      <td>29</td>\n",
              "      <td>Пятигорск</td>\n",
              "      <td>free</td>\n",
              "    </tr>\n",
              "    <tr>\n",
              "      <th>828</th>\n",
              "      <td>829</td>\n",
              "      <td>Федор</td>\n",
              "      <td>29</td>\n",
              "      <td>Пятигорск</td>\n",
              "      <td>free</td>\n",
              "    </tr>\n",
              "    <tr>\n",
              "      <th>907</th>\n",
              "      <td>908</td>\n",
              "      <td>Рустам</td>\n",
              "      <td>30</td>\n",
              "      <td>Тюмень</td>\n",
              "      <td>free</td>\n",
              "    </tr>\n",
              "    <tr>\n",
              "      <th>1538</th>\n",
              "      <td>908</td>\n",
              "      <td>Рустам</td>\n",
              "      <td>30</td>\n",
              "      <td>Тюмень</td>\n",
              "      <td>free</td>\n",
              "    </tr>\n",
              "    <tr>\n",
              "      <th>1536</th>\n",
              "      <td>909</td>\n",
              "      <td>Константин</td>\n",
              "      <td>20</td>\n",
              "      <td>Екатеринбург</td>\n",
              "      <td>free</td>\n",
              "    </tr>\n",
              "    <tr>\n",
              "      <th>908</th>\n",
              "      <td>909</td>\n",
              "      <td>Константин</td>\n",
              "      <td>20</td>\n",
              "      <td>Екатеринбург</td>\n",
              "      <td>free</td>\n",
              "    </tr>\n",
              "    <tr>\n",
              "      <th>923</th>\n",
              "      <td>924</td>\n",
              "      <td>Мария</td>\n",
              "      <td>23</td>\n",
              "      <td>Пятигорск</td>\n",
              "      <td>free</td>\n",
              "    </tr>\n",
              "    <tr>\n",
              "      <th>1546</th>\n",
              "      <td>924</td>\n",
              "      <td>Мария</td>\n",
              "      <td>23</td>\n",
              "      <td>Пятигорск</td>\n",
              "      <td>free</td>\n",
              "    </tr>\n",
              "    <tr>\n",
              "      <th>1564</th>\n",
              "      <td>1045</td>\n",
              "      <td>Артемий</td>\n",
              "      <td>28</td>\n",
              "      <td>Ростов-на-Дону</td>\n",
              "      <td>free</td>\n",
              "    </tr>\n",
              "    <tr>\n",
              "      <th>1044</th>\n",
              "      <td>1045</td>\n",
              "      <td>Артемий</td>\n",
              "      <td>28</td>\n",
              "      <td>Ростов-на-Дону</td>\n",
              "      <td>free</td>\n",
              "    </tr>\n",
              "    <tr>\n",
              "      <th>1197</th>\n",
              "      <td>1198</td>\n",
              "      <td>Демид</td>\n",
              "      <td>29</td>\n",
              "      <td>Ростов-на-Дону</td>\n",
              "      <td>free</td>\n",
              "    </tr>\n",
              "    <tr>\n",
              "      <th>1554</th>\n",
              "      <td>1198</td>\n",
              "      <td>Демид</td>\n",
              "      <td>29</td>\n",
              "      <td>Ростов-на-Дону</td>\n",
              "      <td>free</td>\n",
              "    </tr>\n",
              "    <tr>\n",
              "      <th>1558</th>\n",
              "      <td>1237</td>\n",
              "      <td>Евгения</td>\n",
              "      <td>23</td>\n",
              "      <td>Тюмень</td>\n",
              "      <td>free</td>\n",
              "    </tr>\n",
              "    <tr>\n",
              "      <th>1236</th>\n",
              "      <td>1237</td>\n",
              "      <td>Евгения</td>\n",
              "      <td>23</td>\n",
              "      <td>Тюмень</td>\n",
              "      <td>free</td>\n",
              "    </tr>\n",
              "    <tr>\n",
              "      <th>1244</th>\n",
              "      <td>1245</td>\n",
              "      <td>Регина</td>\n",
              "      <td>27</td>\n",
              "      <td>Пятигорск</td>\n",
              "      <td>free</td>\n",
              "    </tr>\n",
              "    <tr>\n",
              "      <th>1544</th>\n",
              "      <td>1245</td>\n",
              "      <td>Регина</td>\n",
              "      <td>27</td>\n",
              "      <td>Пятигорск</td>\n",
              "      <td>free</td>\n",
              "    </tr>\n",
              "  </tbody>\n",
              "</table>\n",
              "</div>\n",
              "    <div class=\"colab-df-buttons\">\n",
              "\n",
              "  <div class=\"colab-df-container\">\n",
              "    <button class=\"colab-df-convert\" onclick=\"convertToInteractive('df-2022ef57-4716-4024-a83b-d3a0bd01a743')\"\n",
              "            title=\"Convert this dataframe to an interactive table.\"\n",
              "            style=\"display:none;\">\n",
              "\n",
              "  <svg xmlns=\"http://www.w3.org/2000/svg\" height=\"24px\" viewBox=\"0 -960 960 960\">\n",
              "    <path d=\"M120-120v-720h720v720H120Zm60-500h600v-160H180v160Zm220 220h160v-160H400v160Zm0 220h160v-160H400v160ZM180-400h160v-160H180v160Zm440 0h160v-160H620v160ZM180-180h160v-160H180v160Zm440 0h160v-160H620v160Z\"/>\n",
              "  </svg>\n",
              "    </button>\n",
              "\n",
              "  <style>\n",
              "    .colab-df-container {\n",
              "      display:flex;\n",
              "      gap: 12px;\n",
              "    }\n",
              "\n",
              "    .colab-df-convert {\n",
              "      background-color: #E8F0FE;\n",
              "      border: none;\n",
              "      border-radius: 50%;\n",
              "      cursor: pointer;\n",
              "      display: none;\n",
              "      fill: #1967D2;\n",
              "      height: 32px;\n",
              "      padding: 0 0 0 0;\n",
              "      width: 32px;\n",
              "    }\n",
              "\n",
              "    .colab-df-convert:hover {\n",
              "      background-color: #E2EBFA;\n",
              "      box-shadow: 0px 1px 2px rgba(60, 64, 67, 0.3), 0px 1px 3px 1px rgba(60, 64, 67, 0.15);\n",
              "      fill: #174EA6;\n",
              "    }\n",
              "\n",
              "    .colab-df-buttons div {\n",
              "      margin-bottom: 4px;\n",
              "    }\n",
              "\n",
              "    [theme=dark] .colab-df-convert {\n",
              "      background-color: #3B4455;\n",
              "      fill: #D2E3FC;\n",
              "    }\n",
              "\n",
              "    [theme=dark] .colab-df-convert:hover {\n",
              "      background-color: #434B5C;\n",
              "      box-shadow: 0px 1px 3px 1px rgba(0, 0, 0, 0.15);\n",
              "      filter: drop-shadow(0px 1px 2px rgba(0, 0, 0, 0.3));\n",
              "      fill: #FFFFFF;\n",
              "    }\n",
              "  </style>\n",
              "\n",
              "    <script>\n",
              "      const buttonEl =\n",
              "        document.querySelector('#df-2022ef57-4716-4024-a83b-d3a0bd01a743 button.colab-df-convert');\n",
              "      buttonEl.style.display =\n",
              "        google.colab.kernel.accessAllowed ? 'block' : 'none';\n",
              "\n",
              "      async function convertToInteractive(key) {\n",
              "        const element = document.querySelector('#df-2022ef57-4716-4024-a83b-d3a0bd01a743');\n",
              "        const dataTable =\n",
              "          await google.colab.kernel.invokeFunction('convertToInteractive',\n",
              "                                                    [key], {});\n",
              "        if (!dataTable) return;\n",
              "\n",
              "        const docLinkHtml = 'Like what you see? Visit the ' +\n",
              "          '<a target=\"_blank\" href=https://colab.research.google.com/notebooks/data_table.ipynb>data table notebook</a>'\n",
              "          + ' to learn more about interactive tables.';\n",
              "        element.innerHTML = '';\n",
              "        dataTable['output_type'] = 'display_data';\n",
              "        await google.colab.output.renderOutput(dataTable, element);\n",
              "        const docLink = document.createElement('div');\n",
              "        docLink.innerHTML = docLinkHtml;\n",
              "        element.appendChild(docLink);\n",
              "      }\n",
              "    </script>\n",
              "  </div>\n",
              "\n",
              "\n",
              "    <div id=\"df-ec250486-78e7-4e5c-864c-c746fc99126c\">\n",
              "      <button class=\"colab-df-quickchart\" onclick=\"quickchart('df-ec250486-78e7-4e5c-864c-c746fc99126c')\"\n",
              "                title=\"Suggest charts\"\n",
              "                style=\"display:none;\">\n",
              "\n",
              "<svg xmlns=\"http://www.w3.org/2000/svg\" height=\"24px\"viewBox=\"0 0 24 24\"\n",
              "     width=\"24px\">\n",
              "    <g>\n",
              "        <path d=\"M19 3H5c-1.1 0-2 .9-2 2v14c0 1.1.9 2 2 2h14c1.1 0 2-.9 2-2V5c0-1.1-.9-2-2-2zM9 17H7v-7h2v7zm4 0h-2V7h2v10zm4 0h-2v-4h2v4z\"/>\n",
              "    </g>\n",
              "</svg>\n",
              "      </button>\n",
              "\n",
              "<style>\n",
              "  .colab-df-quickchart {\n",
              "      --bg-color: #E8F0FE;\n",
              "      --fill-color: #1967D2;\n",
              "      --hover-bg-color: #E2EBFA;\n",
              "      --hover-fill-color: #174EA6;\n",
              "      --disabled-fill-color: #AAA;\n",
              "      --disabled-bg-color: #DDD;\n",
              "  }\n",
              "\n",
              "  [theme=dark] .colab-df-quickchart {\n",
              "      --bg-color: #3B4455;\n",
              "      --fill-color: #D2E3FC;\n",
              "      --hover-bg-color: #434B5C;\n",
              "      --hover-fill-color: #FFFFFF;\n",
              "      --disabled-bg-color: #3B4455;\n",
              "      --disabled-fill-color: #666;\n",
              "  }\n",
              "\n",
              "  .colab-df-quickchart {\n",
              "    background-color: var(--bg-color);\n",
              "    border: none;\n",
              "    border-radius: 50%;\n",
              "    cursor: pointer;\n",
              "    display: none;\n",
              "    fill: var(--fill-color);\n",
              "    height: 32px;\n",
              "    padding: 0;\n",
              "    width: 32px;\n",
              "  }\n",
              "\n",
              "  .colab-df-quickchart:hover {\n",
              "    background-color: var(--hover-bg-color);\n",
              "    box-shadow: 0 1px 2px rgba(60, 64, 67, 0.3), 0 1px 3px 1px rgba(60, 64, 67, 0.15);\n",
              "    fill: var(--button-hover-fill-color);\n",
              "  }\n",
              "\n",
              "  .colab-df-quickchart-complete:disabled,\n",
              "  .colab-df-quickchart-complete:disabled:hover {\n",
              "    background-color: var(--disabled-bg-color);\n",
              "    fill: var(--disabled-fill-color);\n",
              "    box-shadow: none;\n",
              "  }\n",
              "\n",
              "  .colab-df-spinner {\n",
              "    border: 2px solid var(--fill-color);\n",
              "    border-color: transparent;\n",
              "    border-bottom-color: var(--fill-color);\n",
              "    animation:\n",
              "      spin 1s steps(1) infinite;\n",
              "  }\n",
              "\n",
              "  @keyframes spin {\n",
              "    0% {\n",
              "      border-color: transparent;\n",
              "      border-bottom-color: var(--fill-color);\n",
              "      border-left-color: var(--fill-color);\n",
              "    }\n",
              "    20% {\n",
              "      border-color: transparent;\n",
              "      border-left-color: var(--fill-color);\n",
              "      border-top-color: var(--fill-color);\n",
              "    }\n",
              "    30% {\n",
              "      border-color: transparent;\n",
              "      border-left-color: var(--fill-color);\n",
              "      border-top-color: var(--fill-color);\n",
              "      border-right-color: var(--fill-color);\n",
              "    }\n",
              "    40% {\n",
              "      border-color: transparent;\n",
              "      border-right-color: var(--fill-color);\n",
              "      border-top-color: var(--fill-color);\n",
              "    }\n",
              "    60% {\n",
              "      border-color: transparent;\n",
              "      border-right-color: var(--fill-color);\n",
              "    }\n",
              "    80% {\n",
              "      border-color: transparent;\n",
              "      border-right-color: var(--fill-color);\n",
              "      border-bottom-color: var(--fill-color);\n",
              "    }\n",
              "    90% {\n",
              "      border-color: transparent;\n",
              "      border-bottom-color: var(--fill-color);\n",
              "    }\n",
              "  }\n",
              "</style>\n",
              "\n",
              "      <script>\n",
              "        async function quickchart(key) {\n",
              "          const quickchartButtonEl =\n",
              "            document.querySelector('#' + key + ' button');\n",
              "          quickchartButtonEl.disabled = true;  // To prevent multiple clicks.\n",
              "          quickchartButtonEl.classList.add('colab-df-spinner');\n",
              "          try {\n",
              "            const charts = await google.colab.kernel.invokeFunction(\n",
              "                'suggestCharts', [key], {});\n",
              "          } catch (error) {\n",
              "            console.error('Error during call to suggestCharts:', error);\n",
              "          }\n",
              "          quickchartButtonEl.classList.remove('colab-df-spinner');\n",
              "          quickchartButtonEl.classList.add('colab-df-quickchart-complete');\n",
              "        }\n",
              "        (() => {\n",
              "          let quickchartButtonEl =\n",
              "            document.querySelector('#df-ec250486-78e7-4e5c-864c-c746fc99126c button');\n",
              "          quickchartButtonEl.style.display =\n",
              "            google.colab.kernel.accessAllowed ? 'block' : 'none';\n",
              "        })();\n",
              "      </script>\n",
              "    </div>\n",
              "    </div>\n",
              "  </div>\n"
            ],
            "application/vnd.google.colaboratory.intrinsic+json": {
              "type": "dataframe",
              "summary": "{\n  \"name\": \"users\",\n  \"rows\": 62,\n  \"fields\": [\n    {\n      \"column\": \"user_id\",\n      \"properties\": {\n        \"dtype\": \"number\",\n        \"std\": 390,\n        \"min\": 16,\n        \"max\": 1245,\n        \"num_unique_values\": 31,\n        \"samples\": [\n          1045,\n          422,\n          829\n        ],\n        \"semantic_type\": \"\",\n        \"description\": \"\"\n      }\n    },\n    {\n      \"column\": \"name\",\n      \"properties\": {\n        \"dtype\": \"category\",\n        \"num_unique_values\": 29,\n        \"samples\": [\n          \"\\u0415\\u0432\\u0433\\u0435\\u043d\\u0438\\u044f\",\n          \"\\u0412\\u043b\\u0430\\u0434\\u0438\\u043c\\u0438\\u0440\",\n          \"\\u0415\\u0433\\u043e\\u0440\"\n        ],\n        \"semantic_type\": \"\",\n        \"description\": \"\"\n      }\n    },\n    {\n      \"column\": \"age\",\n      \"properties\": {\n        \"dtype\": \"number\",\n        \"std\": 3,\n        \"min\": 19,\n        \"max\": 33,\n        \"num_unique_values\": 12,\n        \"samples\": [\n          21,\n          19,\n          27\n        ],\n        \"semantic_type\": \"\",\n        \"description\": \"\"\n      }\n    },\n    {\n      \"column\": \"city\",\n      \"properties\": {\n        \"dtype\": \"category\",\n        \"num_unique_values\": 8,\n        \"samples\": [\n          \"\\u041e\\u043c\\u0441\\u043a\",\n          \"\\u0421\\u043e\\u0447\\u0438\",\n          \"\\u041a\\u0440\\u0430\\u0441\\u043d\\u043e\\u0434\\u0430\\u0440\"\n        ],\n        \"semantic_type\": \"\",\n        \"description\": \"\"\n      }\n    },\n    {\n      \"column\": \"subscription_type\",\n      \"properties\": {\n        \"dtype\": \"category\",\n        \"num_unique_values\": 2,\n        \"samples\": [\n          \"free\",\n          \"ultra\"\n        ],\n        \"semantic_type\": \"\",\n        \"description\": \"\"\n      }\n    }\n  ]\n}"
            }
          },
          "metadata": {},
          "execution_count": 13
        }
      ],
      "source": [
        "list=users[users.duplicated()==True]['user_id'].to_list()\n",
        "users.query('user_id in @list').sort_values(by='user_id')"
      ]
    },
    {
      "cell_type": "code",
      "execution_count": null,
      "id": "725f4cc5",
      "metadata": {
        "colab": {
          "base_uri": "https://localhost:8080/"
        },
        "id": "725f4cc5",
        "outputId": "d830345f-dfb9-4052-c83b-acaa8815cdad"
      },
      "outputs": [
        {
          "output_type": "execute_result",
          "data": {
            "text/plain": [
              "np.int64(0)"
            ]
          },
          "metadata": {},
          "execution_count": 14
        }
      ],
      "source": [
        "users = users.drop_duplicates().reset_index(drop=True)\n",
        "users.duplicated().sum()"
      ]
    },
    {
      "cell_type": "code",
      "execution_count": null,
      "id": "e8d870f1",
      "metadata": {
        "colab": {
          "base_uri": "https://localhost:8080/"
        },
        "id": "e8d870f1",
        "outputId": "b2adc031-e772-4c2c-968f-74d5eb363aa8"
      },
      "outputs": [
        {
          "output_type": "stream",
          "name": "stdout",
          "text": [
            "1565 1534 31 2.0\n"
          ]
        }
      ],
      "source": [
        "a, b = len(users_copy), len(users)\n",
        "print(a, b, a-b, round((a-b)/a*100, 1))"
      ]
    },
    {
      "cell_type": "markdown",
      "id": "2d4df41f",
      "metadata": {
        "id": "2d4df41f"
      },
      "source": [
        "**Вывод по разделу \"Предобработка данных\":**\n",
        "1. Даты в столбце `date` датафрейма `rides` приведены к формату datetime\n",
        "2. Создан новый столбец `month` в датафрейме `rides`\n",
        "3. Установлено отсутствие пропусков в данных.\n",
        "4. Удален 31 дубликат в датафрейме с пользователями приложения (удалено 2% данных `users`)."
      ]
    },
    {
      "cell_type": "markdown",
      "id": "c857e0e4",
      "metadata": {
        "id": "c857e0e4"
      },
      "source": [
        "## Исследовательский анализ данных"
      ]
    },
    {
      "cell_type": "markdown",
      "id": "dff022e6",
      "metadata": {
        "id": "dff022e6"
      },
      "source": [
        "### Исследуем частоту встречаемости городов"
      ]
    },
    {
      "cell_type": "code",
      "execution_count": null,
      "id": "f3abcc3e",
      "metadata": {
        "colab": {
          "base_uri": "https://localhost:8080/",
          "height": 331
        },
        "id": "f3abcc3e",
        "outputId": "039cce61-9eb5-40ee-aaa6-ae080b1c0a4f"
      },
      "outputs": [
        {
          "output_type": "execute_result",
          "data": {
            "text/plain": [
              "<pandas.io.formats.style.Styler at 0x7bec4ddf1950>"
            ],
            "text/html": [
              "<style type=\"text/css\">\n",
              "#T_30e45_row0_col0 {\n",
              "  background-color: #023858;\n",
              "  color: #f1f1f1;\n",
              "}\n",
              "#T_30e45_row1_col0 {\n",
              "  background-color: #167bb6;\n",
              "  color: #f1f1f1;\n",
              "}\n",
              "#T_30e45_row2_col0 {\n",
              "  background-color: #4897c4;\n",
              "  color: #f1f1f1;\n",
              "}\n",
              "#T_30e45_row3_col0 {\n",
              "  background-color: #78abd0;\n",
              "  color: #f1f1f1;\n",
              "}\n",
              "#T_30e45_row4_col0 {\n",
              "  background-color: #97b7d7;\n",
              "  color: #000000;\n",
              "}\n",
              "#T_30e45_row5_col0 {\n",
              "  background-color: #c1cae2;\n",
              "  color: #000000;\n",
              "}\n",
              "#T_30e45_row6_col0 {\n",
              "  background-color: #d3d4e7;\n",
              "  color: #000000;\n",
              "}\n",
              "#T_30e45_row7_col0 {\n",
              "  background-color: #fff7fb;\n",
              "  color: #000000;\n",
              "}\n",
              "</style>\n",
              "<table id=\"T_30e45\" class=\"dataframe\">\n",
              "  <thead>\n",
              "    <tr>\n",
              "      <th class=\"blank level0\" >&nbsp;</th>\n",
              "      <th id=\"T_30e45_level0_col0\" class=\"col_heading level0 col0\" >user_id</th>\n",
              "    </tr>\n",
              "    <tr>\n",
              "      <th class=\"index_name level0\" >city</th>\n",
              "      <th class=\"blank col0\" >&nbsp;</th>\n",
              "    </tr>\n",
              "  </thead>\n",
              "  <tbody>\n",
              "    <tr>\n",
              "      <th id=\"T_30e45_level0_row0\" class=\"row_heading level0 row0\" >Пятигорск</th>\n",
              "      <td id=\"T_30e45_row0_col0\" class=\"data row0 col0\" >219</td>\n",
              "    </tr>\n",
              "    <tr>\n",
              "      <th id=\"T_30e45_level0_row1\" class=\"row_heading level0 row1\" >Екатеринбург</th>\n",
              "      <td id=\"T_30e45_row1_col0\" class=\"data row1 col0\" >204</td>\n",
              "    </tr>\n",
              "    <tr>\n",
              "      <th id=\"T_30e45_level0_row2\" class=\"row_heading level0 row2\" >Ростов-на-Дону</th>\n",
              "      <td id=\"T_30e45_row2_col0\" class=\"data row2 col0\" >198</td>\n",
              "    </tr>\n",
              "    <tr>\n",
              "      <th id=\"T_30e45_level0_row3\" class=\"row_heading level0 row3\" >Краснодар</th>\n",
              "      <td id=\"T_30e45_row3_col0\" class=\"data row3 col0\" >193</td>\n",
              "    </tr>\n",
              "    <tr>\n",
              "      <th id=\"T_30e45_level0_row4\" class=\"row_heading level0 row4\" >Сочи</th>\n",
              "      <td id=\"T_30e45_row4_col0\" class=\"data row4 col0\" >189</td>\n",
              "    </tr>\n",
              "    <tr>\n",
              "      <th id=\"T_30e45_level0_row5\" class=\"row_heading level0 row5\" >Омск</th>\n",
              "      <td id=\"T_30e45_row5_col0\" class=\"data row5 col0\" >183</td>\n",
              "    </tr>\n",
              "    <tr>\n",
              "      <th id=\"T_30e45_level0_row6\" class=\"row_heading level0 row6\" >Тюмень</th>\n",
              "      <td id=\"T_30e45_row6_col0\" class=\"data row6 col0\" >180</td>\n",
              "    </tr>\n",
              "    <tr>\n",
              "      <th id=\"T_30e45_level0_row7\" class=\"row_heading level0 row7\" >Москва</th>\n",
              "      <td id=\"T_30e45_row7_col0\" class=\"data row7 col0\" >168</td>\n",
              "    </tr>\n",
              "  </tbody>\n",
              "</table>\n"
            ]
          },
          "metadata": {},
          "execution_count": 16
        }
      ],
      "source": [
        "users.pivot_table(\n",
        "    index='city',\n",
        "    values='user_id',\n",
        "    aggfunc='count').sort_values(by='user_id', ascending=False).style.background_gradient()"
      ]
    },
    {
      "cell_type": "code",
      "execution_count": null,
      "id": "4d015d87",
      "metadata": {
        "colab": {
          "base_uri": "https://localhost:8080/",
          "height": 300
        },
        "id": "4d015d87",
        "outputId": "6db46389-386f-4f2f-ac52-b4e47c683c03"
      },
      "outputs": [
        {
          "output_type": "execute_result",
          "data": {
            "text/plain": [
              "             city  user_id\n",
              "4       Пятигорск      219\n",
              "0    Екатеринбург      204\n",
              "5  Ростов-на-Дону      198\n",
              "1       Краснодар      193\n",
              "6            Сочи      189\n",
              "3            Омск      183\n",
              "7          Тюмень      180\n",
              "2          Москва      168"
            ],
            "text/html": [
              "\n",
              "  <div id=\"df-96c17372-b61f-43f1-bb8a-54518c7113ee\" class=\"colab-df-container\">\n",
              "    <div>\n",
              "<style scoped>\n",
              "    .dataframe tbody tr th:only-of-type {\n",
              "        vertical-align: middle;\n",
              "    }\n",
              "\n",
              "    .dataframe tbody tr th {\n",
              "        vertical-align: top;\n",
              "    }\n",
              "\n",
              "    .dataframe thead th {\n",
              "        text-align: right;\n",
              "    }\n",
              "</style>\n",
              "<table border=\"1\" class=\"dataframe\">\n",
              "  <thead>\n",
              "    <tr style=\"text-align: right;\">\n",
              "      <th></th>\n",
              "      <th>city</th>\n",
              "      <th>user_id</th>\n",
              "    </tr>\n",
              "  </thead>\n",
              "  <tbody>\n",
              "    <tr>\n",
              "      <th>4</th>\n",
              "      <td>Пятигорск</td>\n",
              "      <td>219</td>\n",
              "    </tr>\n",
              "    <tr>\n",
              "      <th>0</th>\n",
              "      <td>Екатеринбург</td>\n",
              "      <td>204</td>\n",
              "    </tr>\n",
              "    <tr>\n",
              "      <th>5</th>\n",
              "      <td>Ростов-на-Дону</td>\n",
              "      <td>198</td>\n",
              "    </tr>\n",
              "    <tr>\n",
              "      <th>1</th>\n",
              "      <td>Краснодар</td>\n",
              "      <td>193</td>\n",
              "    </tr>\n",
              "    <tr>\n",
              "      <th>6</th>\n",
              "      <td>Сочи</td>\n",
              "      <td>189</td>\n",
              "    </tr>\n",
              "    <tr>\n",
              "      <th>3</th>\n",
              "      <td>Омск</td>\n",
              "      <td>183</td>\n",
              "    </tr>\n",
              "    <tr>\n",
              "      <th>7</th>\n",
              "      <td>Тюмень</td>\n",
              "      <td>180</td>\n",
              "    </tr>\n",
              "    <tr>\n",
              "      <th>2</th>\n",
              "      <td>Москва</td>\n",
              "      <td>168</td>\n",
              "    </tr>\n",
              "  </tbody>\n",
              "</table>\n",
              "</div>\n",
              "    <div class=\"colab-df-buttons\">\n",
              "\n",
              "  <div class=\"colab-df-container\">\n",
              "    <button class=\"colab-df-convert\" onclick=\"convertToInteractive('df-96c17372-b61f-43f1-bb8a-54518c7113ee')\"\n",
              "            title=\"Convert this dataframe to an interactive table.\"\n",
              "            style=\"display:none;\">\n",
              "\n",
              "  <svg xmlns=\"http://www.w3.org/2000/svg\" height=\"24px\" viewBox=\"0 -960 960 960\">\n",
              "    <path d=\"M120-120v-720h720v720H120Zm60-500h600v-160H180v160Zm220 220h160v-160H400v160Zm0 220h160v-160H400v160ZM180-400h160v-160H180v160Zm440 0h160v-160H620v160ZM180-180h160v-160H180v160Zm440 0h160v-160H620v160Z\"/>\n",
              "  </svg>\n",
              "    </button>\n",
              "\n",
              "  <style>\n",
              "    .colab-df-container {\n",
              "      display:flex;\n",
              "      gap: 12px;\n",
              "    }\n",
              "\n",
              "    .colab-df-convert {\n",
              "      background-color: #E8F0FE;\n",
              "      border: none;\n",
              "      border-radius: 50%;\n",
              "      cursor: pointer;\n",
              "      display: none;\n",
              "      fill: #1967D2;\n",
              "      height: 32px;\n",
              "      padding: 0 0 0 0;\n",
              "      width: 32px;\n",
              "    }\n",
              "\n",
              "    .colab-df-convert:hover {\n",
              "      background-color: #E2EBFA;\n",
              "      box-shadow: 0px 1px 2px rgba(60, 64, 67, 0.3), 0px 1px 3px 1px rgba(60, 64, 67, 0.15);\n",
              "      fill: #174EA6;\n",
              "    }\n",
              "\n",
              "    .colab-df-buttons div {\n",
              "      margin-bottom: 4px;\n",
              "    }\n",
              "\n",
              "    [theme=dark] .colab-df-convert {\n",
              "      background-color: #3B4455;\n",
              "      fill: #D2E3FC;\n",
              "    }\n",
              "\n",
              "    [theme=dark] .colab-df-convert:hover {\n",
              "      background-color: #434B5C;\n",
              "      box-shadow: 0px 1px 3px 1px rgba(0, 0, 0, 0.15);\n",
              "      filter: drop-shadow(0px 1px 2px rgba(0, 0, 0, 0.3));\n",
              "      fill: #FFFFFF;\n",
              "    }\n",
              "  </style>\n",
              "\n",
              "    <script>\n",
              "      const buttonEl =\n",
              "        document.querySelector('#df-96c17372-b61f-43f1-bb8a-54518c7113ee button.colab-df-convert');\n",
              "      buttonEl.style.display =\n",
              "        google.colab.kernel.accessAllowed ? 'block' : 'none';\n",
              "\n",
              "      async function convertToInteractive(key) {\n",
              "        const element = document.querySelector('#df-96c17372-b61f-43f1-bb8a-54518c7113ee');\n",
              "        const dataTable =\n",
              "          await google.colab.kernel.invokeFunction('convertToInteractive',\n",
              "                                                    [key], {});\n",
              "        if (!dataTable) return;\n",
              "\n",
              "        const docLinkHtml = 'Like what you see? Visit the ' +\n",
              "          '<a target=\"_blank\" href=https://colab.research.google.com/notebooks/data_table.ipynb>data table notebook</a>'\n",
              "          + ' to learn more about interactive tables.';\n",
              "        element.innerHTML = '';\n",
              "        dataTable['output_type'] = 'display_data';\n",
              "        await google.colab.output.renderOutput(dataTable, element);\n",
              "        const docLink = document.createElement('div');\n",
              "        docLink.innerHTML = docLinkHtml;\n",
              "        element.appendChild(docLink);\n",
              "      }\n",
              "    </script>\n",
              "  </div>\n",
              "\n",
              "\n",
              "    <div id=\"df-b1eafa1a-4d7d-4128-8e80-e8d4081c17da\">\n",
              "      <button class=\"colab-df-quickchart\" onclick=\"quickchart('df-b1eafa1a-4d7d-4128-8e80-e8d4081c17da')\"\n",
              "                title=\"Suggest charts\"\n",
              "                style=\"display:none;\">\n",
              "\n",
              "<svg xmlns=\"http://www.w3.org/2000/svg\" height=\"24px\"viewBox=\"0 0 24 24\"\n",
              "     width=\"24px\">\n",
              "    <g>\n",
              "        <path d=\"M19 3H5c-1.1 0-2 .9-2 2v14c0 1.1.9 2 2 2h14c1.1 0 2-.9 2-2V5c0-1.1-.9-2-2-2zM9 17H7v-7h2v7zm4 0h-2V7h2v10zm4 0h-2v-4h2v4z\"/>\n",
              "    </g>\n",
              "</svg>\n",
              "      </button>\n",
              "\n",
              "<style>\n",
              "  .colab-df-quickchart {\n",
              "      --bg-color: #E8F0FE;\n",
              "      --fill-color: #1967D2;\n",
              "      --hover-bg-color: #E2EBFA;\n",
              "      --hover-fill-color: #174EA6;\n",
              "      --disabled-fill-color: #AAA;\n",
              "      --disabled-bg-color: #DDD;\n",
              "  }\n",
              "\n",
              "  [theme=dark] .colab-df-quickchart {\n",
              "      --bg-color: #3B4455;\n",
              "      --fill-color: #D2E3FC;\n",
              "      --hover-bg-color: #434B5C;\n",
              "      --hover-fill-color: #FFFFFF;\n",
              "      --disabled-bg-color: #3B4455;\n",
              "      --disabled-fill-color: #666;\n",
              "  }\n",
              "\n",
              "  .colab-df-quickchart {\n",
              "    background-color: var(--bg-color);\n",
              "    border: none;\n",
              "    border-radius: 50%;\n",
              "    cursor: pointer;\n",
              "    display: none;\n",
              "    fill: var(--fill-color);\n",
              "    height: 32px;\n",
              "    padding: 0;\n",
              "    width: 32px;\n",
              "  }\n",
              "\n",
              "  .colab-df-quickchart:hover {\n",
              "    background-color: var(--hover-bg-color);\n",
              "    box-shadow: 0 1px 2px rgba(60, 64, 67, 0.3), 0 1px 3px 1px rgba(60, 64, 67, 0.15);\n",
              "    fill: var(--button-hover-fill-color);\n",
              "  }\n",
              "\n",
              "  .colab-df-quickchart-complete:disabled,\n",
              "  .colab-df-quickchart-complete:disabled:hover {\n",
              "    background-color: var(--disabled-bg-color);\n",
              "    fill: var(--disabled-fill-color);\n",
              "    box-shadow: none;\n",
              "  }\n",
              "\n",
              "  .colab-df-spinner {\n",
              "    border: 2px solid var(--fill-color);\n",
              "    border-color: transparent;\n",
              "    border-bottom-color: var(--fill-color);\n",
              "    animation:\n",
              "      spin 1s steps(1) infinite;\n",
              "  }\n",
              "\n",
              "  @keyframes spin {\n",
              "    0% {\n",
              "      border-color: transparent;\n",
              "      border-bottom-color: var(--fill-color);\n",
              "      border-left-color: var(--fill-color);\n",
              "    }\n",
              "    20% {\n",
              "      border-color: transparent;\n",
              "      border-left-color: var(--fill-color);\n",
              "      border-top-color: var(--fill-color);\n",
              "    }\n",
              "    30% {\n",
              "      border-color: transparent;\n",
              "      border-left-color: var(--fill-color);\n",
              "      border-top-color: var(--fill-color);\n",
              "      border-right-color: var(--fill-color);\n",
              "    }\n",
              "    40% {\n",
              "      border-color: transparent;\n",
              "      border-right-color: var(--fill-color);\n",
              "      border-top-color: var(--fill-color);\n",
              "    }\n",
              "    60% {\n",
              "      border-color: transparent;\n",
              "      border-right-color: var(--fill-color);\n",
              "    }\n",
              "    80% {\n",
              "      border-color: transparent;\n",
              "      border-right-color: var(--fill-color);\n",
              "      border-bottom-color: var(--fill-color);\n",
              "    }\n",
              "    90% {\n",
              "      border-color: transparent;\n",
              "      border-bottom-color: var(--fill-color);\n",
              "    }\n",
              "  }\n",
              "</style>\n",
              "\n",
              "      <script>\n",
              "        async function quickchart(key) {\n",
              "          const quickchartButtonEl =\n",
              "            document.querySelector('#' + key + ' button');\n",
              "          quickchartButtonEl.disabled = true;  // To prevent multiple clicks.\n",
              "          quickchartButtonEl.classList.add('colab-df-spinner');\n",
              "          try {\n",
              "            const charts = await google.colab.kernel.invokeFunction(\n",
              "                'suggestCharts', [key], {});\n",
              "          } catch (error) {\n",
              "            console.error('Error during call to suggestCharts:', error);\n",
              "          }\n",
              "          quickchartButtonEl.classList.remove('colab-df-spinner');\n",
              "          quickchartButtonEl.classList.add('colab-df-quickchart-complete');\n",
              "        }\n",
              "        (() => {\n",
              "          let quickchartButtonEl =\n",
              "            document.querySelector('#df-b1eafa1a-4d7d-4128-8e80-e8d4081c17da button');\n",
              "          quickchartButtonEl.style.display =\n",
              "            google.colab.kernel.accessAllowed ? 'block' : 'none';\n",
              "        })();\n",
              "      </script>\n",
              "    </div>\n",
              "    </div>\n",
              "  </div>\n"
            ],
            "application/vnd.google.colaboratory.intrinsic+json": {
              "type": "dataframe",
              "variable_name": "data_city",
              "summary": "{\n  \"name\": \"data_city\",\n  \"rows\": 8,\n  \"fields\": [\n    {\n      \"column\": \"city\",\n      \"properties\": {\n        \"dtype\": \"string\",\n        \"num_unique_values\": 8,\n        \"samples\": [\n          \"\\u0415\\u043a\\u0430\\u0442\\u0435\\u0440\\u0438\\u043d\\u0431\\u0443\\u0440\\u0433\",\n          \"\\u041e\\u043c\\u0441\\u043a\",\n          \"\\u041f\\u044f\\u0442\\u0438\\u0433\\u043e\\u0440\\u0441\\u043a\"\n        ],\n        \"semantic_type\": \"\",\n        \"description\": \"\"\n      }\n    },\n    {\n      \"column\": \"user_id\",\n      \"properties\": {\n        \"dtype\": \"number\",\n        \"std\": 15,\n        \"min\": 168,\n        \"max\": 219,\n        \"num_unique_values\": 8,\n        \"samples\": [\n          204,\n          183,\n          219\n        ],\n        \"semantic_type\": \"\",\n        \"description\": \"\"\n      }\n    }\n  ]\n}"
            }
          },
          "metadata": {},
          "execution_count": 17
        }
      ],
      "source": [
        "data_city=users.groupby('city', as_index = False)['user_id'].count().sort_values('user_id', ascending=False)\n",
        "data_city"
      ]
    },
    {
      "cell_type": "code",
      "execution_count": null,
      "id": "c36f7417",
      "metadata": {
        "colab": {
          "base_uri": "https://localhost:8080/",
          "height": 789
        },
        "id": "c36f7417",
        "outputId": "d839b29d-d82b-4d87-fc10-bfd7546aedbc"
      },
      "outputs": [
        {
          "output_type": "stream",
          "name": "stderr",
          "text": [
            "/tmp/ipython-input-18-2162426972.py:1: FutureWarning: \n",
            "\n",
            "Passing `palette` without assigning `hue` is deprecated and will be removed in v0.14.0. Assign the `y` variable to `hue` and set `legend=False` for the same effect.\n",
            "\n",
            "  ax=sns.barplot(x='user_id', y='city', data=data_city, palette=sns.color_palette('turbo', 32))\n",
            "/tmp/ipython-input-18-2162426972.py:1: UserWarning: The palette list has more values (32) than needed (8), which may not be intended.\n",
            "  ax=sns.barplot(x='user_id', y='city', data=data_city, palette=sns.color_palette('turbo', 32))\n"
          ]
        },
        {
          "output_type": "display_data",
          "data": {
            "text/plain": [
              "<Figure size 1000x700 with 1 Axes>"
            ],
            "image/png": "[encoded data removed]"
          },
          "metadata": {}
        }
      ],
      "source": [
        "ax=sns.barplot(x='user_id', y='city', data=data_city, palette=sns.color_palette('turbo', 32))\n",
        "ax.set_title('''Количество поездок в разрезе городов''', size=12)\n",
        "ax.set_xlabel('Количество поездок', size=10)\n",
        "ax.set_ylabel('Наименование города', size=10)\n",
        "ax.grid(False)\n",
        "ax.grid(True, which = \"major\", linewidth = 1)\n",
        "ax.grid(which = \"minor\", linewidth = 0.3)\n",
        "ax.minorticks_on()\n",
        "plt.show()"
      ]
    },
    {
      "cell_type": "markdown",
      "id": "9c68d589",
      "metadata": {
        "id": "9c68d589"
      },
      "source": [
        "**Вывод по разделу \"Исследование частоты встречаемости городов\":**\n",
        "\n",
        "Данные представлены о 1534 пользователях сервиса из 8 городов, наиболее активно регистрировались в приложении пользователи в Пятигорске, Екатеринбурге, Ростове-на-Дону и Краснодаре."
      ]
    },
    {
      "cell_type": "markdown",
      "id": "a8411f5d",
      "metadata": {
        "id": "a8411f5d"
      },
      "source": [
        "### Исследуем соотношение пользователей с подпиской и без подписки"
      ]
    },
    {
      "cell_type": "code",
      "execution_count": null,
      "id": "fcbaaaba",
      "metadata": {
        "colab": {
          "base_uri": "https://localhost:8080/",
          "height": 112
        },
        "id": "fcbaaaba",
        "outputId": "9ea4ff9a-bd28-4f6f-dbbf-2165629ac220"
      },
      "outputs": [
        {
          "output_type": "execute_result",
          "data": {
            "text/plain": [
              "  subscription_type  user_id\n",
              "0              free      835\n",
              "1             ultra      699"
            ],
            "text/html": [
              "\n",
              "  <div id=\"df-5a22a318-9165-4407-b9af-0000e2515674\" class=\"colab-df-container\">\n",
              "    <div>\n",
              "<style scoped>\n",
              "    .dataframe tbody tr th:only-of-type {\n",
              "        vertical-align: middle;\n",
              "    }\n",
              "\n",
              "    .dataframe tbody tr th {\n",
              "        vertical-align: top;\n",
              "    }\n",
              "\n",
              "    .dataframe thead th {\n",
              "        text-align: right;\n",
              "    }\n",
              "</style>\n",
              "<table border=\"1\" class=\"dataframe\">\n",
              "  <thead>\n",
              "    <tr style=\"text-align: right;\">\n",
              "      <th></th>\n",
              "      <th>subscription_type</th>\n",
              "      <th>user_id</th>\n",
              "    </tr>\n",
              "  </thead>\n",
              "  <tbody>\n",
              "    <tr>\n",
              "      <th>0</th>\n",
              "      <td>free</td>\n",
              "      <td>835</td>\n",
              "    </tr>\n",
              "    <tr>\n",
              "      <th>1</th>\n",
              "      <td>ultra</td>\n",
              "      <td>699</td>\n",
              "    </tr>\n",
              "  </tbody>\n",
              "</table>\n",
              "</div>\n",
              "    <div class=\"colab-df-buttons\">\n",
              "\n",
              "  <div class=\"colab-df-container\">\n",
              "    <button class=\"colab-df-convert\" onclick=\"convertToInteractive('df-5a22a318-9165-4407-b9af-0000e2515674')\"\n",
              "            title=\"Convert this dataframe to an interactive table.\"\n",
              "            style=\"display:none;\">\n",
              "\n",
              "  <svg xmlns=\"http://www.w3.org/2000/svg\" height=\"24px\" viewBox=\"0 -960 960 960\">\n",
              "    <path d=\"M120-120v-720h720v720H120Zm60-500h600v-160H180v160Zm220 220h160v-160H400v160Zm0 220h160v-160H400v160ZM180-400h160v-160H180v160Zm440 0h160v-160H620v160ZM180-180h160v-160H180v160Zm440 0h160v-160H620v160Z\"/>\n",
              "  </svg>\n",
              "    </button>\n",
              "\n",
              "  <style>\n",
              "    .colab-df-container {\n",
              "      display:flex;\n",
              "      gap: 12px;\n",
              "    }\n",
              "\n",
              "    .colab-df-convert {\n",
              "      background-color: #E8F0FE;\n",
              "      border: none;\n",
              "      border-radius: 50%;\n",
              "      cursor: pointer;\n",
              "      display: none;\n",
              "      fill: #1967D2;\n",
              "      height: 32px;\n",
              "      padding: 0 0 0 0;\n",
              "      width: 32px;\n",
              "    }\n",
              "\n",
              "    .colab-df-convert:hover {\n",
              "      background-color: #E2EBFA;\n",
              "      box-shadow: 0px 1px 2px rgba(60, 64, 67, 0.3), 0px 1px 3px 1px rgba(60, 64, 67, 0.15);\n",
              "      fill: #174EA6;\n",
              "    }\n",
              "\n",
              "    .colab-df-buttons div {\n",
              "      margin-bottom: 4px;\n",
              "    }\n",
              "\n",
              "    [theme=dark] .colab-df-convert {\n",
              "      background-color: #3B4455;\n",
              "      fill: #D2E3FC;\n",
              "    }\n",
              "\n",
              "    [theme=dark] .colab-df-convert:hover {\n",
              "      background-color: #434B5C;\n",
              "      box-shadow: 0px 1px 3px 1px rgba(0, 0, 0, 0.15);\n",
              "      filter: drop-shadow(0px 1px 2px rgba(0, 0, 0, 0.3));\n",
              "      fill: #FFFFFF;\n",
              "    }\n",
              "  </style>\n",
              "\n",
              "    <script>\n",
              "      const buttonEl =\n",
              "        document.querySelector('#df-5a22a318-9165-4407-b9af-0000e2515674 button.colab-df-convert');\n",
              "      buttonEl.style.display =\n",
              "        google.colab.kernel.accessAllowed ? 'block' : 'none';\n",
              "\n",
              "      async function convertToInteractive(key) {\n",
              "        const element = document.querySelector('#df-5a22a318-9165-4407-b9af-0000e2515674');\n",
              "        const dataTable =\n",
              "          await google.colab.kernel.invokeFunction('convertToInteractive',\n",
              "                                                    [key], {});\n",
              "        if (!dataTable) return;\n",
              "\n",
              "        const docLinkHtml = 'Like what you see? Visit the ' +\n",
              "          '<a target=\"_blank\" href=https://colab.research.google.com/notebooks/data_table.ipynb>data table notebook</a>'\n",
              "          + ' to learn more about interactive tables.';\n",
              "        element.innerHTML = '';\n",
              "        dataTable['output_type'] = 'display_data';\n",
              "        await google.colab.output.renderOutput(dataTable, element);\n",
              "        const docLink = document.createElement('div');\n",
              "        docLink.innerHTML = docLinkHtml;\n",
              "        element.appendChild(docLink);\n",
              "      }\n",
              "    </script>\n",
              "  </div>\n",
              "\n",
              "\n",
              "    <div id=\"df-b5768692-1fa8-444f-a3ed-a4d86adb2e70\">\n",
              "      <button class=\"colab-df-quickchart\" onclick=\"quickchart('df-b5768692-1fa8-444f-a3ed-a4d86adb2e70')\"\n",
              "                title=\"Suggest charts\"\n",
              "                style=\"display:none;\">\n",
              "\n",
              "<svg xmlns=\"http://www.w3.org/2000/svg\" height=\"24px\"viewBox=\"0 0 24 24\"\n",
              "     width=\"24px\">\n",
              "    <g>\n",
              "        <path d=\"M19 3H5c-1.1 0-2 .9-2 2v14c0 1.1.9 2 2 2h14c1.1 0 2-.9 2-2V5c0-1.1-.9-2-2-2zM9 17H7v-7h2v7zm4 0h-2V7h2v10zm4 0h-2v-4h2v4z\"/>\n",
              "    </g>\n",
              "</svg>\n",
              "      </button>\n",
              "\n",
              "<style>\n",
              "  .colab-df-quickchart {\n",
              "      --bg-color: #E8F0FE;\n",
              "      --fill-color: #1967D2;\n",
              "      --hover-bg-color: #E2EBFA;\n",
              "      --hover-fill-color: #174EA6;\n",
              "      --disabled-fill-color: #AAA;\n",
              "      --disabled-bg-color: #DDD;\n",
              "  }\n",
              "\n",
              "  [theme=dark] .colab-df-quickchart {\n",
              "      --bg-color: #3B4455;\n",
              "      --fill-color: #D2E3FC;\n",
              "      --hover-bg-color: #434B5C;\n",
              "      --hover-fill-color: #FFFFFF;\n",
              "      --disabled-bg-color: #3B4455;\n",
              "      --disabled-fill-color: #666;\n",
              "  }\n",
              "\n",
              "  .colab-df-quickchart {\n",
              "    background-color: var(--bg-color);\n",
              "    border: none;\n",
              "    border-radius: 50%;\n",
              "    cursor: pointer;\n",
              "    display: none;\n",
              "    fill: var(--fill-color);\n",
              "    height: 32px;\n",
              "    padding: 0;\n",
              "    width: 32px;\n",
              "  }\n",
              "\n",
              "  .colab-df-quickchart:hover {\n",
              "    background-color: var(--hover-bg-color);\n",
              "    box-shadow: 0 1px 2px rgba(60, 64, 67, 0.3), 0 1px 3px 1px rgba(60, 64, 67, 0.15);\n",
              "    fill: var(--button-hover-fill-color);\n",
              "  }\n",
              "\n",
              "  .colab-df-quickchart-complete:disabled,\n",
              "  .colab-df-quickchart-complete:disabled:hover {\n",
              "    background-color: var(--disabled-bg-color);\n",
              "    fill: var(--disabled-fill-color);\n",
              "    box-shadow: none;\n",
              "  }\n",
              "\n",
              "  .colab-df-spinner {\n",
              "    border: 2px solid var(--fill-color);\n",
              "    border-color: transparent;\n",
              "    border-bottom-color: var(--fill-color);\n",
              "    animation:\n",
              "      spin 1s steps(1) infinite;\n",
              "  }\n",
              "\n",
              "  @keyframes spin {\n",
              "    0% {\n",
              "      border-color: transparent;\n",
              "      border-bottom-color: var(--fill-color);\n",
              "      border-left-color: var(--fill-color);\n",
              "    }\n",
              "    20% {\n",
              "      border-color: transparent;\n",
              "      border-left-color: var(--fill-color);\n",
              "      border-top-color: var(--fill-color);\n",
              "    }\n",
              "    30% {\n",
              "      border-color: transparent;\n",
              "      border-left-color: var(--fill-color);\n",
              "      border-top-color: var(--fill-color);\n",
              "      border-right-color: var(--fill-color);\n",
              "    }\n",
              "    40% {\n",
              "      border-color: transparent;\n",
              "      border-right-color: var(--fill-color);\n",
              "      border-top-color: var(--fill-color);\n",
              "    }\n",
              "    60% {\n",
              "      border-color: transparent;\n",
              "      border-right-color: var(--fill-color);\n",
              "    }\n",
              "    80% {\n",
              "      border-color: transparent;\n",
              "      border-right-color: var(--fill-color);\n",
              "      border-bottom-color: var(--fill-color);\n",
              "    }\n",
              "    90% {\n",
              "      border-color: transparent;\n",
              "      border-bottom-color: var(--fill-color);\n",
              "    }\n",
              "  }\n",
              "</style>\n",
              "\n",
              "      <script>\n",
              "        async function quickchart(key) {\n",
              "          const quickchartButtonEl =\n",
              "            document.querySelector('#' + key + ' button');\n",
              "          quickchartButtonEl.disabled = true;  // To prevent multiple clicks.\n",
              "          quickchartButtonEl.classList.add('colab-df-spinner');\n",
              "          try {\n",
              "            const charts = await google.colab.kernel.invokeFunction(\n",
              "                'suggestCharts', [key], {});\n",
              "          } catch (error) {\n",
              "            console.error('Error during call to suggestCharts:', error);\n",
              "          }\n",
              "          quickchartButtonEl.classList.remove('colab-df-spinner');\n",
              "          quickchartButtonEl.classList.add('colab-df-quickchart-complete');\n",
              "        }\n",
              "        (() => {\n",
              "          let quickchartButtonEl =\n",
              "            document.querySelector('#df-b5768692-1fa8-444f-a3ed-a4d86adb2e70 button');\n",
              "          quickchartButtonEl.style.display =\n",
              "            google.colab.kernel.accessAllowed ? 'block' : 'none';\n",
              "        })();\n",
              "      </script>\n",
              "    </div>\n",
              "    </div>\n",
              "  </div>\n"
            ],
            "application/vnd.google.colaboratory.intrinsic+json": {
              "type": "dataframe",
              "variable_name": "df",
              "summary": "{\n  \"name\": \"df\",\n  \"rows\": 2,\n  \"fields\": [\n    {\n      \"column\": \"subscription_type\",\n      \"properties\": {\n        \"dtype\": \"string\",\n        \"num_unique_values\": 2,\n        \"samples\": [\n          \"ultra\",\n          \"free\"\n        ],\n        \"semantic_type\": \"\",\n        \"description\": \"\"\n      }\n    },\n    {\n      \"column\": \"user_id\",\n      \"properties\": {\n        \"dtype\": \"number\",\n        \"std\": 96,\n        \"min\": 699,\n        \"max\": 835,\n        \"num_unique_values\": 2,\n        \"samples\": [\n          699,\n          835\n        ],\n        \"semantic_type\": \"\",\n        \"description\": \"\"\n      }\n    }\n  ]\n}"
            }
          },
          "metadata": {},
          "execution_count": 19
        }
      ],
      "source": [
        "df=users.groupby('subscription_type', as_index = False)['user_id'].count()\n",
        "df"
      ]
    },
    {
      "cell_type": "code",
      "execution_count": null,
      "id": "548a173e",
      "metadata": {
        "colab": {
          "base_uri": "https://localhost:8080/",
          "height": 598
        },
        "id": "548a173e",
        "outputId": "fdab39dd-b8e2-4dba-db5b-b94cebd4c782"
      },
      "outputs": [
        {
          "output_type": "display_data",
          "data": {
            "text/plain": [
              "<Figure size 1000x700 with 1 Axes>"
            ],
            "image/png": "[encoded data removed]"
          },
          "metadata": {}
        }
      ],
      "source": [
        "plt.pie(df['user_id'], labels=df['subscription_type'], \\\n",
        "           colors=sns.color_palette('turbo', 8), \\\n",
        "           autopct='%.1f%%')\n",
        "plt.title('Распределение пользователей сервиса по типу подписки', size=12)\n",
        "plt.legend(\n",
        "    bbox_to_anchor = (0.96, 0.35, 0.25, 0.45),\n",
        "    labels = df['user_id'])\n",
        "plt.show()"
      ]
    },
    {
      "cell_type": "markdown",
      "id": "2b162934",
      "metadata": {
        "id": "2b162934"
      },
      "source": [
        "**Вывод по разделу \"Исследование соотношения пользователей с подпиской и без подписки\":**\n",
        "\n",
        "Наиболее часто сервисом пользуются без подписки - 54,4% пользователей."
      ]
    },
    {
      "cell_type": "markdown",
      "id": "939e1a36",
      "metadata": {
        "id": "939e1a36"
      },
      "source": [
        "### Исследуем возраст пользователей"
      ]
    },
    {
      "cell_type": "code",
      "execution_count": null,
      "id": "6827fa47",
      "metadata": {
        "colab": {
          "base_uri": "https://localhost:8080/",
          "height": 335
        },
        "id": "6827fa47",
        "outputId": "7d4f7a19-5ae9-4267-db4e-b4960f64cf87"
      },
      "outputs": [
        {
          "output_type": "execute_result",
          "data": {
            "text/plain": [
              "count   1,534.00\n",
              "mean       24.90\n",
              "std         4.57\n",
              "min        12.00\n",
              "25%        22.00\n",
              "50%        25.00\n",
              "75%        28.00\n",
              "max        43.00\n",
              "Name: age, dtype: float64"
            ],
            "text/html": [
              "<div>\n",
              "<style scoped>\n",
              "    .dataframe tbody tr th:only-of-type {\n",
              "        vertical-align: middle;\n",
              "    }\n",
              "\n",
              "    .dataframe tbody tr th {\n",
              "        vertical-align: top;\n",
              "    }\n",
              "\n",
              "    .dataframe thead th {\n",
              "        text-align: right;\n",
              "    }\n",
              "</style>\n",
              "<table border=\"1\" class=\"dataframe\">\n",
              "  <thead>\n",
              "    <tr style=\"text-align: right;\">\n",
              "      <th></th>\n",
              "      <th>age</th>\n",
              "    </tr>\n",
              "  </thead>\n",
              "  <tbody>\n",
              "    <tr>\n",
              "      <th>count</th>\n",
              "      <td>1,534.00</td>\n",
              "    </tr>\n",
              "    <tr>\n",
              "      <th>mean</th>\n",
              "      <td>24.90</td>\n",
              "    </tr>\n",
              "    <tr>\n",
              "      <th>std</th>\n",
              "      <td>4.57</td>\n",
              "    </tr>\n",
              "    <tr>\n",
              "      <th>min</th>\n",
              "      <td>12.00</td>\n",
              "    </tr>\n",
              "    <tr>\n",
              "      <th>25%</th>\n",
              "      <td>22.00</td>\n",
              "    </tr>\n",
              "    <tr>\n",
              "      <th>50%</th>\n",
              "      <td>25.00</td>\n",
              "    </tr>\n",
              "    <tr>\n",
              "      <th>75%</th>\n",
              "      <td>28.00</td>\n",
              "    </tr>\n",
              "    <tr>\n",
              "      <th>max</th>\n",
              "      <td>43.00</td>\n",
              "    </tr>\n",
              "  </tbody>\n",
              "</table>\n",
              "</div><br><label><b>dtype:</b> float64</label>"
            ]
          },
          "metadata": {},
          "execution_count": 21
        }
      ],
      "source": [
        "users['age'].describe()"
      ]
    },
    {
      "cell_type": "code",
      "execution_count": null,
      "id": "84bc4a6c",
      "metadata": {
        "colab": {
          "base_uri": "https://localhost:8080/",
          "height": 1000
        },
        "id": "84bc4a6c",
        "outputId": "f22218cf-0b0e-4e34-b4c7-6f5cb54146a3"
      },
      "outputs": [
        {
          "output_type": "display_data",
          "data": {
            "text/plain": [
              "<Figure size 800x1200 with 2 Axes>"
            ],
            "image/png": "[encoded data removed]"
          },
          "metadata": {}
        }
      ],
      "source": [
        "fig, axes = plt.subplots(2, 1, figsize=(8, 12))\n",
        "fig.suptitle('Распределение пользователей сервиса по возрасту', y=0.94, size=14)\n",
        "\n",
        "sns.boxplot(data=users, x='age', ax=axes[0])\n",
        "axes[0].set_title('''Диаграмма размаха''', size=12)\n",
        "axes[0].set_xlabel('Возраст пользователя (лет)', size=10)\n",
        "axes[0].grid(True, which = \"major\", linewidth = 1)\n",
        "axes[0].grid(which = \"minor\", linewidth = 0.3)\n",
        "axes[0].minorticks_on()\n",
        "\n",
        "users['age'].value_counts().sort_index().plot.bar(ax=axes[1])\n",
        "axes[1].set_title('''Столбчатая диаграмма распределения''', size=12)\n",
        "axes[1].set_xlabel('Возраст пользователя (лет)', size=10)\n",
        "axes[1].set_ylabel('Количество поездок', size=10)\n",
        "axes[1].grid(True, which = \"major\", linewidth = 1)\n",
        "axes[1].grid(which = \"minor\", linewidth = 0.3)\n",
        "axes[1].minorticks_on()\n",
        "\n",
        "plt.show()"
      ]
    },
    {
      "cell_type": "markdown",
      "id": "2173728a",
      "metadata": {
        "id": "2173728a"
      },
      "source": [
        "**Вывод по разделу \"Исследование возраста пользователей\":**\n",
        "\n",
        "Сервисом проката пользуются в возрасте от 12 до 43 лет, наиболее активные пользователи в возрасте от 22 до 28 лет."
      ]
    },
    {
      "cell_type": "markdown",
      "id": "0faba4a0",
      "metadata": {
        "id": "0faba4a0"
      },
      "source": [
        "### Проанализируем расстояние, которое пользователь преодолел за одну поездку"
      ]
    },
    {
      "cell_type": "code",
      "execution_count": null,
      "id": "ee340be2",
      "metadata": {
        "colab": {
          "base_uri": "https://localhost:8080/",
          "height": 335
        },
        "id": "ee340be2",
        "outputId": "39e8d568-c3b5-43a8-95a2-054b29e9d74c"
      },
      "outputs": [
        {
          "output_type": "execute_result",
          "data": {
            "text/plain": [
              "count   18,068.00\n",
              "mean     3,070.66\n",
              "std      1,116.83\n",
              "min          0.86\n",
              "25%      2,543.23\n",
              "50%      3,133.61\n",
              "75%      3,776.22\n",
              "max      7,211.01\n",
              "Name: distance, dtype: float64"
            ],
            "text/html": [
              "<div>\n",
              "<style scoped>\n",
              "    .dataframe tbody tr th:only-of-type {\n",
              "        vertical-align: middle;\n",
              "    }\n",
              "\n",
              "    .dataframe tbody tr th {\n",
              "        vertical-align: top;\n",
              "    }\n",
              "\n",
              "    .dataframe thead th {\n",
              "        text-align: right;\n",
              "    }\n",
              "</style>\n",
              "<table border=\"1\" class=\"dataframe\">\n",
              "  <thead>\n",
              "    <tr style=\"text-align: right;\">\n",
              "      <th></th>\n",
              "      <th>distance</th>\n",
              "    </tr>\n",
              "  </thead>\n",
              "  <tbody>\n",
              "    <tr>\n",
              "      <th>count</th>\n",
              "      <td>18,068.00</td>\n",
              "    </tr>\n",
              "    <tr>\n",
              "      <th>mean</th>\n",
              "      <td>3,070.66</td>\n",
              "    </tr>\n",
              "    <tr>\n",
              "      <th>std</th>\n",
              "      <td>1,116.83</td>\n",
              "    </tr>\n",
              "    <tr>\n",
              "      <th>min</th>\n",
              "      <td>0.86</td>\n",
              "    </tr>\n",
              "    <tr>\n",
              "      <th>25%</th>\n",
              "      <td>2,543.23</td>\n",
              "    </tr>\n",
              "    <tr>\n",
              "      <th>50%</th>\n",
              "      <td>3,133.61</td>\n",
              "    </tr>\n",
              "    <tr>\n",
              "      <th>75%</th>\n",
              "      <td>3,776.22</td>\n",
              "    </tr>\n",
              "    <tr>\n",
              "      <th>max</th>\n",
              "      <td>7,211.01</td>\n",
              "    </tr>\n",
              "  </tbody>\n",
              "</table>\n",
              "</div><br><label><b>dtype:</b> float64</label>"
            ]
          },
          "metadata": {},
          "execution_count": 23
        }
      ],
      "source": [
        "rides['distance'].describe()"
      ]
    },
    {
      "cell_type": "code",
      "execution_count": null,
      "id": "9f9414ba",
      "metadata": {
        "colab": {
          "base_uri": "https://localhost:8080/",
          "height": 1000
        },
        "id": "9f9414ba",
        "outputId": "afca9647-4f42-49c6-8e3a-ed9adea1d470"
      },
      "outputs": [
        {
          "output_type": "display_data",
          "data": {
            "text/plain": [
              "<Figure size 800x1200 with 2 Axes>"
            ],
            "image/png": "[encoded data removed]"
          },
          "metadata": {}
        }
      ],
      "source": [
        "fig, axes = plt.subplots(2, 1, figsize=(8, 12))\n",
        "fig.suptitle('Распределение поездок по расстоянию (м)', y=0.94, size=14)\n",
        "\n",
        "sns.boxplot(data=rides, x='distance', ax=axes[0])\n",
        "axes[0].set_title('''Диаграмма размахая''', size=12)\n",
        "axes[0].set_xlabel('Расстояние (м)', size=10)\n",
        "axes[0].grid(True, which = \"major\", linewidth = 1)\n",
        "axes[0].grid(which = \"minor\", linewidth = 0.3)\n",
        "axes[0].minorticks_on()\n",
        "\n",
        "sns.histplot(x='distance', data=rides, bins=36, ax=axes[1])\n",
        "axes[1].set_title('''Гистограмма распределения''', size=12)\n",
        "axes[1].set_xlabel('Расстояние (м)', size=10)\n",
        "axes[1].set_ylabel('Количество поездок', size=10)\n",
        "axes[1].grid(True, which = \"major\", linewidth = 1)\n",
        "axes[1].grid(which = \"minor\", linewidth = 0.3)\n",
        "axes[1].minorticks_on()\n",
        "plt.show()"
      ]
    },
    {
      "cell_type": "markdown",
      "id": "a1787e62",
      "metadata": {
        "id": "a1787e62"
      },
      "source": [
        "**Вывод по разделу \"Исследование расстояния, которое пользователь преодолел за одну поездку\":**\n",
        "\n",
        "Расстояние поездок составляет от 0,86 м до 7,21 км. Наиболее частые поездки на расстояние от 2,5 до 3,8 км."
      ]
    },
    {
      "cell_type": "markdown",
      "id": "fdf2dc8a",
      "metadata": {
        "id": "fdf2dc8a"
      },
      "source": [
        "### Исследуем продолжительность поездок"
      ]
    },
    {
      "cell_type": "code",
      "execution_count": null,
      "id": "550e5eca",
      "metadata": {
        "colab": {
          "base_uri": "https://localhost:8080/",
          "height": 335
        },
        "id": "550e5eca",
        "outputId": "ef7bd0d0-12f8-4da5-e75f-f376c437bed4"
      },
      "outputs": [
        {
          "output_type": "execute_result",
          "data": {
            "text/plain": [
              "count   18,068.00\n",
              "mean        17.81\n",
              "std          6.09\n",
              "min          0.50\n",
              "25%         13.60\n",
              "50%         17.68\n",
              "75%         21.72\n",
              "max         40.82\n",
              "Name: duration, dtype: float64"
            ],
            "text/html": [
              "<div>\n",
              "<style scoped>\n",
              "    .dataframe tbody tr th:only-of-type {\n",
              "        vertical-align: middle;\n",
              "    }\n",
              "\n",
              "    .dataframe tbody tr th {\n",
              "        vertical-align: top;\n",
              "    }\n",
              "\n",
              "    .dataframe thead th {\n",
              "        text-align: right;\n",
              "    }\n",
              "</style>\n",
              "<table border=\"1\" class=\"dataframe\">\n",
              "  <thead>\n",
              "    <tr style=\"text-align: right;\">\n",
              "      <th></th>\n",
              "      <th>duration</th>\n",
              "    </tr>\n",
              "  </thead>\n",
              "  <tbody>\n",
              "    <tr>\n",
              "      <th>count</th>\n",
              "      <td>18,068.00</td>\n",
              "    </tr>\n",
              "    <tr>\n",
              "      <th>mean</th>\n",
              "      <td>17.81</td>\n",
              "    </tr>\n",
              "    <tr>\n",
              "      <th>std</th>\n",
              "      <td>6.09</td>\n",
              "    </tr>\n",
              "    <tr>\n",
              "      <th>min</th>\n",
              "      <td>0.50</td>\n",
              "    </tr>\n",
              "    <tr>\n",
              "      <th>25%</th>\n",
              "      <td>13.60</td>\n",
              "    </tr>\n",
              "    <tr>\n",
              "      <th>50%</th>\n",
              "      <td>17.68</td>\n",
              "    </tr>\n",
              "    <tr>\n",
              "      <th>75%</th>\n",
              "      <td>21.72</td>\n",
              "    </tr>\n",
              "    <tr>\n",
              "      <th>max</th>\n",
              "      <td>40.82</td>\n",
              "    </tr>\n",
              "  </tbody>\n",
              "</table>\n",
              "</div><br><label><b>dtype:</b> float64</label>"
            ]
          },
          "metadata": {},
          "execution_count": 25
        }
      ],
      "source": [
        "rides['duration'].describe()"
      ]
    },
    {
      "cell_type": "code",
      "execution_count": null,
      "id": "3d5a2fe2",
      "metadata": {
        "colab": {
          "base_uri": "https://localhost:8080/",
          "height": 1000
        },
        "id": "3d5a2fe2",
        "outputId": "27b70c28-9e80-43d9-ec64-83eaa0d08f3f"
      },
      "outputs": [
        {
          "output_type": "display_data",
          "data": {
            "text/plain": [
              "<Figure size 800x1200 with 2 Axes>"
            ],
            "image/png": "[encoded data removed]"
          },
          "metadata": {}
        }
      ],
      "source": [
        "fig, axes = plt.subplots(2, 1, figsize=(8, 12))\n",
        "fig.suptitle('Распределение поездок по продолжительности', y=0.94, size=14)\n",
        "\n",
        "sns.boxplot(data=rides, x='duration', ax=axes[0])\n",
        "axes[0].set_title('''Диаграмма размаха''', size=12)\n",
        "axes[0].set_xlabel('Продолжительность поездки (мин)', size=10)\n",
        "axes[0].grid(True, which = \"major\", linewidth = 1)\n",
        "axes[0].grid(which = \"minor\", linewidth = 0.3)\n",
        "axes[0].minorticks_on()\n",
        "\n",
        "sns.histplot(x='duration', data=rides, bins=41, ax=axes[1])\n",
        "axes[1].set_title('''Гистограмма распределение''', size=12)\n",
        "axes[1].set_xlabel('Продолжительность поездки (мин)', size=10)\n",
        "axes[1].set_ylabel('Количество поездок', size=10)\n",
        "axes[1].grid(True, which = \"major\", linewidth = 1)\n",
        "axes[1].grid(which = \"minor\", linewidth = 0.3)\n",
        "axes[1].minorticks_on()\n",
        "plt.show()"
      ]
    },
    {
      "cell_type": "markdown",
      "id": "bc74a933",
      "metadata": {
        "id": "bc74a933"
      },
      "source": [
        "**Вывод по разделу \"Исследование продолжительности поездок\":**\n",
        "\n",
        "Продолжительность поездок составляет от 0,5 до 40,8 мин. Чаще всего совершают поездки продолжительностью от 13,6 до 21,7 мин."
      ]
    },
    {
      "cell_type": "markdown",
      "id": "dbf353b1",
      "metadata": {
        "id": "dbf353b1"
      },
      "source": [
        "**Вывод по разделу \"Исследовательский анализ данных\":**\n",
        "1. Данные представлены о 1534 пользователях сервиса из 8 городов, наиболее активно регистрировались в приложении пользователи в Пятигорске, Екатеринбурге, Ростове-на-Дону и Краснодаре.\n",
        "2. Наиболее часто сервисом пользуются без подписки - 54,4% пользователей.\n",
        "3. Сервисом проката пользуются в возрасте от 12 до 43 лет, наиболее активные пользователи в возрасте от 22 до 28 лет.\n",
        "4. Расстояние поездок составляет от 0,86 м до 7,21 км. Наиболее частые поездки на расстояние от 2,5 до 3,8 км.\n",
        "5. Продолжительность поездок составляет от 0,5 до 40,8 мин. Чаще всего совершают поездки продолжительностью от 13,6 до 21,7 мин.\n"
      ]
    },
    {
      "cell_type": "markdown",
      "id": "e272323e",
      "metadata": {
        "id": "e272323e"
      },
      "source": [
        "## Объединение данных"
      ]
    },
    {
      "cell_type": "markdown",
      "id": "dba375ec",
      "metadata": {
        "id": "dba375ec"
      },
      "source": [
        "### Объеденим данные о поездках с данными о пользователях и видах подписки"
      ]
    },
    {
      "cell_type": "code",
      "execution_count": null,
      "id": "a185a666",
      "metadata": {
        "colab": {
          "base_uri": "https://localhost:8080/",
          "height": 72
        },
        "id": "a185a666",
        "outputId": "2ae06aee-0356-4375-880d-37c36c8d0b72"
      },
      "outputs": [
        {
          "output_type": "display_data",
          "data": {
            "text/plain": [
              "(18068, 5)"
            ]
          },
          "metadata": {}
        },
        {
          "output_type": "display_data",
          "data": {
            "text/plain": [
              "(1534, 5)"
            ]
          },
          "metadata": {}
        },
        {
          "output_type": "display_data",
          "data": {
            "text/plain": [
              "(2, 4)"
            ]
          },
          "metadata": {}
        }
      ],
      "source": [
        "# измерим датафреймы до объединения\n",
        "display(rides.shape, users.shape, subscriptions.shape)"
      ]
    },
    {
      "cell_type": "code",
      "execution_count": null,
      "id": "facd297c",
      "metadata": {
        "colab": {
          "base_uri": "https://localhost:8080/",
          "height": 224
        },
        "id": "facd297c",
        "outputId": "1a960cac-7a52-405d-ffa1-5b16480e6853"
      },
      "outputs": [
        {
          "output_type": "display_data",
          "data": {
            "text/plain": [
              "   user_id  distance  duration       date    month  name  age    city  \\\n",
              "0        1  4,409.92     25.60 2021-01-01  2021-01  Кира   22  Тюмень   \n",
              "1        1  2,617.59     15.82 2021-01-18  2021-01  Кира   22  Тюмень   \n",
              "2        1    754.16      6.23 2021-04-20  2021-04  Кира   22  Тюмень   \n",
              "3        1  2,694.78     18.51 2021-08-11  2021-08  Кира   22  Тюмень   \n",
              "4        1  4,028.69     26.27 2021-08-28  2021-08  Кира   22  Тюмень   \n",
              "\n",
              "  subscription_type  minute_price  start_ride_price  subscription_fee  \n",
              "0             ultra             6                 0               199  \n",
              "1             ultra             6                 0               199  \n",
              "2             ultra             6                 0               199  \n",
              "3             ultra             6                 0               199  \n",
              "4             ultra             6                 0               199  "
            ],
            "text/html": [
              "\n",
              "  <div id=\"df-99df1c0b-4c35-4a9e-8f80-48966881892a\" class=\"colab-df-container\">\n",
              "    <div>\n",
              "<style scoped>\n",
              "    .dataframe tbody tr th:only-of-type {\n",
              "        vertical-align: middle;\n",
              "    }\n",
              "\n",
              "    .dataframe tbody tr th {\n",
              "        vertical-align: top;\n",
              "    }\n",
              "\n",
              "    .dataframe thead th {\n",
              "        text-align: right;\n",
              "    }\n",
              "</style>\n",
              "<table border=\"1\" class=\"dataframe\">\n",
              "  <thead>\n",
              "    <tr style=\"text-align: right;\">\n",
              "      <th></th>\n",
              "      <th>user_id</th>\n",
              "      <th>distance</th>\n",
              "      <th>duration</th>\n",
              "      <th>date</th>\n",
              "      <th>month</th>\n",
              "      <th>name</th>\n",
              "      <th>age</th>\n",
              "      <th>city</th>\n",
              "      <th>subscription_type</th>\n",
              "      <th>minute_price</th>\n",
              "      <th>start_ride_price</th>\n",
              "      <th>subscription_fee</th>\n",
              "    </tr>\n",
              "  </thead>\n",
              "  <tbody>\n",
              "    <tr>\n",
              "      <th>0</th>\n",
              "      <td>1</td>\n",
              "      <td>4,409.92</td>\n",
              "      <td>25.60</td>\n",
              "      <td>2021-01-01</td>\n",
              "      <td>2021-01</td>\n",
              "      <td>Кира</td>\n",
              "      <td>22</td>\n",
              "      <td>Тюмень</td>\n",
              "      <td>ultra</td>\n",
              "      <td>6</td>\n",
              "      <td>0</td>\n",
              "      <td>199</td>\n",
              "    </tr>\n",
              "    <tr>\n",
              "      <th>1</th>\n",
              "      <td>1</td>\n",
              "      <td>2,617.59</td>\n",
              "      <td>15.82</td>\n",
              "      <td>2021-01-18</td>\n",
              "      <td>2021-01</td>\n",
              "      <td>Кира</td>\n",
              "      <td>22</td>\n",
              "      <td>Тюмень</td>\n",
              "      <td>ultra</td>\n",
              "      <td>6</td>\n",
              "      <td>0</td>\n",
              "      <td>199</td>\n",
              "    </tr>\n",
              "    <tr>\n",
              "      <th>2</th>\n",
              "      <td>1</td>\n",
              "      <td>754.16</td>\n",
              "      <td>6.23</td>\n",
              "      <td>2021-04-20</td>\n",
              "      <td>2021-04</td>\n",
              "      <td>Кира</td>\n",
              "      <td>22</td>\n",
              "      <td>Тюмень</td>\n",
              "      <td>ultra</td>\n",
              "      <td>6</td>\n",
              "      <td>0</td>\n",
              "      <td>199</td>\n",
              "    </tr>\n",
              "    <tr>\n",
              "      <th>3</th>\n",
              "      <td>1</td>\n",
              "      <td>2,694.78</td>\n",
              "      <td>18.51</td>\n",
              "      <td>2021-08-11</td>\n",
              "      <td>2021-08</td>\n",
              "      <td>Кира</td>\n",
              "      <td>22</td>\n",
              "      <td>Тюмень</td>\n",
              "      <td>ultra</td>\n",
              "      <td>6</td>\n",
              "      <td>0</td>\n",
              "      <td>199</td>\n",
              "    </tr>\n",
              "    <tr>\n",
              "      <th>4</th>\n",
              "      <td>1</td>\n",
              "      <td>4,028.69</td>\n",
              "      <td>26.27</td>\n",
              "      <td>2021-08-28</td>\n",
              "      <td>2021-08</td>\n",
              "      <td>Кира</td>\n",
              "      <td>22</td>\n",
              "      <td>Тюмень</td>\n",
              "      <td>ultra</td>\n",
              "      <td>6</td>\n",
              "      <td>0</td>\n",
              "      <td>199</td>\n",
              "    </tr>\n",
              "  </tbody>\n",
              "</table>\n",
              "</div>\n",
              "    <div class=\"colab-df-buttons\">\n",
              "\n",
              "  <div class=\"colab-df-container\">\n",
              "    <button class=\"colab-df-convert\" onclick=\"convertToInteractive('df-99df1c0b-4c35-4a9e-8f80-48966881892a')\"\n",
              "            title=\"Convert this dataframe to an interactive table.\"\n",
              "            style=\"display:none;\">\n",
              "\n",
              "  <svg xmlns=\"http://www.w3.org/2000/svg\" height=\"24px\" viewBox=\"0 -960 960 960\">\n",
              "    <path d=\"M120-120v-720h720v720H120Zm60-500h600v-160H180v160Zm220 220h160v-160H400v160Zm0 220h160v-160H400v160ZM180-400h160v-160H180v160Zm440 0h160v-160H620v160ZM180-180h160v-160H180v160Zm440 0h160v-160H620v160Z\"/>\n",
              "  </svg>\n",
              "    </button>\n",
              "\n",
              "  <style>\n",
              "    .colab-df-container {\n",
              "      display:flex;\n",
              "      gap: 12px;\n",
              "    }\n",
              "\n",
              "    .colab-df-convert {\n",
              "      background-color: #E8F0FE;\n",
              "      border: none;\n",
              "      border-radius: 50%;\n",
              "      cursor: pointer;\n",
              "      display: none;\n",
              "      fill: #1967D2;\n",
              "      height: 32px;\n",
              "      padding: 0 0 0 0;\n",
              "      width: 32px;\n",
              "    }\n",
              "\n",
              "    .colab-df-convert:hover {\n",
              "      background-color: #E2EBFA;\n",
              "      box-shadow: 0px 1px 2px rgba(60, 64, 67, 0.3), 0px 1px 3px 1px rgba(60, 64, 67, 0.15);\n",
              "      fill: #174EA6;\n",
              "    }\n",
              "\n",
              "    .colab-df-buttons div {\n",
              "      margin-bottom: 4px;\n",
              "    }\n",
              "\n",
              "    [theme=dark] .colab-df-convert {\n",
              "      background-color: #3B4455;\n",
              "      fill: #D2E3FC;\n",
              "    }\n",
              "\n",
              "    [theme=dark] .colab-df-convert:hover {\n",
              "      background-color: #434B5C;\n",
              "      box-shadow: 0px 1px 3px 1px rgba(0, 0, 0, 0.15);\n",
              "      filter: drop-shadow(0px 1px 2px rgba(0, 0, 0, 0.3));\n",
              "      fill: #FFFFFF;\n",
              "    }\n",
              "  </style>\n",
              "\n",
              "    <script>\n",
              "      const buttonEl =\n",
              "        document.querySelector('#df-99df1c0b-4c35-4a9e-8f80-48966881892a button.colab-df-convert');\n",
              "      buttonEl.style.display =\n",
              "        google.colab.kernel.accessAllowed ? 'block' : 'none';\n",
              "\n",
              "      async function convertToInteractive(key) {\n",
              "        const element = document.querySelector('#df-99df1c0b-4c35-4a9e-8f80-48966881892a');\n",
              "        const dataTable =\n",
              "          await google.colab.kernel.invokeFunction('convertToInteractive',\n",
              "                                                    [key], {});\n",
              "        if (!dataTable) return;\n",
              "\n",
              "        const docLinkHtml = 'Like what you see? Visit the ' +\n",
              "          '<a target=\"_blank\" href=https://colab.research.google.com/notebooks/data_table.ipynb>data table notebook</a>'\n",
              "          + ' to learn more about interactive tables.';\n",
              "        element.innerHTML = '';\n",
              "        dataTable['output_type'] = 'display_data';\n",
              "        await google.colab.output.renderOutput(dataTable, element);\n",
              "        const docLink = document.createElement('div');\n",
              "        docLink.innerHTML = docLinkHtml;\n",
              "        element.appendChild(docLink);\n",
              "      }\n",
              "    </script>\n",
              "  </div>\n",
              "\n",
              "\n",
              "    <div id=\"df-d59944c3-587c-44ae-b867-f650b56d3abd\">\n",
              "      <button class=\"colab-df-quickchart\" onclick=\"quickchart('df-d59944c3-587c-44ae-b867-f650b56d3abd')\"\n",
              "                title=\"Suggest charts\"\n",
              "                style=\"display:none;\">\n",
              "\n",
              "<svg xmlns=\"http://www.w3.org/2000/svg\" height=\"24px\"viewBox=\"0 0 24 24\"\n",
              "     width=\"24px\">\n",
              "    <g>\n",
              "        <path d=\"M19 3H5c-1.1 0-2 .9-2 2v14c0 1.1.9 2 2 2h14c1.1 0 2-.9 2-2V5c0-1.1-.9-2-2-2zM9 17H7v-7h2v7zm4 0h-2V7h2v10zm4 0h-2v-4h2v4z\"/>\n",
              "    </g>\n",
              "</svg>\n",
              "      </button>\n",
              "\n",
              "<style>\n",
              "  .colab-df-quickchart {\n",
              "      --bg-color: #E8F0FE;\n",
              "      --fill-color: #1967D2;\n",
              "      --hover-bg-color: #E2EBFA;\n",
              "      --hover-fill-color: #174EA6;\n",
              "      --disabled-fill-color: #AAA;\n",
              "      --disabled-bg-color: #DDD;\n",
              "  }\n",
              "\n",
              "  [theme=dark] .colab-df-quickchart {\n",
              "      --bg-color: #3B4455;\n",
              "      --fill-color: #D2E3FC;\n",
              "      --hover-bg-color: #434B5C;\n",
              "      --hover-fill-color: #FFFFFF;\n",
              "      --disabled-bg-color: #3B4455;\n",
              "      --disabled-fill-color: #666;\n",
              "  }\n",
              "\n",
              "  .colab-df-quickchart {\n",
              "    background-color: var(--bg-color);\n",
              "    border: none;\n",
              "    border-radius: 50%;\n",
              "    cursor: pointer;\n",
              "    display: none;\n",
              "    fill: var(--fill-color);\n",
              "    height: 32px;\n",
              "    padding: 0;\n",
              "    width: 32px;\n",
              "  }\n",
              "\n",
              "  .colab-df-quickchart:hover {\n",
              "    background-color: var(--hover-bg-color);\n",
              "    box-shadow: 0 1px 2px rgba(60, 64, 67, 0.3), 0 1px 3px 1px rgba(60, 64, 67, 0.15);\n",
              "    fill: var(--button-hover-fill-color);\n",
              "  }\n",
              "\n",
              "  .colab-df-quickchart-complete:disabled,\n",
              "  .colab-df-quickchart-complete:disabled:hover {\n",
              "    background-color: var(--disabled-bg-color);\n",
              "    fill: var(--disabled-fill-color);\n",
              "    box-shadow: none;\n",
              "  }\n",
              "\n",
              "  .colab-df-spinner {\n",
              "    border: 2px solid var(--fill-color);\n",
              "    border-color: transparent;\n",
              "    border-bottom-color: var(--fill-color);\n",
              "    animation:\n",
              "      spin 1s steps(1) infinite;\n",
              "  }\n",
              "\n",
              "  @keyframes spin {\n",
              "    0% {\n",
              "      border-color: transparent;\n",
              "      border-bottom-color: var(--fill-color);\n",
              "      border-left-color: var(--fill-color);\n",
              "    }\n",
              "    20% {\n",
              "      border-color: transparent;\n",
              "      border-left-color: var(--fill-color);\n",
              "      border-top-color: var(--fill-color);\n",
              "    }\n",
              "    30% {\n",
              "      border-color: transparent;\n",
              "      border-left-color: var(--fill-color);\n",
              "      border-top-color: var(--fill-color);\n",
              "      border-right-color: var(--fill-color);\n",
              "    }\n",
              "    40% {\n",
              "      border-color: transparent;\n",
              "      border-right-color: var(--fill-color);\n",
              "      border-top-color: var(--fill-color);\n",
              "    }\n",
              "    60% {\n",
              "      border-color: transparent;\n",
              "      border-right-color: var(--fill-color);\n",
              "    }\n",
              "    80% {\n",
              "      border-color: transparent;\n",
              "      border-right-color: var(--fill-color);\n",
              "      border-bottom-color: var(--fill-color);\n",
              "    }\n",
              "    90% {\n",
              "      border-color: transparent;\n",
              "      border-bottom-color: var(--fill-color);\n",
              "    }\n",
              "  }\n",
              "</style>\n",
              "\n",
              "      <script>\n",
              "        async function quickchart(key) {\n",
              "          const quickchartButtonEl =\n",
              "            document.querySelector('#' + key + ' button');\n",
              "          quickchartButtonEl.disabled = true;  // To prevent multiple clicks.\n",
              "          quickchartButtonEl.classList.add('colab-df-spinner');\n",
              "          try {\n",
              "            const charts = await google.colab.kernel.invokeFunction(\n",
              "                'suggestCharts', [key], {});\n",
              "          } catch (error) {\n",
              "            console.error('Error during call to suggestCharts:', error);\n",
              "          }\n",
              "          quickchartButtonEl.classList.remove('colab-df-spinner');\n",
              "          quickchartButtonEl.classList.add('colab-df-quickchart-complete');\n",
              "        }\n",
              "        (() => {\n",
              "          let quickchartButtonEl =\n",
              "            document.querySelector('#df-d59944c3-587c-44ae-b867-f650b56d3abd button');\n",
              "          quickchartButtonEl.style.display =\n",
              "            google.colab.kernel.accessAllowed ? 'block' : 'none';\n",
              "        })();\n",
              "      </script>\n",
              "    </div>\n",
              "    </div>\n",
              "  </div>\n"
            ],
            "application/vnd.google.colaboratory.intrinsic+json": {
              "type": "dataframe",
              "summary": "{\n  \"name\": \"display(df\",\n  \"rows\": 5,\n  \"fields\": [\n    {\n      \"column\": \"user_id\",\n      \"properties\": {\n        \"dtype\": \"number\",\n        \"std\": 0,\n        \"min\": 1,\n        \"max\": 1,\n        \"num_unique_values\": 1,\n        \"samples\": [\n          1\n        ],\n        \"semantic_type\": \"\",\n        \"description\": \"\"\n      }\n    },\n    {\n      \"column\": \"distance\",\n      \"properties\": {\n        \"dtype\": \"number\",\n        \"std\": 1438.774113305551,\n        \"min\": 754.1598069611837,\n        \"max\": 4409.919140196136,\n        \"num_unique_values\": 5,\n        \"samples\": [\n          2617.5921534552563\n        ],\n        \"semantic_type\": \"\",\n        \"description\": \"\"\n      }\n    },\n    {\n      \"column\": \"duration\",\n      \"properties\": {\n        \"dtype\": \"number\",\n        \"std\": 8.191667157656862,\n        \"min\": 6.232113458405072,\n        \"max\": 26.265802740711653,\n        \"num_unique_values\": 5,\n        \"samples\": [\n          15.816871452122792\n        ],\n        \"semantic_type\": \"\",\n        \"description\": \"\"\n      }\n    },\n    {\n      \"column\": \"date\",\n      \"properties\": {\n        \"dtype\": \"date\",\n        \"min\": \"2021-01-01 00:00:00\",\n        \"max\": \"2021-08-28 00:00:00\",\n        \"num_unique_values\": 5,\n        \"samples\": [\n          \"2021-01-18 00:00:00\"\n        ],\n        \"semantic_type\": \"\",\n        \"description\": \"\"\n      }\n    },\n    {\n      \"column\": \"month\",\n      \"properties\": {\n        \"dtype\": \"period[M]\",\n        \"num_unique_values\": 3,\n        \"samples\": [\n          \"2021-01\"\n        ],\n        \"semantic_type\": \"\",\n        \"description\": \"\"\n      }\n    },\n    {\n      \"column\": \"name\",\n      \"properties\": {\n        \"dtype\": \"category\",\n        \"num_unique_values\": 1,\n        \"samples\": [\n          \"\\u041a\\u0438\\u0440\\u0430\"\n        ],\n        \"semantic_type\": \"\",\n        \"description\": \"\"\n      }\n    },\n    {\n      \"column\": \"age\",\n      \"properties\": {\n        \"dtype\": \"number\",\n        \"std\": 0,\n        \"min\": 22,\n        \"max\": 22,\n        \"num_unique_values\": 1,\n        \"samples\": [\n          22\n        ],\n        \"semantic_type\": \"\",\n        \"description\": \"\"\n      }\n    },\n    {\n      \"column\": \"city\",\n      \"properties\": {\n        \"dtype\": \"category\",\n        \"num_unique_values\": 1,\n        \"samples\": [\n          \"\\u0422\\u044e\\u043c\\u0435\\u043d\\u044c\"\n        ],\n        \"semantic_type\": \"\",\n        \"description\": \"\"\n      }\n    },\n    {\n      \"column\": \"subscription_type\",\n      \"properties\": {\n        \"dtype\": \"category\",\n        \"num_unique_values\": 1,\n        \"samples\": [\n          \"ultra\"\n        ],\n        \"semantic_type\": \"\",\n        \"description\": \"\"\n      }\n    },\n    {\n      \"column\": \"minute_price\",\n      \"properties\": {\n        \"dtype\": \"number\",\n        \"std\": 0,\n        \"min\": 6,\n        \"max\": 6,\n        \"num_unique_values\": 1,\n        \"samples\": [\n          6\n        ],\n        \"semantic_type\": \"\",\n        \"description\": \"\"\n      }\n    },\n    {\n      \"column\": \"start_ride_price\",\n      \"properties\": {\n        \"dtype\": \"number\",\n        \"std\": 0,\n        \"min\": 0,\n        \"max\": 0,\n        \"num_unique_values\": 1,\n        \"samples\": [\n          0\n        ],\n        \"semantic_type\": \"\",\n        \"description\": \"\"\n      }\n    },\n    {\n      \"column\": \"subscription_fee\",\n      \"properties\": {\n        \"dtype\": \"number\",\n        \"std\": 0,\n        \"min\": 199,\n        \"max\": 199,\n        \"num_unique_values\": 1,\n        \"samples\": [\n          199\n        ],\n        \"semantic_type\": \"\",\n        \"description\": \"\"\n      }\n    }\n  ]\n}"
            }
          },
          "metadata": {}
        },
        {
          "output_type": "display_data",
          "data": {
            "text/plain": [
              "(18068, 12)"
            ]
          },
          "metadata": {}
        }
      ],
      "source": [
        "# объединим датафреймы и сделаем контроль размеров конечного датафрейма\n",
        "df=pd.merge(rides, users, on='user_id', how='left')\n",
        "df=pd.merge(df, subscriptions, on='subscription_type', how='left')\n",
        "display(df.head(), df.shape)"
      ]
    },
    {
      "cell_type": "markdown",
      "id": "ecfdf4d9",
      "metadata": {
        "id": "ecfdf4d9"
      },
      "source": [
        "### Исследуем распределение поездок по расстоянию и продолжительности для пользователей с подпиской (ultra) и без подписки (free)"
      ]
    },
    {
      "cell_type": "code",
      "execution_count": null,
      "id": "46bfe4c7",
      "metadata": {
        "colab": {
          "base_uri": "https://localhost:8080/",
          "height": 743
        },
        "id": "46bfe4c7",
        "outputId": "3cd14051-da88-4908-97c1-1be92c077c86"
      },
      "outputs": [
        {
          "output_type": "display_data",
          "data": {
            "text/plain": [
              "<Figure size 1500x800 with 2 Axes>"
            ],
            "image/png": "[encoded data removed]"
          },
          "metadata": {}
        }
      ],
      "source": [
        "# визуализируем распределение поездок по расстоянию и продолжительности для пользователей с подпиской (ultra) и без (free)\n",
        "fig, axes = plt.subplots(1, 2, figsize=(15, 8))\n",
        "fig.suptitle('Распределение поездок для пользователей с подпиской (ultra) и без подписки (free)', y=0.95, size=14)\n",
        "\n",
        "sns.boxplot(data=df, y='distance', x='subscription_type', ax=axes[0])\n",
        "axes[0].set_title('''Распределение по расстоянию''', size=12)\n",
        "axes[0].set_ylabel('Расстояние поездок (м)', size=10)\n",
        "axes[0].grid(True, which = \"major\", linewidth = 1)\n",
        "axes[0].grid(which = \"minor\", linewidth = 0.3)\n",
        "axes[0].minorticks_on()\n",
        "\n",
        "sns.boxplot(y='duration', data=df, x='subscription_type', ax=axes[1])\n",
        "axes[1].set_title('''Распределение по продолжительности''', size=12)\n",
        "axes[1].set_ylabel('Продолжительность поездок (мин)', size=10)\n",
        "axes[1].grid(True, which = \"major\", linewidth = 1)\n",
        "axes[1].grid(which = \"minor\", linewidth = 0.3)\n",
        "axes[1].minorticks_on()\n",
        "\n",
        "plt.show()"
      ]
    },
    {
      "cell_type": "markdown",
      "id": "f4281740",
      "metadata": {
        "id": "f4281740"
      },
      "source": [
        "- Медианное значение **расстояния поездок** у пользователей с подпиской и без подписки практически совпадают - около 3,1 км.\n",
        "- Размах проезжемых расстояний (без учета выбросов) с подпиской от 1,6 км до 4,7 км, клиенты сервиса с подпиской чаще проезжат расстояния от 2,8 км до 3,6 км.\n",
        "- Без подписки размах расстояний (без учета выбросов) значительно больше - от нескольких метров до 6,1 км, чаще клиенты с подпиской преодолевают расстояния от 2,2 км до 3,9 км.\n",
        "- Медианное значение **продолжительности поездок** у пользователей с подпиской больше на 1 мин.\n",
        "- Размах времени в пути (без учета выбросов) с подпиской от 4 мин. до 33 мин., чаще с подпиской ездят от 14,5 мин до 22 мин.\n",
        "- Без подписки размах продолжительности  от нескольких секунд до 34,5 мин, без подписки чаще проезжают от 13 мин до 21,5 мин."
      ]
    },
    {
      "cell_type": "markdown",
      "id": "05f37bfc",
      "metadata": {
        "id": "05f37bfc"
      },
      "source": [
        "**Вывод по разделу \"Объединение данных\":**\n",
        "1. Объеденены данные о поездках с данными о пользователях сервиса и видах подписки.\n",
        "2. Проведен контроль размера датасетов до объединения и после, все данные вошли в итоговый датафрейм.\n",
        "3. Медианное значение расстояния поездок у пользователей с подпиской и без практически совпадают - около 3,1 км. Без подписки разброс расстояний больше - от нескольких метров до 6,1 км.\n",
        "4. Медианные значения продолжительности поездок у пользователей с подпиской и без близки по значению - 18 и 17 мин. Разброс расстояний поездок у пользователей с подпиской и без также близки по значению от нескольких минут до 33-34 мин.\n"
      ]
    },
    {
      "cell_type": "markdown",
      "id": "569bbb11",
      "metadata": {
        "id": "569bbb11"
      },
      "source": [
        "## Подсчёт выручки"
      ]
    },
    {
      "cell_type": "code",
      "execution_count": null,
      "id": "902a388f",
      "metadata": {
        "colab": {
          "base_uri": "https://localhost:8080/",
          "height": 206
        },
        "id": "902a388f",
        "outputId": "ff540d97-52be-47d8-c596-ae5dbfcec4af"
      },
      "outputs": [
        {
          "output_type": "execute_result",
          "data": {
            "text/plain": [
              "   duration  duration_rnd\n",
              "0     25.60         26.00\n",
              "1     15.82         16.00\n",
              "2      6.23          7.00\n",
              "3     18.51         19.00\n",
              "4     26.27         27.00"
            ],
            "text/html": [
              "\n",
              "  <div id=\"df-100a1b44-466e-43dc-afdf-5d332d98dc03\" class=\"colab-df-container\">\n",
              "    <div>\n",
              "<style scoped>\n",
              "    .dataframe tbody tr th:only-of-type {\n",
              "        vertical-align: middle;\n",
              "    }\n",
              "\n",
              "    .dataframe tbody tr th {\n",
              "        vertical-align: top;\n",
              "    }\n",
              "\n",
              "    .dataframe thead th {\n",
              "        text-align: right;\n",
              "    }\n",
              "</style>\n",
              "<table border=\"1\" class=\"dataframe\">\n",
              "  <thead>\n",
              "    <tr style=\"text-align: right;\">\n",
              "      <th></th>\n",
              "      <th>duration</th>\n",
              "      <th>duration_rnd</th>\n",
              "    </tr>\n",
              "  </thead>\n",
              "  <tbody>\n",
              "    <tr>\n",
              "      <th>0</th>\n",
              "      <td>25.60</td>\n",
              "      <td>26.00</td>\n",
              "    </tr>\n",
              "    <tr>\n",
              "      <th>1</th>\n",
              "      <td>15.82</td>\n",
              "      <td>16.00</td>\n",
              "    </tr>\n",
              "    <tr>\n",
              "      <th>2</th>\n",
              "      <td>6.23</td>\n",
              "      <td>7.00</td>\n",
              "    </tr>\n",
              "    <tr>\n",
              "      <th>3</th>\n",
              "      <td>18.51</td>\n",
              "      <td>19.00</td>\n",
              "    </tr>\n",
              "    <tr>\n",
              "      <th>4</th>\n",
              "      <td>26.27</td>\n",
              "      <td>27.00</td>\n",
              "    </tr>\n",
              "  </tbody>\n",
              "</table>\n",
              "</div>\n",
              "    <div class=\"colab-df-buttons\">\n",
              "\n",
              "  <div class=\"colab-df-container\">\n",
              "    <button class=\"colab-df-convert\" onclick=\"convertToInteractive('df-100a1b44-466e-43dc-afdf-5d332d98dc03')\"\n",
              "            title=\"Convert this dataframe to an interactive table.\"\n",
              "            style=\"display:none;\">\n",
              "\n",
              "  <svg xmlns=\"http://www.w3.org/2000/svg\" height=\"24px\" viewBox=\"0 -960 960 960\">\n",
              "    <path d=\"M120-120v-720h720v720H120Zm60-500h600v-160H180v160Zm220 220h160v-160H400v160Zm0 220h160v-160H400v160ZM180-400h160v-160H180v160Zm440 0h160v-160H620v160ZM180-180h160v-160H180v160Zm440 0h160v-160H620v160Z\"/>\n",
              "  </svg>\n",
              "    </button>\n",
              "\n",
              "  <style>\n",
              "    .colab-df-container {\n",
              "      display:flex;\n",
              "      gap: 12px;\n",
              "    }\n",
              "\n",
              "    .colab-df-convert {\n",
              "      background-color: #E8F0FE;\n",
              "      border: none;\n",
              "      border-radius: 50%;\n",
              "      cursor: pointer;\n",
              "      display: none;\n",
              "      fill: #1967D2;\n",
              "      height: 32px;\n",
              "      padding: 0 0 0 0;\n",
              "      width: 32px;\n",
              "    }\n",
              "\n",
              "    .colab-df-convert:hover {\n",
              "      background-color: #E2EBFA;\n",
              "      box-shadow: 0px 1px 2px rgba(60, 64, 67, 0.3), 0px 1px 3px 1px rgba(60, 64, 67, 0.15);\n",
              "      fill: #174EA6;\n",
              "    }\n",
              "\n",
              "    .colab-df-buttons div {\n",
              "      margin-bottom: 4px;\n",
              "    }\n",
              "\n",
              "    [theme=dark] .colab-df-convert {\n",
              "      background-color: #3B4455;\n",
              "      fill: #D2E3FC;\n",
              "    }\n",
              "\n",
              "    [theme=dark] .colab-df-convert:hover {\n",
              "      background-color: #434B5C;\n",
              "      box-shadow: 0px 1px 3px 1px rgba(0, 0, 0, 0.15);\n",
              "      filter: drop-shadow(0px 1px 2px rgba(0, 0, 0, 0.3));\n",
              "      fill: #FFFFFF;\n",
              "    }\n",
              "  </style>\n",
              "\n",
              "    <script>\n",
              "      const buttonEl =\n",
              "        document.querySelector('#df-100a1b44-466e-43dc-afdf-5d332d98dc03 button.colab-df-convert');\n",
              "      buttonEl.style.display =\n",
              "        google.colab.kernel.accessAllowed ? 'block' : 'none';\n",
              "\n",
              "      async function convertToInteractive(key) {\n",
              "        const element = document.querySelector('#df-100a1b44-466e-43dc-afdf-5d332d98dc03');\n",
              "        const dataTable =\n",
              "          await google.colab.kernel.invokeFunction('convertToInteractive',\n",
              "                                                    [key], {});\n",
              "        if (!dataTable) return;\n",
              "\n",
              "        const docLinkHtml = 'Like what you see? Visit the ' +\n",
              "          '<a target=\"_blank\" href=https://colab.research.google.com/notebooks/data_table.ipynb>data table notebook</a>'\n",
              "          + ' to learn more about interactive tables.';\n",
              "        element.innerHTML = '';\n",
              "        dataTable['output_type'] = 'display_data';\n",
              "        await google.colab.output.renderOutput(dataTable, element);\n",
              "        const docLink = document.createElement('div');\n",
              "        docLink.innerHTML = docLinkHtml;\n",
              "        element.appendChild(docLink);\n",
              "      }\n",
              "    </script>\n",
              "  </div>\n",
              "\n",
              "\n",
              "    <div id=\"df-2dd52698-1d8a-4cd5-a029-4c22d41df6a6\">\n",
              "      <button class=\"colab-df-quickchart\" onclick=\"quickchart('df-2dd52698-1d8a-4cd5-a029-4c22d41df6a6')\"\n",
              "                title=\"Suggest charts\"\n",
              "                style=\"display:none;\">\n",
              "\n",
              "<svg xmlns=\"http://www.w3.org/2000/svg\" height=\"24px\"viewBox=\"0 0 24 24\"\n",
              "     width=\"24px\">\n",
              "    <g>\n",
              "        <path d=\"M19 3H5c-1.1 0-2 .9-2 2v14c0 1.1.9 2 2 2h14c1.1 0 2-.9 2-2V5c0-1.1-.9-2-2-2zM9 17H7v-7h2v7zm4 0h-2V7h2v10zm4 0h-2v-4h2v4z\"/>\n",
              "    </g>\n",
              "</svg>\n",
              "      </button>\n",
              "\n",
              "<style>\n",
              "  .colab-df-quickchart {\n",
              "      --bg-color: #E8F0FE;\n",
              "      --fill-color: #1967D2;\n",
              "      --hover-bg-color: #E2EBFA;\n",
              "      --hover-fill-color: #174EA6;\n",
              "      --disabled-fill-color: #AAA;\n",
              "      --disabled-bg-color: #DDD;\n",
              "  }\n",
              "\n",
              "  [theme=dark] .colab-df-quickchart {\n",
              "      --bg-color: #3B4455;\n",
              "      --fill-color: #D2E3FC;\n",
              "      --hover-bg-color: #434B5C;\n",
              "      --hover-fill-color: #FFFFFF;\n",
              "      --disabled-bg-color: #3B4455;\n",
              "      --disabled-fill-color: #666;\n",
              "  }\n",
              "\n",
              "  .colab-df-quickchart {\n",
              "    background-color: var(--bg-color);\n",
              "    border: none;\n",
              "    border-radius: 50%;\n",
              "    cursor: pointer;\n",
              "    display: none;\n",
              "    fill: var(--fill-color);\n",
              "    height: 32px;\n",
              "    padding: 0;\n",
              "    width: 32px;\n",
              "  }\n",
              "\n",
              "  .colab-df-quickchart:hover {\n",
              "    background-color: var(--hover-bg-color);\n",
              "    box-shadow: 0 1px 2px rgba(60, 64, 67, 0.3), 0 1px 3px 1px rgba(60, 64, 67, 0.15);\n",
              "    fill: var(--button-hover-fill-color);\n",
              "  }\n",
              "\n",
              "  .colab-df-quickchart-complete:disabled,\n",
              "  .colab-df-quickchart-complete:disabled:hover {\n",
              "    background-color: var(--disabled-bg-color);\n",
              "    fill: var(--disabled-fill-color);\n",
              "    box-shadow: none;\n",
              "  }\n",
              "\n",
              "  .colab-df-spinner {\n",
              "    border: 2px solid var(--fill-color);\n",
              "    border-color: transparent;\n",
              "    border-bottom-color: var(--fill-color);\n",
              "    animation:\n",
              "      spin 1s steps(1) infinite;\n",
              "  }\n",
              "\n",
              "  @keyframes spin {\n",
              "    0% {\n",
              "      border-color: transparent;\n",
              "      border-bottom-color: var(--fill-color);\n",
              "      border-left-color: var(--fill-color);\n",
              "    }\n",
              "    20% {\n",
              "      border-color: transparent;\n",
              "      border-left-color: var(--fill-color);\n",
              "      border-top-color: var(--fill-color);\n",
              "    }\n",
              "    30% {\n",
              "      border-color: transparent;\n",
              "      border-left-color: var(--fill-color);\n",
              "      border-top-color: var(--fill-color);\n",
              "      border-right-color: var(--fill-color);\n",
              "    }\n",
              "    40% {\n",
              "      border-color: transparent;\n",
              "      border-right-color: var(--fill-color);\n",
              "      border-top-color: var(--fill-color);\n",
              "    }\n",
              "    60% {\n",
              "      border-color: transparent;\n",
              "      border-right-color: var(--fill-color);\n",
              "    }\n",
              "    80% {\n",
              "      border-color: transparent;\n",
              "      border-right-color: var(--fill-color);\n",
              "      border-bottom-color: var(--fill-color);\n",
              "    }\n",
              "    90% {\n",
              "      border-color: transparent;\n",
              "      border-bottom-color: var(--fill-color);\n",
              "    }\n",
              "  }\n",
              "</style>\n",
              "\n",
              "      <script>\n",
              "        async function quickchart(key) {\n",
              "          const quickchartButtonEl =\n",
              "            document.querySelector('#' + key + ' button');\n",
              "          quickchartButtonEl.disabled = true;  // To prevent multiple clicks.\n",
              "          quickchartButtonEl.classList.add('colab-df-spinner');\n",
              "          try {\n",
              "            const charts = await google.colab.kernel.invokeFunction(\n",
              "                'suggestCharts', [key], {});\n",
              "          } catch (error) {\n",
              "            console.error('Error during call to suggestCharts:', error);\n",
              "          }\n",
              "          quickchartButtonEl.classList.remove('colab-df-spinner');\n",
              "          quickchartButtonEl.classList.add('colab-df-quickchart-complete');\n",
              "        }\n",
              "        (() => {\n",
              "          let quickchartButtonEl =\n",
              "            document.querySelector('#df-2dd52698-1d8a-4cd5-a029-4c22d41df6a6 button');\n",
              "          quickchartButtonEl.style.display =\n",
              "            google.colab.kernel.accessAllowed ? 'block' : 'none';\n",
              "        })();\n",
              "      </script>\n",
              "    </div>\n",
              "    </div>\n",
              "  </div>\n"
            ],
            "application/vnd.google.colaboratory.intrinsic+json": {
              "type": "dataframe",
              "summary": "{\n  \"name\": \"df[['duration', 'duration_rnd']]\",\n  \"rows\": 5,\n  \"fields\": [\n    {\n      \"column\": \"duration\",\n      \"properties\": {\n        \"dtype\": \"number\",\n        \"std\": 8.191667157656862,\n        \"min\": 6.232113458405072,\n        \"max\": 26.265802740711653,\n        \"num_unique_values\": 5,\n        \"samples\": [\n          15.816871452122792,\n          26.265802740711653,\n          6.232113458405072\n        ],\n        \"semantic_type\": \"\",\n        \"description\": \"\"\n      }\n    },\n    {\n      \"column\": \"duration_rnd\",\n      \"properties\": {\n        \"dtype\": \"number\",\n        \"std\": 8.154753215150045,\n        \"min\": 7.0,\n        \"max\": 27.0,\n        \"num_unique_values\": 5,\n        \"samples\": [\n          16.0,\n          27.0,\n          7.0\n        ],\n        \"semantic_type\": \"\",\n        \"description\": \"\"\n      }\n    }\n  ]\n}"
            }
          },
          "metadata": {},
          "execution_count": 30
        }
      ],
      "source": [
        "# Округлим продолжительность каждой поездки в исходном датафрейме до следующего целого числа\n",
        "df['duration_rnd']=np.ceil(df['duration'])\n",
        "df[['duration', 'duration_rnd']].head()"
      ]
    },
    {
      "cell_type": "code",
      "execution_count": null,
      "id": "56f28dcf",
      "metadata": {
        "colab": {
          "base_uri": "https://localhost:8080/",
          "height": 206
        },
        "id": "56f28dcf",
        "outputId": "7511763a-e5c4-4deb-a55e-53d64998044b"
      },
      "outputs": [
        {
          "output_type": "execute_result",
          "data": {
            "text/plain": [
              "   user_id    month  distance  duration_rnd  rides_cnt subscription_type  \\\n",
              "0        1  2021-01  7,027.51         42.00          2             ultra   \n",
              "1        1  2021-04    754.16          7.00          1             ultra   \n",
              "2        1  2021-08  6,723.47         46.00          2             ultra   \n",
              "3        1  2021-10  5,809.91         32.00          2             ultra   \n",
              "4        1  2021-11  7,003.50         56.00          3             ultra   \n",
              "\n",
              "   minute_price  start_ride_price  subscription_fee  \n",
              "0             6                 0               199  \n",
              "1             6                 0               199  \n",
              "2             6                 0               199  \n",
              "3             6                 0               199  \n",
              "4             6                 0               199  "
            ],
            "text/html": [
              "\n",
              "  <div id=\"df-c1280dfd-b2c1-4c3c-a5bb-82817020c096\" class=\"colab-df-container\">\n",
              "    <div>\n",
              "<style scoped>\n",
              "    .dataframe tbody tr th:only-of-type {\n",
              "        vertical-align: middle;\n",
              "    }\n",
              "\n",
              "    .dataframe tbody tr th {\n",
              "        vertical-align: top;\n",
              "    }\n",
              "\n",
              "    .dataframe thead th {\n",
              "        text-align: right;\n",
              "    }\n",
              "</style>\n",
              "<table border=\"1\" class=\"dataframe\">\n",
              "  <thead>\n",
              "    <tr style=\"text-align: right;\">\n",
              "      <th></th>\n",
              "      <th>user_id</th>\n",
              "      <th>month</th>\n",
              "      <th>distance</th>\n",
              "      <th>duration_rnd</th>\n",
              "      <th>rides_cnt</th>\n",
              "      <th>subscription_type</th>\n",
              "      <th>minute_price</th>\n",
              "      <th>start_ride_price</th>\n",
              "      <th>subscription_fee</th>\n",
              "    </tr>\n",
              "  </thead>\n",
              "  <tbody>\n",
              "    <tr>\n",
              "      <th>0</th>\n",
              "      <td>1</td>\n",
              "      <td>2021-01</td>\n",
              "      <td>7,027.51</td>\n",
              "      <td>42.00</td>\n",
              "      <td>2</td>\n",
              "      <td>ultra</td>\n",
              "      <td>6</td>\n",
              "      <td>0</td>\n",
              "      <td>199</td>\n",
              "    </tr>\n",
              "    <tr>\n",
              "      <th>1</th>\n",
              "      <td>1</td>\n",
              "      <td>2021-04</td>\n",
              "      <td>754.16</td>\n",
              "      <td>7.00</td>\n",
              "      <td>1</td>\n",
              "      <td>ultra</td>\n",
              "      <td>6</td>\n",
              "      <td>0</td>\n",
              "      <td>199</td>\n",
              "    </tr>\n",
              "    <tr>\n",
              "      <th>2</th>\n",
              "      <td>1</td>\n",
              "      <td>2021-08</td>\n",
              "      <td>6,723.47</td>\n",
              "      <td>46.00</td>\n",
              "      <td>2</td>\n",
              "      <td>ultra</td>\n",
              "      <td>6</td>\n",
              "      <td>0</td>\n",
              "      <td>199</td>\n",
              "    </tr>\n",
              "    <tr>\n",
              "      <th>3</th>\n",
              "      <td>1</td>\n",
              "      <td>2021-10</td>\n",
              "      <td>5,809.91</td>\n",
              "      <td>32.00</td>\n",
              "      <td>2</td>\n",
              "      <td>ultra</td>\n",
              "      <td>6</td>\n",
              "      <td>0</td>\n",
              "      <td>199</td>\n",
              "    </tr>\n",
              "    <tr>\n",
              "      <th>4</th>\n",
              "      <td>1</td>\n",
              "      <td>2021-11</td>\n",
              "      <td>7,003.50</td>\n",
              "      <td>56.00</td>\n",
              "      <td>3</td>\n",
              "      <td>ultra</td>\n",
              "      <td>6</td>\n",
              "      <td>0</td>\n",
              "      <td>199</td>\n",
              "    </tr>\n",
              "  </tbody>\n",
              "</table>\n",
              "</div>\n",
              "    <div class=\"colab-df-buttons\">\n",
              "\n",
              "  <div class=\"colab-df-container\">\n",
              "    <button class=\"colab-df-convert\" onclick=\"convertToInteractive('df-c1280dfd-b2c1-4c3c-a5bb-82817020c096')\"\n",
              "            title=\"Convert this dataframe to an interactive table.\"\n",
              "            style=\"display:none;\">\n",
              "\n",
              "  <svg xmlns=\"http://www.w3.org/2000/svg\" height=\"24px\" viewBox=\"0 -960 960 960\">\n",
              "    <path d=\"M120-120v-720h720v720H120Zm60-500h600v-160H180v160Zm220 220h160v-160H400v160Zm0 220h160v-160H400v160ZM180-400h160v-160H180v160Zm440 0h160v-160H620v160ZM180-180h160v-160H180v160Zm440 0h160v-160H620v160Z\"/>\n",
              "  </svg>\n",
              "    </button>\n",
              "\n",
              "  <style>\n",
              "    .colab-df-container {\n",
              "      display:flex;\n",
              "      gap: 12px;\n",
              "    }\n",
              "\n",
              "    .colab-df-convert {\n",
              "      background-color: #E8F0FE;\n",
              "      border: none;\n",
              "      border-radius: 50%;\n",
              "      cursor: pointer;\n",
              "      display: none;\n",
              "      fill: #1967D2;\n",
              "      height: 32px;\n",
              "      padding: 0 0 0 0;\n",
              "      width: 32px;\n",
              "    }\n",
              "\n",
              "    .colab-df-convert:hover {\n",
              "      background-color: #E2EBFA;\n",
              "      box-shadow: 0px 1px 2px rgba(60, 64, 67, 0.3), 0px 1px 3px 1px rgba(60, 64, 67, 0.15);\n",
              "      fill: #174EA6;\n",
              "    }\n",
              "\n",
              "    .colab-df-buttons div {\n",
              "      margin-bottom: 4px;\n",
              "    }\n",
              "\n",
              "    [theme=dark] .colab-df-convert {\n",
              "      background-color: #3B4455;\n",
              "      fill: #D2E3FC;\n",
              "    }\n",
              "\n",
              "    [theme=dark] .colab-df-convert:hover {\n",
              "      background-color: #434B5C;\n",
              "      box-shadow: 0px 1px 3px 1px rgba(0, 0, 0, 0.15);\n",
              "      filter: drop-shadow(0px 1px 2px rgba(0, 0, 0, 0.3));\n",
              "      fill: #FFFFFF;\n",
              "    }\n",
              "  </style>\n",
              "\n",
              "    <script>\n",
              "      const buttonEl =\n",
              "        document.querySelector('#df-c1280dfd-b2c1-4c3c-a5bb-82817020c096 button.colab-df-convert');\n",
              "      buttonEl.style.display =\n",
              "        google.colab.kernel.accessAllowed ? 'block' : 'none';\n",
              "\n",
              "      async function convertToInteractive(key) {\n",
              "        const element = document.querySelector('#df-c1280dfd-b2c1-4c3c-a5bb-82817020c096');\n",
              "        const dataTable =\n",
              "          await google.colab.kernel.invokeFunction('convertToInteractive',\n",
              "                                                    [key], {});\n",
              "        if (!dataTable) return;\n",
              "\n",
              "        const docLinkHtml = 'Like what you see? Visit the ' +\n",
              "          '<a target=\"_blank\" href=https://colab.research.google.com/notebooks/data_table.ipynb>data table notebook</a>'\n",
              "          + ' to learn more about interactive tables.';\n",
              "        element.innerHTML = '';\n",
              "        dataTable['output_type'] = 'display_data';\n",
              "        await google.colab.output.renderOutput(dataTable, element);\n",
              "        const docLink = document.createElement('div');\n",
              "        docLink.innerHTML = docLinkHtml;\n",
              "        element.appendChild(docLink);\n",
              "      }\n",
              "    </script>\n",
              "  </div>\n",
              "\n",
              "\n",
              "    <div id=\"df-c563e1d8-d131-480c-9887-5c57611b97fe\">\n",
              "      <button class=\"colab-df-quickchart\" onclick=\"quickchart('df-c563e1d8-d131-480c-9887-5c57611b97fe')\"\n",
              "                title=\"Suggest charts\"\n",
              "                style=\"display:none;\">\n",
              "\n",
              "<svg xmlns=\"http://www.w3.org/2000/svg\" height=\"24px\"viewBox=\"0 0 24 24\"\n",
              "     width=\"24px\">\n",
              "    <g>\n",
              "        <path d=\"M19 3H5c-1.1 0-2 .9-2 2v14c0 1.1.9 2 2 2h14c1.1 0 2-.9 2-2V5c0-1.1-.9-2-2-2zM9 17H7v-7h2v7zm4 0h-2V7h2v10zm4 0h-2v-4h2v4z\"/>\n",
              "    </g>\n",
              "</svg>\n",
              "      </button>\n",
              "\n",
              "<style>\n",
              "  .colab-df-quickchart {\n",
              "      --bg-color: #E8F0FE;\n",
              "      --fill-color: #1967D2;\n",
              "      --hover-bg-color: #E2EBFA;\n",
              "      --hover-fill-color: #174EA6;\n",
              "      --disabled-fill-color: #AAA;\n",
              "      --disabled-bg-color: #DDD;\n",
              "  }\n",
              "\n",
              "  [theme=dark] .colab-df-quickchart {\n",
              "      --bg-color: #3B4455;\n",
              "      --fill-color: #D2E3FC;\n",
              "      --hover-bg-color: #434B5C;\n",
              "      --hover-fill-color: #FFFFFF;\n",
              "      --disabled-bg-color: #3B4455;\n",
              "      --disabled-fill-color: #666;\n",
              "  }\n",
              "\n",
              "  .colab-df-quickchart {\n",
              "    background-color: var(--bg-color);\n",
              "    border: none;\n",
              "    border-radius: 50%;\n",
              "    cursor: pointer;\n",
              "    display: none;\n",
              "    fill: var(--fill-color);\n",
              "    height: 32px;\n",
              "    padding: 0;\n",
              "    width: 32px;\n",
              "  }\n",
              "\n",
              "  .colab-df-quickchart:hover {\n",
              "    background-color: var(--hover-bg-color);\n",
              "    box-shadow: 0 1px 2px rgba(60, 64, 67, 0.3), 0 1px 3px 1px rgba(60, 64, 67, 0.15);\n",
              "    fill: var(--button-hover-fill-color);\n",
              "  }\n",
              "\n",
              "  .colab-df-quickchart-complete:disabled,\n",
              "  .colab-df-quickchart-complete:disabled:hover {\n",
              "    background-color: var(--disabled-bg-color);\n",
              "    fill: var(--disabled-fill-color);\n",
              "    box-shadow: none;\n",
              "  }\n",
              "\n",
              "  .colab-df-spinner {\n",
              "    border: 2px solid var(--fill-color);\n",
              "    border-color: transparent;\n",
              "    border-bottom-color: var(--fill-color);\n",
              "    animation:\n",
              "      spin 1s steps(1) infinite;\n",
              "  }\n",
              "\n",
              "  @keyframes spin {\n",
              "    0% {\n",
              "      border-color: transparent;\n",
              "      border-bottom-color: var(--fill-color);\n",
              "      border-left-color: var(--fill-color);\n",
              "    }\n",
              "    20% {\n",
              "      border-color: transparent;\n",
              "      border-left-color: var(--fill-color);\n",
              "      border-top-color: var(--fill-color);\n",
              "    }\n",
              "    30% {\n",
              "      border-color: transparent;\n",
              "      border-left-color: var(--fill-color);\n",
              "      border-top-color: var(--fill-color);\n",
              "      border-right-color: var(--fill-color);\n",
              "    }\n",
              "    40% {\n",
              "      border-color: transparent;\n",
              "      border-right-color: var(--fill-color);\n",
              "      border-top-color: var(--fill-color);\n",
              "    }\n",
              "    60% {\n",
              "      border-color: transparent;\n",
              "      border-right-color: var(--fill-color);\n",
              "    }\n",
              "    80% {\n",
              "      border-color: transparent;\n",
              "      border-right-color: var(--fill-color);\n",
              "      border-bottom-color: var(--fill-color);\n",
              "    }\n",
              "    90% {\n",
              "      border-color: transparent;\n",
              "      border-bottom-color: var(--fill-color);\n",
              "    }\n",
              "  }\n",
              "</style>\n",
              "\n",
              "      <script>\n",
              "        async function quickchart(key) {\n",
              "          const quickchartButtonEl =\n",
              "            document.querySelector('#' + key + ' button');\n",
              "          quickchartButtonEl.disabled = true;  // To prevent multiple clicks.\n",
              "          quickchartButtonEl.classList.add('colab-df-spinner');\n",
              "          try {\n",
              "            const charts = await google.colab.kernel.invokeFunction(\n",
              "                'suggestCharts', [key], {});\n",
              "          } catch (error) {\n",
              "            console.error('Error during call to suggestCharts:', error);\n",
              "          }\n",
              "          quickchartButtonEl.classList.remove('colab-df-spinner');\n",
              "          quickchartButtonEl.classList.add('colab-df-quickchart-complete');\n",
              "        }\n",
              "        (() => {\n",
              "          let quickchartButtonEl =\n",
              "            document.querySelector('#df-c563e1d8-d131-480c-9887-5c57611b97fe button');\n",
              "          quickchartButtonEl.style.display =\n",
              "            google.colab.kernel.accessAllowed ? 'block' : 'none';\n",
              "        })();\n",
              "      </script>\n",
              "    </div>\n",
              "    </div>\n",
              "  </div>\n"
            ],
            "application/vnd.google.colaboratory.intrinsic+json": {
              "type": "dataframe",
              "variable_name": "df_revenue",
              "summary": "{\n  \"name\": \"df_revenue\",\n  \"rows\": 11331,\n  \"fields\": [\n    {\n      \"column\": \"user_id\",\n      \"properties\": {\n        \"dtype\": \"number\",\n        \"std\": 440,\n        \"min\": 1,\n        \"max\": 1534,\n        \"num_unique_values\": 1534,\n        \"samples\": [\n          1365,\n          77,\n          317\n        ],\n        \"semantic_type\": \"\",\n        \"description\": \"\"\n      }\n    },\n    {\n      \"column\": \"month\",\n      \"properties\": {\n        \"dtype\": \"period[M]\",\n        \"num_unique_values\": 12,\n        \"samples\": [\n          \"2021-05\",\n          \"2021-02\",\n          \"2021-01\"\n        ],\n        \"semantic_type\": \"\",\n        \"description\": \"\"\n      }\n    },\n    {\n      \"column\": \"distance\",\n      \"properties\": {\n        \"dtype\": \"number\",\n        \"std\": 2911.516556492136,\n        \"min\": 2.57078688756684,\n        \"max\": 23429.487786236627,\n        \"num_unique_values\": 11331,\n        \"samples\": [\n          4075.337434734506,\n          3089.0269841761783,\n          6181.231541184941\n        ],\n        \"semantic_type\": \"\",\n        \"description\": \"\"\n      }\n    },\n    {\n      \"column\": \"duration_rnd\",\n      \"properties\": {\n        \"dtype\": \"number\",\n        \"std\": 16.752464110077803,\n        \"min\": 1.0,\n        \"max\": 143.0,\n        \"num_unique_values\": 119,\n        \"samples\": [\n          61.0,\n          93.0,\n          56.0\n        ],\n        \"semantic_type\": \"\",\n        \"description\": \"\"\n      }\n    },\n    {\n      \"column\": \"rides_cnt\",\n      \"properties\": {\n        \"dtype\": \"number\",\n        \"std\": 0,\n        \"min\": 1,\n        \"max\": 7,\n        \"num_unique_values\": 7,\n        \"samples\": [\n          2,\n          1,\n          6\n        ],\n        \"semantic_type\": \"\",\n        \"description\": \"\"\n      }\n    },\n    {\n      \"column\": \"subscription_type\",\n      \"properties\": {\n        \"dtype\": \"category\",\n        \"num_unique_values\": 2,\n        \"samples\": [\n          \"free\",\n          \"ultra\"\n        ],\n        \"semantic_type\": \"\",\n        \"description\": \"\"\n      }\n    },\n    {\n      \"column\": \"minute_price\",\n      \"properties\": {\n        \"dtype\": \"number\",\n        \"std\": 0,\n        \"min\": 6,\n        \"max\": 8,\n        \"num_unique_values\": 2,\n        \"samples\": [\n          8,\n          6\n        ],\n        \"semantic_type\": \"\",\n        \"description\": \"\"\n      }\n    },\n    {\n      \"column\": \"start_ride_price\",\n      \"properties\": {\n        \"dtype\": \"number\",\n        \"std\": 24,\n        \"min\": 0,\n        \"max\": 50,\n        \"num_unique_values\": 2,\n        \"samples\": [\n          50,\n          0\n        ],\n        \"semantic_type\": \"\",\n        \"description\": \"\"\n      }\n    },\n    {\n      \"column\": \"subscription_fee\",\n      \"properties\": {\n        \"dtype\": \"number\",\n        \"std\": 97,\n        \"min\": 0,\n        \"max\": 199,\n        \"num_unique_values\": 2,\n        \"samples\": [\n          0,\n          199\n        ],\n        \"semantic_type\": \"\",\n        \"description\": \"\"\n      }\n    }\n  ]\n}"
            }
          },
          "metadata": {},
          "execution_count": 31
        }
      ],
      "source": [
        "# Создадим датафрейм с агрегированными данными о поездках: найдем суммарное расстояние, количество поездок и суммарное время для каждого пользователя за каждый месяц.\n",
        "df_revenue=df.groupby(['user_id', 'month', 'subscription_type', 'minute_price',\t'start_ride_price',\t'subscription_fee']).agg(\n",
        "    {'distance':'sum', 'duration_rnd':'sum', 'name':'count'}\n",
        "    ).reset_index()\n",
        "df_revenue=df_revenue.rename(columns={'name':'rides_cnt'})\n",
        "df_revenue=df_revenue[['user_id', 'month', 'distance', 'duration_rnd', 'rides_cnt', 'subscription_type', 'minute_price', \\\n",
        "                       'start_ride_price', 'subscription_fee']]\n",
        "df_revenue.head()"
      ]
    },
    {
      "cell_type": "code",
      "execution_count": null,
      "id": "e2ddcf9f",
      "metadata": {
        "colab": {
          "base_uri": "https://localhost:8080/",
          "height": 206
        },
        "id": "e2ddcf9f",
        "outputId": "ddf45fba-a4e6-45dd-b65e-aa30d679a232"
      },
      "outputs": [
        {
          "output_type": "execute_result",
          "data": {
            "text/plain": [
              "   user_id    month  distance  duration_rnd  rides_cnt subscription_type  \\\n",
              "0        1  2021-01  7,027.51         42.00          2             ultra   \n",
              "1        1  2021-04    754.16          7.00          1             ultra   \n",
              "2        1  2021-08  6,723.47         46.00          2             ultra   \n",
              "3        1  2021-10  5,809.91         32.00          2             ultra   \n",
              "4        1  2021-11  7,003.50         56.00          3             ultra   \n",
              "\n",
              "   minute_price  start_ride_price  subscription_fee  revenue_monthly  \n",
              "0             6                 0               199           451.00  \n",
              "1             6                 0               199           241.00  \n",
              "2             6                 0               199           475.00  \n",
              "3             6                 0               199           391.00  \n",
              "4             6                 0               199           535.00  "
            ],
            "text/html": [
              "\n",
              "  <div id=\"df-6276ab9b-f50d-47da-a72f-b76575c5e8fb\" class=\"colab-df-container\">\n",
              "    <div>\n",
              "<style scoped>\n",
              "    .dataframe tbody tr th:only-of-type {\n",
              "        vertical-align: middle;\n",
              "    }\n",
              "\n",
              "    .dataframe tbody tr th {\n",
              "        vertical-align: top;\n",
              "    }\n",
              "\n",
              "    .dataframe thead th {\n",
              "        text-align: right;\n",
              "    }\n",
              "</style>\n",
              "<table border=\"1\" class=\"dataframe\">\n",
              "  <thead>\n",
              "    <tr style=\"text-align: right;\">\n",
              "      <th></th>\n",
              "      <th>user_id</th>\n",
              "      <th>month</th>\n",
              "      <th>distance</th>\n",
              "      <th>duration_rnd</th>\n",
              "      <th>rides_cnt</th>\n",
              "      <th>subscription_type</th>\n",
              "      <th>minute_price</th>\n",
              "      <th>start_ride_price</th>\n",
              "      <th>subscription_fee</th>\n",
              "      <th>revenue_monthly</th>\n",
              "    </tr>\n",
              "  </thead>\n",
              "  <tbody>\n",
              "    <tr>\n",
              "      <th>0</th>\n",
              "      <td>1</td>\n",
              "      <td>2021-01</td>\n",
              "      <td>7,027.51</td>\n",
              "      <td>42.00</td>\n",
              "      <td>2</td>\n",
              "      <td>ultra</td>\n",
              "      <td>6</td>\n",
              "      <td>0</td>\n",
              "      <td>199</td>\n",
              "      <td>451.00</td>\n",
              "    </tr>\n",
              "    <tr>\n",
              "      <th>1</th>\n",
              "      <td>1</td>\n",
              "      <td>2021-04</td>\n",
              "      <td>754.16</td>\n",
              "      <td>7.00</td>\n",
              "      <td>1</td>\n",
              "      <td>ultra</td>\n",
              "      <td>6</td>\n",
              "      <td>0</td>\n",
              "      <td>199</td>\n",
              "      <td>241.00</td>\n",
              "    </tr>\n",
              "    <tr>\n",
              "      <th>2</th>\n",
              "      <td>1</td>\n",
              "      <td>2021-08</td>\n",
              "      <td>6,723.47</td>\n",
              "      <td>46.00</td>\n",
              "      <td>2</td>\n",
              "      <td>ultra</td>\n",
              "      <td>6</td>\n",
              "      <td>0</td>\n",
              "      <td>199</td>\n",
              "      <td>475.00</td>\n",
              "    </tr>\n",
              "    <tr>\n",
              "      <th>3</th>\n",
              "      <td>1</td>\n",
              "      <td>2021-10</td>\n",
              "      <td>5,809.91</td>\n",
              "      <td>32.00</td>\n",
              "      <td>2</td>\n",
              "      <td>ultra</td>\n",
              "      <td>6</td>\n",
              "      <td>0</td>\n",
              "      <td>199</td>\n",
              "      <td>391.00</td>\n",
              "    </tr>\n",
              "    <tr>\n",
              "      <th>4</th>\n",
              "      <td>1</td>\n",
              "      <td>2021-11</td>\n",
              "      <td>7,003.50</td>\n",
              "      <td>56.00</td>\n",
              "      <td>3</td>\n",
              "      <td>ultra</td>\n",
              "      <td>6</td>\n",
              "      <td>0</td>\n",
              "      <td>199</td>\n",
              "      <td>535.00</td>\n",
              "    </tr>\n",
              "  </tbody>\n",
              "</table>\n",
              "</div>\n",
              "    <div class=\"colab-df-buttons\">\n",
              "\n",
              "  <div class=\"colab-df-container\">\n",
              "    <button class=\"colab-df-convert\" onclick=\"convertToInteractive('df-6276ab9b-f50d-47da-a72f-b76575c5e8fb')\"\n",
              "            title=\"Convert this dataframe to an interactive table.\"\n",
              "            style=\"display:none;\">\n",
              "\n",
              "  <svg xmlns=\"http://www.w3.org/2000/svg\" height=\"24px\" viewBox=\"0 -960 960 960\">\n",
              "    <path d=\"M120-120v-720h720v720H120Zm60-500h600v-160H180v160Zm220 220h160v-160H400v160Zm0 220h160v-160H400v160ZM180-400h160v-160H180v160Zm440 0h160v-160H620v160ZM180-180h160v-160H180v160Zm440 0h160v-160H620v160Z\"/>\n",
              "  </svg>\n",
              "    </button>\n",
              "\n",
              "  <style>\n",
              "    .colab-df-container {\n",
              "      display:flex;\n",
              "      gap: 12px;\n",
              "    }\n",
              "\n",
              "    .colab-df-convert {\n",
              "      background-color: #E8F0FE;\n",
              "      border: none;\n",
              "      border-radius: 50%;\n",
              "      cursor: pointer;\n",
              "      display: none;\n",
              "      fill: #1967D2;\n",
              "      height: 32px;\n",
              "      padding: 0 0 0 0;\n",
              "      width: 32px;\n",
              "    }\n",
              "\n",
              "    .colab-df-convert:hover {\n",
              "      background-color: #E2EBFA;\n",
              "      box-shadow: 0px 1px 2px rgba(60, 64, 67, 0.3), 0px 1px 3px 1px rgba(60, 64, 67, 0.15);\n",
              "      fill: #174EA6;\n",
              "    }\n",
              "\n",
              "    .colab-df-buttons div {\n",
              "      margin-bottom: 4px;\n",
              "    }\n",
              "\n",
              "    [theme=dark] .colab-df-convert {\n",
              "      background-color: #3B4455;\n",
              "      fill: #D2E3FC;\n",
              "    }\n",
              "\n",
              "    [theme=dark] .colab-df-convert:hover {\n",
              "      background-color: #434B5C;\n",
              "      box-shadow: 0px 1px 3px 1px rgba(0, 0, 0, 0.15);\n",
              "      filter: drop-shadow(0px 1px 2px rgba(0, 0, 0, 0.3));\n",
              "      fill: #FFFFFF;\n",
              "    }\n",
              "  </style>\n",
              "\n",
              "    <script>\n",
              "      const buttonEl =\n",
              "        document.querySelector('#df-6276ab9b-f50d-47da-a72f-b76575c5e8fb button.colab-df-convert');\n",
              "      buttonEl.style.display =\n",
              "        google.colab.kernel.accessAllowed ? 'block' : 'none';\n",
              "\n",
              "      async function convertToInteractive(key) {\n",
              "        const element = document.querySelector('#df-6276ab9b-f50d-47da-a72f-b76575c5e8fb');\n",
              "        const dataTable =\n",
              "          await google.colab.kernel.invokeFunction('convertToInteractive',\n",
              "                                                    [key], {});\n",
              "        if (!dataTable) return;\n",
              "\n",
              "        const docLinkHtml = 'Like what you see? Visit the ' +\n",
              "          '<a target=\"_blank\" href=https://colab.research.google.com/notebooks/data_table.ipynb>data table notebook</a>'\n",
              "          + ' to learn more about interactive tables.';\n",
              "        element.innerHTML = '';\n",
              "        dataTable['output_type'] = 'display_data';\n",
              "        await google.colab.output.renderOutput(dataTable, element);\n",
              "        const docLink = document.createElement('div');\n",
              "        docLink.innerHTML = docLinkHtml;\n",
              "        element.appendChild(docLink);\n",
              "      }\n",
              "    </script>\n",
              "  </div>\n",
              "\n",
              "\n",
              "    <div id=\"df-aa7df35c-f0d8-4840-a832-0eeecc875050\">\n",
              "      <button class=\"colab-df-quickchart\" onclick=\"quickchart('df-aa7df35c-f0d8-4840-a832-0eeecc875050')\"\n",
              "                title=\"Suggest charts\"\n",
              "                style=\"display:none;\">\n",
              "\n",
              "<svg xmlns=\"http://www.w3.org/2000/svg\" height=\"24px\"viewBox=\"0 0 24 24\"\n",
              "     width=\"24px\">\n",
              "    <g>\n",
              "        <path d=\"M19 3H5c-1.1 0-2 .9-2 2v14c0 1.1.9 2 2 2h14c1.1 0 2-.9 2-2V5c0-1.1-.9-2-2-2zM9 17H7v-7h2v7zm4 0h-2V7h2v10zm4 0h-2v-4h2v4z\"/>\n",
              "    </g>\n",
              "</svg>\n",
              "      </button>\n",
              "\n",
              "<style>\n",
              "  .colab-df-quickchart {\n",
              "      --bg-color: #E8F0FE;\n",
              "      --fill-color: #1967D2;\n",
              "      --hover-bg-color: #E2EBFA;\n",
              "      --hover-fill-color: #174EA6;\n",
              "      --disabled-fill-color: #AAA;\n",
              "      --disabled-bg-color: #DDD;\n",
              "  }\n",
              "\n",
              "  [theme=dark] .colab-df-quickchart {\n",
              "      --bg-color: #3B4455;\n",
              "      --fill-color: #D2E3FC;\n",
              "      --hover-bg-color: #434B5C;\n",
              "      --hover-fill-color: #FFFFFF;\n",
              "      --disabled-bg-color: #3B4455;\n",
              "      --disabled-fill-color: #666;\n",
              "  }\n",
              "\n",
              "  .colab-df-quickchart {\n",
              "    background-color: var(--bg-color);\n",
              "    border: none;\n",
              "    border-radius: 50%;\n",
              "    cursor: pointer;\n",
              "    display: none;\n",
              "    fill: var(--fill-color);\n",
              "    height: 32px;\n",
              "    padding: 0;\n",
              "    width: 32px;\n",
              "  }\n",
              "\n",
              "  .colab-df-quickchart:hover {\n",
              "    background-color: var(--hover-bg-color);\n",
              "    box-shadow: 0 1px 2px rgba(60, 64, 67, 0.3), 0 1px 3px 1px rgba(60, 64, 67, 0.15);\n",
              "    fill: var(--button-hover-fill-color);\n",
              "  }\n",
              "\n",
              "  .colab-df-quickchart-complete:disabled,\n",
              "  .colab-df-quickchart-complete:disabled:hover {\n",
              "    background-color: var(--disabled-bg-color);\n",
              "    fill: var(--disabled-fill-color);\n",
              "    box-shadow: none;\n",
              "  }\n",
              "\n",
              "  .colab-df-spinner {\n",
              "    border: 2px solid var(--fill-color);\n",
              "    border-color: transparent;\n",
              "    border-bottom-color: var(--fill-color);\n",
              "    animation:\n",
              "      spin 1s steps(1) infinite;\n",
              "  }\n",
              "\n",
              "  @keyframes spin {\n",
              "    0% {\n",
              "      border-color: transparent;\n",
              "      border-bottom-color: var(--fill-color);\n",
              "      border-left-color: var(--fill-color);\n",
              "    }\n",
              "    20% {\n",
              "      border-color: transparent;\n",
              "      border-left-color: var(--fill-color);\n",
              "      border-top-color: var(--fill-color);\n",
              "    }\n",
              "    30% {\n",
              "      border-color: transparent;\n",
              "      border-left-color: var(--fill-color);\n",
              "      border-top-color: var(--fill-color);\n",
              "      border-right-color: var(--fill-color);\n",
              "    }\n",
              "    40% {\n",
              "      border-color: transparent;\n",
              "      border-right-color: var(--fill-color);\n",
              "      border-top-color: var(--fill-color);\n",
              "    }\n",
              "    60% {\n",
              "      border-color: transparent;\n",
              "      border-right-color: var(--fill-color);\n",
              "    }\n",
              "    80% {\n",
              "      border-color: transparent;\n",
              "      border-right-color: var(--fill-color);\n",
              "      border-bottom-color: var(--fill-color);\n",
              "    }\n",
              "    90% {\n",
              "      border-color: transparent;\n",
              "      border-bottom-color: var(--fill-color);\n",
              "    }\n",
              "  }\n",
              "</style>\n",
              "\n",
              "      <script>\n",
              "        async function quickchart(key) {\n",
              "          const quickchartButtonEl =\n",
              "            document.querySelector('#' + key + ' button');\n",
              "          quickchartButtonEl.disabled = true;  // To prevent multiple clicks.\n",
              "          quickchartButtonEl.classList.add('colab-df-spinner');\n",
              "          try {\n",
              "            const charts = await google.colab.kernel.invokeFunction(\n",
              "                'suggestCharts', [key], {});\n",
              "          } catch (error) {\n",
              "            console.error('Error during call to suggestCharts:', error);\n",
              "          }\n",
              "          quickchartButtonEl.classList.remove('colab-df-spinner');\n",
              "          quickchartButtonEl.classList.add('colab-df-quickchart-complete');\n",
              "        }\n",
              "        (() => {\n",
              "          let quickchartButtonEl =\n",
              "            document.querySelector('#df-aa7df35c-f0d8-4840-a832-0eeecc875050 button');\n",
              "          quickchartButtonEl.style.display =\n",
              "            google.colab.kernel.accessAllowed ? 'block' : 'none';\n",
              "        })();\n",
              "      </script>\n",
              "    </div>\n",
              "    </div>\n",
              "  </div>\n"
            ],
            "application/vnd.google.colaboratory.intrinsic+json": {
              "type": "dataframe",
              "variable_name": "df_revenue",
              "summary": "{\n  \"name\": \"df_revenue\",\n  \"rows\": 11331,\n  \"fields\": [\n    {\n      \"column\": \"user_id\",\n      \"properties\": {\n        \"dtype\": \"number\",\n        \"std\": 440,\n        \"min\": 1,\n        \"max\": 1534,\n        \"num_unique_values\": 1534,\n        \"samples\": [\n          1365,\n          77,\n          317\n        ],\n        \"semantic_type\": \"\",\n        \"description\": \"\"\n      }\n    },\n    {\n      \"column\": \"month\",\n      \"properties\": {\n        \"dtype\": \"period[M]\",\n        \"num_unique_values\": 12,\n        \"samples\": [\n          \"2021-05\",\n          \"2021-02\",\n          \"2021-01\"\n        ],\n        \"semantic_type\": \"\",\n        \"description\": \"\"\n      }\n    },\n    {\n      \"column\": \"distance\",\n      \"properties\": {\n        \"dtype\": \"number\",\n        \"std\": 2911.516556492136,\n        \"min\": 2.57078688756684,\n        \"max\": 23429.487786236627,\n        \"num_unique_values\": 11331,\n        \"samples\": [\n          4075.337434734506,\n          3089.0269841761783,\n          6181.231541184941\n        ],\n        \"semantic_type\": \"\",\n        \"description\": \"\"\n      }\n    },\n    {\n      \"column\": \"duration_rnd\",\n      \"properties\": {\n        \"dtype\": \"number\",\n        \"std\": 16.752464110077803,\n        \"min\": 1.0,\n        \"max\": 143.0,\n        \"num_unique_values\": 119,\n        \"samples\": [\n          61.0,\n          93.0,\n          56.0\n        ],\n        \"semantic_type\": \"\",\n        \"description\": \"\"\n      }\n    },\n    {\n      \"column\": \"rides_cnt\",\n      \"properties\": {\n        \"dtype\": \"number\",\n        \"std\": 0,\n        \"min\": 1,\n        \"max\": 7,\n        \"num_unique_values\": 7,\n        \"samples\": [\n          2,\n          1,\n          6\n        ],\n        \"semantic_type\": \"\",\n        \"description\": \"\"\n      }\n    },\n    {\n      \"column\": \"subscription_type\",\n      \"properties\": {\n        \"dtype\": \"category\",\n        \"num_unique_values\": 2,\n        \"samples\": [\n          \"free\",\n          \"ultra\"\n        ],\n        \"semantic_type\": \"\",\n        \"description\": \"\"\n      }\n    },\n    {\n      \"column\": \"minute_price\",\n      \"properties\": {\n        \"dtype\": \"number\",\n        \"std\": 0,\n        \"min\": 6,\n        \"max\": 8,\n        \"num_unique_values\": 2,\n        \"samples\": [\n          8,\n          6\n        ],\n        \"semantic_type\": \"\",\n        \"description\": \"\"\n      }\n    },\n    {\n      \"column\": \"start_ride_price\",\n      \"properties\": {\n        \"dtype\": \"number\",\n        \"std\": 24,\n        \"min\": 0,\n        \"max\": 50,\n        \"num_unique_values\": 2,\n        \"samples\": [\n          50,\n          0\n        ],\n        \"semantic_type\": \"\",\n        \"description\": \"\"\n      }\n    },\n    {\n      \"column\": \"subscription_fee\",\n      \"properties\": {\n        \"dtype\": \"number\",\n        \"std\": 97,\n        \"min\": 0,\n        \"max\": 199,\n        \"num_unique_values\": 2,\n        \"samples\": [\n          0,\n          199\n        ],\n        \"semantic_type\": \"\",\n        \"description\": \"\"\n      }\n    },\n    {\n      \"column\": \"revenue_monthly\",\n      \"properties\": {\n        \"dtype\": \"number\",\n        \"std\": 153.87534565094302,\n        \"min\": 58.0,\n        \"max\": 1444.0,\n        \"num_unique_values\": 346,\n        \"samples\": [\n          162.0,\n          1058.0\n        ],\n        \"semantic_type\": \"\",\n        \"description\": \"\"\n      }\n    }\n  ]\n}"
            }
          },
          "metadata": {},
          "execution_count": 32
        }
      ],
      "source": [
        "# Добавим столбец с помесячной выручкой, которую принёс каждый пользователь.\n",
        "df_revenue['revenue_monthly']=(\n",
        "    df_revenue['start_ride_price']*df_revenue['rides_cnt'] +\n",
        "    df_revenue['minute_price']*df_revenue['duration_rnd'] + df_revenue['subscription_fee']\n",
        ")\n",
        "df_revenue.head()"
      ]
    },
    {
      "cell_type": "markdown",
      "id": "ad27c387",
      "metadata": {
        "id": "ad27c387"
      },
      "source": [
        "**Вывод по разделу \"Подсчёт выручки\":**\n",
        "1. Объеденены данные о поездках с данными о пользователях сервиса и видах подписки.\n",
        "2. Создали новый датафрейм с агрегированными данными о поездках `df_revenue` с расчетом помесячной выручки по каждому пользователю"
      ]
    },
    {
      "cell_type": "markdown",
      "id": "0cc53b12",
      "metadata": {
        "id": "0cc53b12"
      },
      "source": [
        "## Проверка гипотез"
      ]
    },
    {
      "cell_type": "markdown",
      "id": "de3d16d5",
      "metadata": {
        "id": "de3d16d5"
      },
      "source": [
        "**Задание 6.1**\n",
        "\n",
        "Важно понять, тратят ли пользователи с подпиской больше времени на поездки? Если да, то пользователи с подпиской могут быть «выгоднее» для компании. Проверьте гипотезу. Используйте исходные данные о продолжительности каждой сессии — отдельно для подписчиков и тех, у кого нет подписки."
      ]
    },
    {
      "cell_type": "markdown",
      "id": "d3e7cc39",
      "metadata": {
        "id": "d3e7cc39"
      },
      "source": [
        "**Нулевая гипотеза:** средние значения времени поездок пользователей с подпиской и без подписки равны\n",
        "\n",
        "**Альтернативная гипотеза:** среднее значение времени поездок пользователей с подпиской больше среднего значения времени поездок пользователей без подписки"
      ]
    },
    {
      "cell_type": "code",
      "execution_count": null,
      "id": "3531388e",
      "metadata": {
        "id": "3531388e"
      },
      "outputs": [],
      "source": [
        "# для проверки гипотезы из первоначального датафрейма `df` возьмем данные о продолжительности\n",
        "# поездок пользователей с подпиской и без подписки.\n",
        "series_duration_ultra=df[df['subscription_type']=='ultra'].reset_index(drop=True)['duration']\n",
        "series_duration_free=df[df['subscription_type']=='free'].reset_index(drop=True)['duration']"
      ]
    },
    {
      "cell_type": "code",
      "execution_count": null,
      "id": "7f2138eb",
      "metadata": {
        "colab": {
          "base_uri": "https://localhost:8080/"
        },
        "id": "7f2138eb",
        "outputId": "5880fae5-5d9e-45d8-fe31-fe0a5678463f"
      },
      "outputs": [
        {
          "output_type": "stream",
          "name": "stdout",
          "text": [
            "среднее первой выборки (с подпиской): 18.54198516280583\n",
            "среднее второй выборки (без подписки): 17.39090929866399\n",
            "p-value: 1.2804098316645618e-34\n",
            "Отвергаем нулевую гипотезу\n"
          ]
        }
      ],
      "source": [
        "# проведем двухвыборочный t-тест для независимых выборок\n",
        "print(f'среднее первой выборки (с подпиской): {np.mean(series_duration_ultra)}')\n",
        "print(f'среднее второй выборки (без подписки): {np.mean(series_duration_free)}')\n",
        "\n",
        "# зададим уровень значимости\n",
        "alpha = 0.05\n",
        "\n",
        "# ttest для двух выборок, в качестве альтернативной используем одностороннюю гипотезу «больше»\n",
        "results = st.ttest_ind(series_duration_ultra, series_duration_free, alternative='greater')\n",
        "print(f'p-value: {results.pvalue}')\n",
        "\n",
        "# проверяем p-value\n",
        "if results.pvalue < alpha:\n",
        "    print('Отвергаем нулевую гипотезу')\n",
        "else:\n",
        "    print('Нет оснований отвергнуть нулевую гипотезу')"
      ]
    },
    {
      "cell_type": "markdown",
      "id": "d3b9fe97",
      "metadata": {
        "id": "d3b9fe97"
      },
      "source": [
        "**Вывод:**\n",
        "Нулевая гипотеза о равенстве средих значений времени поездок пользователей с подпиской и без подписки отвергнута в пользу гипотезы о том, что средняя продолжительность поездок пользователей с подпиской больше"
      ]
    },
    {
      "cell_type": "markdown",
      "id": "4707b2a5",
      "metadata": {
        "id": "4707b2a5"
      },
      "source": [
        "**Задание 6.2**\n",
        "\n",
        "Расстояние одной поездки в 3130 метров — оптимальное с точки зрения износа самоката. Можно ли сказать, что расстояние, которое проезжают пользователи с подпиской за одну поездку, не превышает 3130 метров? Проверьте гипотезу и сделайте выводы."
      ]
    },
    {
      "cell_type": "markdown",
      "id": "817ec0b1",
      "metadata": {
        "id": "817ec0b1"
      },
      "source": [
        "**Нулевая гипотеза:** среднее значение расстояния поездок пользователей с подпиской равно 3130 м\n",
        "\n",
        "**Альтернативная гипотеза:** среднее значения расстояния поездок пользователей с подпиской больше 3130 м"
      ]
    },
    {
      "cell_type": "code",
      "source": [
        "# для проверки гипотезы из первоначального датафрейма `df` возьмем данные\n",
        "# о расстоянии поездок пользователей с подпиской\n",
        "series_distance_ultra=df[df['subscription_type']=='ultra'].reset_index(drop=True)['distance']"
      ],
      "metadata": {
        "id": "7pVzs5K2P0m-"
      },
      "id": "7pVzs5K2P0m-",
      "execution_count": null,
      "outputs": []
    },
    {
      "cell_type": "code",
      "execution_count": null,
      "id": "84b7f3af",
      "metadata": {
        "colab": {
          "base_uri": "https://localhost:8080/"
        },
        "id": "84b7f3af",
        "outputId": "5b6cbb80-1ac6-43d1-fbc6-454b97ac0c89"
      },
      "outputs": [
        {
          "output_type": "stream",
          "name": "stdout",
          "text": [
            "среднее выборки: 3115.4453880370247\n",
            "p-value: 0.9195368847849785\n",
            "Нет оснований отвергнуть нулевую гипотезу\n"
          ]
        }
      ],
      "source": [
        "# проведем одновыборочный t-тест\n",
        "print(f'среднее выборки: {np.mean(series_distance_ultra)}')\n",
        "\n",
        "# предположенное в нулевой гипотезе значение среднего расстояния поездок с подпиской\n",
        "value = 3130\n",
        "\n",
        "# зададим уровень значимости\n",
        "alpha = 0.10\n",
        "\n",
        "# в качестве альтернативной используем правостороннюю гипотезу\n",
        "results = st.ttest_1samp(series_distance_ultra, value,  alternative='greater')\n",
        "print(f'p-value: {results.pvalue}')\n",
        "\n",
        "# проверяем p-value\n",
        "if results.pvalue < alpha:\n",
        "    print('Отвергаем нулевую гипотезу')\n",
        "else:\n",
        "    print('Нет оснований отвергнуть нулевую гипотезу')"
      ]
    },
    {
      "cell_type": "markdown",
      "id": "dfae726c",
      "metadata": {
        "id": "dfae726c"
      },
      "source": [
        "**Вывод:**\n",
        "\n",
        "Среднее расстояние поездок 3130 м подтверждено"
      ]
    },
    {
      "cell_type": "markdown",
      "id": "0561f9d4",
      "metadata": {
        "id": "0561f9d4"
      },
      "source": [
        "**Задание 6.3**\n",
        "\n",
        "Проверьте гипотезу о том, будет ли помесячная выручка от пользователей с подпиской по месяцам выше, чем выручка от пользователей без подписки. Сделайте вывод."
      ]
    },
    {
      "cell_type": "markdown",
      "id": "f46fb5cb",
      "metadata": {
        "id": "f46fb5cb"
      },
      "source": [
        "**Нулевая гипотеза:** средние значения помесячной выручки от пользователей с подпиской и без подписки равны\n",
        "\n",
        "**Альтернативная гипотеза:** среднее значение помесячной выручки от пользователей с подпиской больше среднего значения помесячной выручки от пользователей"
      ]
    },
    {
      "cell_type": "code",
      "execution_count": null,
      "id": "542087fe",
      "metadata": {
        "id": "542087fe"
      },
      "outputs": [],
      "source": [
        "# для проверки гипотезы из `df_revenue` возьмем данные о помесячной выручке пользователей с подпиской и без подписки.\n",
        "series_revenue_monthly_ultra=df_revenue[df_revenue['subscription_type']=='ultra'].reset_index(drop=True)['revenue_monthly']\n",
        "series_revenue_monthly_free=df_revenue[df_revenue['subscription_type']=='free'].reset_index(drop=True)['revenue_monthly']"
      ]
    },
    {
      "cell_type": "code",
      "execution_count": null,
      "id": "80209873",
      "metadata": {
        "colab": {
          "base_uri": "https://localhost:8080/"
        },
        "id": "80209873",
        "outputId": "cd9e056f-a469-47f6-f265-21dd8dbc1821"
      },
      "outputs": [
        {
          "output_type": "stream",
          "name": "stdout",
          "text": [
            "среднее первой выборки (с подпиской): 362.7921906022502\n",
            "среднее второй выборки (без подписки): 328.6413651073845\n",
            "p-value: 1.8850394384715216e-31\n",
            "Отвергаем нулевую гипотезу\n"
          ]
        }
      ],
      "source": [
        "# проведем двухвыборочный t-тест для независимых выборок\n",
        "print(f'среднее первой выборки (с подпиской): {np.mean(series_revenue_monthly_ultra)}')\n",
        "print(f'среднее второй выборки (без подписки): {np.mean(series_revenue_monthly_free)}')\n",
        "\n",
        "# зададим уровень значимости\n",
        "alpha = 0.05\n",
        "\n",
        "# ttest для двух выборок, в качестве альтернативной используем одностороннюю гипотезу «больше»\n",
        "results = st.ttest_ind(series_revenue_monthly_ultra, series_revenue_monthly_free, alternative='greater')\n",
        "print(f'p-value: {results.pvalue}')\n",
        "\n",
        "# проверяем p-value\n",
        "if results.pvalue < alpha:\n",
        "    print('Отвергаем нулевую гипотезу')\n",
        "else:\n",
        "    print('Нет оснований отвергнуть нулевую гипотезу')"
      ]
    },
    {
      "cell_type": "markdown",
      "id": "0d5330ae",
      "metadata": {
        "id": "0d5330ae"
      },
      "source": [
        "**Вывод:**\n",
        "Нулевая гипотеза о равенстве средих значений помесячной выручки от пользователей с подпиской и без подписки отвергнута в пользу гипотезы о том, что среднее значение помесячной выручки от пользователей с подпиской больше"
      ]
    },
    {
      "cell_type": "markdown",
      "id": "13658e46",
      "metadata": {
        "id": "13658e46"
      },
      "source": [
        "**Задание 6.4**\n",
        "\n",
        "Представьте такую ситуацию: техническая команда сервиса обновила сервера, с которыми взаимодействует мобильное приложение. Она надеется, что из-за этого количество обращений в техподдержку значимо снизилось. Некоторый файл содержит для каждого пользователя данные о количестве обращений до обновления и после него. Какой тест вам понадобился бы для проверки этой гипотезы?"
      ]
    },
    {
      "cell_type": "markdown",
      "id": "92f51dce",
      "metadata": {
        "id": "92f51dce"
      },
      "source": [
        "**Ответ:** для проверки этой гипотезу необходимо провети двухвыборочный t-тест для зависимых выборок, т.к. будем рассматривать одну и ту же генеральную совокупность до и после обновления сервера и измерять переменную два раза для одних и тех же объектов наблюдения. Будем использовать метод **scipy.stats.ttest_rel()**.\n",
        "\n",
        "\n",
        "Будем проверять левостороннюю гипотезу\n",
        "Нулевая гипотеза: количество обращений в техподдержку до обновления сервера и после обновления равны\n",
        "Альтернативная гипотеза: количество обращений в техподдержку после обновления сервера уменьшилось\n"
      ]
    },
    {
      "cell_type": "markdown",
      "id": "3850fd35",
      "metadata": {
        "id": "3850fd35"
      },
      "source": [
        "   \n",
        "**Общий вывод:**\n",
        "    \n",
        "1. Данные представлены о 1534 пользователях сервиса из 8 городов, наиболее активно регистрировались в приложении пользователи в Пятигорске, Екатеринбурге, Ростове-на-Дону и Краснодаре.\n",
        "2. Наиболее часто сервисом пользуются без подписки - 54,4% пользователей.\n",
        "3. Сервисом проката пользуются в возрасте от 12 до 43 лет, наиболее активные пользователи в возрасте от 22 до 28 лет.\n",
        "4. Расстояние поездок составляет от 0,86 м до 7,21 км. Наиболее частые поездки на расстояние от 2,5 до 3,8 км.\n",
        "5. Продолжительность поездок составляет от 0,5 до 40,8 мин. Чаще всего совершают поездки продолжительностью от 13,6 до 21,7 мин.\n",
        "6. Медианное значение расстояния поездок у пользователей с подпиской и без практически совпадают - около 3,1 км. Без подписки разброс расстояний больше - от нескольких метров до 6,1 км.\n",
        "7. Медианные значения продолжительности поездок у пользователей с подпиской и без близки по значению - 18 и 17 мин. Разброс расстояний поездок у пользователей с подпиской и без также близки по значению от нескольких минут до 33-34 мин.\n",
        "8. Гипотеза о равенстве средих значений времени поездок пользователей с подпиской и без подписки отвергнута в пользу гипотезы о том, что средняя продолжительность поездок пользователей с подпиской больше.\n",
        "9. Гипотеза о превышении оптимального расстояния по износу самокатов не подтверждена, подписчики в среднем проезжают 3130 м\n",
        "10. Гипотеза о равенстве средих значений помесячной выручки от пользователей с подпиской и без подписки отвергнута в пользу гипотезы о том, что среднее значение помесячной выручки от пользователей с подпиской больше\n",
        "\n",
        "</div>"
      ]
    }
  ],
  "metadata": {
    "ExecuteTimeLog": [
      {
        "duration": 1749,
        "start_time": "2024-12-23T17:53:50.741Z"
      },
      {
        "duration": 5,
        "start_time": "2024-12-23T17:53:52.493Z"
      },
      {
        "duration": 331,
        "start_time": "2024-12-23T17:53:52.862Z"
      },
      {
        "duration": 3,
        "start_time": "2024-12-23T17:53:53.341Z"
      },
      {
        "duration": 25,
        "start_time": "2024-12-23T17:53:54.125Z"
      },
      {
        "duration": 20,
        "start_time": "2024-12-23T17:53:54.905Z"
      },
      {
        "duration": 23,
        "start_time": "2024-12-23T17:53:56.877Z"
      },
      {
        "duration": 7,
        "start_time": "2024-12-23T17:57:23.281Z"
      },
      {
        "duration": 122,
        "start_time": "2024-12-23T17:58:23.221Z"
      },
      {
        "duration": 3,
        "start_time": "2024-12-23T17:58:52.789Z"
      },
      {
        "duration": 31,
        "start_time": "2024-12-23T17:59:07.377Z"
      },
      {
        "duration": 19,
        "start_time": "2024-12-23T17:59:55.273Z"
      },
      {
        "duration": 1482,
        "start_time": "2024-12-23T18:00:25.933Z"
      },
      {
        "duration": 3,
        "start_time": "2024-12-23T18:00:27.418Z"
      },
      {
        "duration": 87,
        "start_time": "2024-12-23T18:00:27.424Z"
      },
      {
        "duration": 3,
        "start_time": "2024-12-23T18:00:27.513Z"
      },
      {
        "duration": 49,
        "start_time": "2024-12-23T18:00:27.518Z"
      },
      {
        "duration": 37,
        "start_time": "2024-12-23T18:00:27.569Z"
      },
      {
        "duration": 17,
        "start_time": "2024-12-23T18:00:27.609Z"
      },
      {
        "duration": 5,
        "start_time": "2024-12-23T18:00:27.628Z"
      },
      {
        "duration": 28,
        "start_time": "2024-12-23T18:00:27.662Z"
      },
      {
        "duration": 15,
        "start_time": "2024-12-23T18:01:36.458Z"
      },
      {
        "duration": 9,
        "start_time": "2024-12-23T18:02:16.678Z"
      },
      {
        "duration": 59,
        "start_time": "2024-12-23T18:02:43.637Z"
      },
      {
        "duration": 8,
        "start_time": "2024-12-23T18:02:57.029Z"
      },
      {
        "duration": 24,
        "start_time": "2024-12-23T18:03:14.768Z"
      },
      {
        "duration": 12,
        "start_time": "2024-12-23T18:03:31.577Z"
      },
      {
        "duration": 6,
        "start_time": "2024-12-23T18:03:41.574Z"
      },
      {
        "duration": 71,
        "start_time": "2024-12-23T18:05:46.206Z"
      },
      {
        "duration": 12,
        "start_time": "2024-12-23T18:06:20.509Z"
      },
      {
        "duration": 170,
        "start_time": "2024-12-23T18:06:32.668Z"
      },
      {
        "duration": 10,
        "start_time": "2024-12-23T18:07:07.677Z"
      },
      {
        "duration": 906,
        "start_time": "2024-12-23T18:07:20.797Z"
      },
      {
        "duration": 12,
        "start_time": "2024-12-23T18:08:11.414Z"
      },
      {
        "duration": 10,
        "start_time": "2024-12-23T18:08:19.421Z"
      },
      {
        "duration": 17,
        "start_time": "2024-12-23T18:08:26.654Z"
      },
      {
        "duration": 717,
        "start_time": "2024-12-23T18:08:40.125Z"
      },
      {
        "duration": 10,
        "start_time": "2024-12-23T18:09:07.218Z"
      },
      {
        "duration": 664,
        "start_time": "2024-12-23T18:09:15.522Z"
      },
      {
        "duration": 14,
        "start_time": "2024-12-23T18:10:59.876Z"
      },
      {
        "duration": 44,
        "start_time": "2024-12-23T18:11:12.938Z"
      },
      {
        "duration": 477,
        "start_time": "2024-12-23T18:11:40.686Z"
      },
      {
        "duration": 1290,
        "start_time": "2024-12-23T18:12:18.962Z"
      },
      {
        "duration": 6,
        "start_time": "2024-12-23T18:12:20.254Z"
      },
      {
        "duration": 91,
        "start_time": "2024-12-23T18:12:20.262Z"
      },
      {
        "duration": 3,
        "start_time": "2024-12-23T18:12:20.355Z"
      },
      {
        "duration": 58,
        "start_time": "2024-12-23T18:12:20.360Z"
      },
      {
        "duration": 22,
        "start_time": "2024-12-23T18:12:20.420Z"
      },
      {
        "duration": 33,
        "start_time": "2024-12-23T18:12:20.444Z"
      },
      {
        "duration": 16,
        "start_time": "2024-12-23T18:12:20.479Z"
      },
      {
        "duration": 22,
        "start_time": "2024-12-23T18:12:20.497Z"
      },
      {
        "duration": 10,
        "start_time": "2024-12-23T18:12:20.522Z"
      },
      {
        "duration": 28,
        "start_time": "2024-12-23T18:12:20.533Z"
      },
      {
        "duration": 51,
        "start_time": "2024-12-23T18:12:20.562Z"
      },
      {
        "duration": 21,
        "start_time": "2024-12-23T18:12:20.615Z"
      },
      {
        "duration": 9,
        "start_time": "2024-12-23T18:12:20.660Z"
      },
      {
        "duration": 37,
        "start_time": "2024-12-23T18:12:20.671Z"
      },
      {
        "duration": 96,
        "start_time": "2024-12-23T18:12:20.710Z"
      },
      {
        "duration": 11,
        "start_time": "2024-12-23T18:12:20.808Z"
      },
      {
        "duration": 183,
        "start_time": "2024-12-23T18:12:20.820Z"
      },
      {
        "duration": 9,
        "start_time": "2024-12-23T18:12:21.004Z"
      },
      {
        "duration": 897,
        "start_time": "2024-12-23T18:12:21.015Z"
      },
      {
        "duration": 10,
        "start_time": "2024-12-23T18:12:21.914Z"
      },
      {
        "duration": 687,
        "start_time": "2024-12-23T18:12:21.925Z"
      },
      {
        "duration": 9,
        "start_time": "2024-12-23T18:12:22.614Z"
      },
      {
        "duration": 669,
        "start_time": "2024-12-23T18:12:22.625Z"
      },
      {
        "duration": 7,
        "start_time": "2024-12-23T18:12:23.296Z"
      },
      {
        "duration": 47,
        "start_time": "2024-12-23T18:12:23.305Z"
      },
      {
        "duration": 534,
        "start_time": "2024-12-23T18:12:23.359Z"
      },
      {
        "duration": 538,
        "start_time": "2024-12-23T18:14:55.354Z"
      },
      {
        "duration": 1300,
        "start_time": "2024-12-23T18:15:47.421Z"
      },
      {
        "duration": 3,
        "start_time": "2024-12-23T18:15:48.723Z"
      },
      {
        "duration": 77,
        "start_time": "2024-12-23T18:15:48.728Z"
      },
      {
        "duration": 4,
        "start_time": "2024-12-23T18:15:48.807Z"
      },
      {
        "duration": 28,
        "start_time": "2024-12-23T18:15:48.812Z"
      },
      {
        "duration": 19,
        "start_time": "2024-12-23T18:15:48.842Z"
      },
      {
        "duration": 17,
        "start_time": "2024-12-23T18:15:48.863Z"
      },
      {
        "duration": 7,
        "start_time": "2024-12-23T18:15:48.882Z"
      },
      {
        "duration": 16,
        "start_time": "2024-12-23T18:15:48.891Z"
      },
      {
        "duration": 11,
        "start_time": "2024-12-23T18:15:48.911Z"
      },
      {
        "duration": 10,
        "start_time": "2024-12-23T18:15:48.960Z"
      },
      {
        "duration": 51,
        "start_time": "2024-12-23T18:15:48.972Z"
      },
      {
        "duration": 47,
        "start_time": "2024-12-23T18:15:49.025Z"
      },
      {
        "duration": 9,
        "start_time": "2024-12-23T18:15:49.073Z"
      },
      {
        "duration": 14,
        "start_time": "2024-12-23T18:15:49.084Z"
      },
      {
        "duration": 76,
        "start_time": "2024-12-23T18:15:49.100Z"
      },
      {
        "duration": 13,
        "start_time": "2024-12-23T18:15:49.178Z"
      },
      {
        "duration": 186,
        "start_time": "2024-12-23T18:15:49.192Z"
      },
      {
        "duration": 10,
        "start_time": "2024-12-23T18:15:49.380Z"
      },
      {
        "duration": 879,
        "start_time": "2024-12-23T18:15:49.392Z"
      },
      {
        "duration": 12,
        "start_time": "2024-12-23T18:15:50.273Z"
      },
      {
        "duration": 707,
        "start_time": "2024-12-23T18:15:50.287Z"
      },
      {
        "duration": 9,
        "start_time": "2024-12-23T18:15:50.996Z"
      },
      {
        "duration": 603,
        "start_time": "2024-12-23T18:15:51.007Z"
      },
      {
        "duration": 7,
        "start_time": "2024-12-23T18:15:51.611Z"
      },
      {
        "duration": 48,
        "start_time": "2024-12-23T18:15:51.619Z"
      },
      {
        "duration": 486,
        "start_time": "2024-12-23T18:15:51.669Z"
      },
      {
        "duration": 507,
        "start_time": "2024-12-23T18:20:22.141Z"
      },
      {
        "duration": 774,
        "start_time": "2024-12-23T18:20:41.514Z"
      },
      {
        "duration": 843,
        "start_time": "2024-12-23T18:21:25.402Z"
      },
      {
        "duration": 839,
        "start_time": "2024-12-23T18:22:04.221Z"
      },
      {
        "duration": 831,
        "start_time": "2024-12-23T18:22:15.746Z"
      },
      {
        "duration": 943,
        "start_time": "2024-12-23T18:22:33.734Z"
      },
      {
        "duration": 12,
        "start_time": "2024-12-23T18:24:24.818Z"
      },
      {
        "duration": 55,
        "start_time": "2024-12-23T18:24:32.981Z"
      },
      {
        "duration": 47,
        "start_time": "2024-12-23T18:25:01.785Z"
      },
      {
        "duration": 32,
        "start_time": "2024-12-23T18:25:19.757Z"
      },
      {
        "duration": 14,
        "start_time": "2024-12-23T18:27:27.469Z"
      },
      {
        "duration": 68,
        "start_time": "2024-12-23T18:27:56.797Z"
      },
      {
        "duration": 14,
        "start_time": "2024-12-23T18:28:37.637Z"
      },
      {
        "duration": 8,
        "start_time": "2024-12-23T18:29:15.633Z"
      },
      {
        "duration": 7,
        "start_time": "2024-12-23T18:31:13.303Z"
      },
      {
        "duration": 21,
        "start_time": "2024-12-23T18:31:22.758Z"
      },
      {
        "duration": 13,
        "start_time": "2024-12-23T18:32:20.674Z"
      },
      {
        "duration": 8,
        "start_time": "2024-12-23T18:32:29.697Z"
      },
      {
        "duration": 1493,
        "start_time": "2024-12-23T19:15:00.734Z"
      },
      {
        "duration": 3,
        "start_time": "2024-12-23T19:15:02.229Z"
      },
      {
        "duration": 96,
        "start_time": "2024-12-23T19:15:02.234Z"
      },
      {
        "duration": 2,
        "start_time": "2024-12-23T19:15:02.332Z"
      },
      {
        "duration": 52,
        "start_time": "2024-12-23T19:15:02.336Z"
      },
      {
        "duration": 37,
        "start_time": "2024-12-23T19:15:02.390Z"
      },
      {
        "duration": 55,
        "start_time": "2024-12-23T19:15:02.428Z"
      },
      {
        "duration": 9,
        "start_time": "2024-12-23T19:15:02.484Z"
      },
      {
        "duration": 27,
        "start_time": "2024-12-23T19:15:02.494Z"
      },
      {
        "duration": 44,
        "start_time": "2024-12-23T19:15:02.524Z"
      },
      {
        "duration": 14,
        "start_time": "2024-12-23T19:15:02.570Z"
      },
      {
        "duration": 49,
        "start_time": "2024-12-23T19:15:02.586Z"
      },
      {
        "duration": 33,
        "start_time": "2024-12-23T19:15:02.637Z"
      },
      {
        "duration": 44,
        "start_time": "2024-12-23T19:15:02.672Z"
      },
      {
        "duration": 96,
        "start_time": "2024-12-23T19:15:02.717Z"
      },
      {
        "duration": 99,
        "start_time": "2024-12-23T19:15:02.815Z"
      },
      {
        "duration": 11,
        "start_time": "2024-12-23T19:15:02.916Z"
      },
      {
        "duration": 223,
        "start_time": "2024-12-23T19:15:02.929Z"
      },
      {
        "duration": 9,
        "start_time": "2024-12-23T19:15:03.160Z"
      },
      {
        "duration": 902,
        "start_time": "2024-12-23T19:15:03.171Z"
      },
      {
        "duration": 9,
        "start_time": "2024-12-23T19:15:04.075Z"
      },
      {
        "duration": 695,
        "start_time": "2024-12-23T19:15:04.086Z"
      },
      {
        "duration": 9,
        "start_time": "2024-12-23T19:15:04.783Z"
      },
      {
        "duration": 634,
        "start_time": "2024-12-23T19:15:04.794Z"
      },
      {
        "duration": 6,
        "start_time": "2024-12-23T19:15:05.430Z"
      },
      {
        "duration": 44,
        "start_time": "2024-12-23T19:15:05.438Z"
      },
      {
        "duration": 791,
        "start_time": "2024-12-23T19:15:05.484Z"
      },
      {
        "duration": 12,
        "start_time": "2024-12-23T19:15:06.279Z"
      },
      {
        "duration": 68,
        "start_time": "2024-12-23T19:15:06.293Z"
      },
      {
        "duration": 15,
        "start_time": "2024-12-23T19:15:06.362Z"
      },
      {
        "duration": 12,
        "start_time": "2024-12-23T19:15:06.379Z"
      },
      {
        "duration": 8,
        "start_time": "2024-12-23T19:15:06.393Z"
      },
      {
        "duration": 31,
        "start_time": "2024-12-23T19:15:06.403Z"
      },
      {
        "duration": 25,
        "start_time": "2024-12-23T19:15:06.436Z"
      },
      {
        "duration": 18,
        "start_time": "2024-12-23T19:15:06.462Z"
      },
      {
        "duration": 10,
        "start_time": "2024-12-23T19:15:06.482Z"
      },
      {
        "duration": 124,
        "start_time": "2024-12-23T20:34:15.051Z"
      },
      {
        "duration": 6,
        "start_time": "2024-12-23T20:39:24.335Z"
      },
      {
        "duration": 6,
        "start_time": "2024-12-23T20:39:45.475Z"
      },
      {
        "duration": 6,
        "start_time": "2024-12-23T20:39:55.447Z"
      },
      {
        "duration": 1291,
        "start_time": "2024-12-23T20:46:29.646Z"
      },
      {
        "duration": 4,
        "start_time": "2024-12-23T20:46:30.939Z"
      },
      {
        "duration": 77,
        "start_time": "2024-12-23T20:46:30.945Z"
      },
      {
        "duration": 3,
        "start_time": "2024-12-23T20:46:31.024Z"
      },
      {
        "duration": 67,
        "start_time": "2024-12-23T20:46:31.029Z"
      },
      {
        "duration": 19,
        "start_time": "2024-12-23T20:46:31.098Z"
      },
      {
        "duration": 17,
        "start_time": "2024-12-23T20:46:31.119Z"
      },
      {
        "duration": 23,
        "start_time": "2024-12-23T20:46:31.138Z"
      },
      {
        "duration": 12,
        "start_time": "2024-12-23T20:46:31.163Z"
      },
      {
        "duration": 11,
        "start_time": "2024-12-23T20:46:31.178Z"
      },
      {
        "duration": 20,
        "start_time": "2024-12-23T20:46:31.191Z"
      },
      {
        "duration": 68,
        "start_time": "2024-12-23T20:46:31.213Z"
      },
      {
        "duration": 22,
        "start_time": "2024-12-23T20:46:31.283Z"
      },
      {
        "duration": 9,
        "start_time": "2024-12-23T20:46:31.307Z"
      },
      {
        "duration": 7,
        "start_time": "2024-12-23T20:46:31.317Z"
      },
      {
        "duration": 89,
        "start_time": "2024-12-23T20:46:31.326Z"
      },
      {
        "duration": 11,
        "start_time": "2024-12-23T20:46:31.417Z"
      },
      {
        "duration": 189,
        "start_time": "2024-12-23T20:46:31.429Z"
      },
      {
        "duration": 8,
        "start_time": "2024-12-23T20:46:31.620Z"
      },
      {
        "duration": 897,
        "start_time": "2024-12-23T20:46:31.630Z"
      },
      {
        "duration": 9,
        "start_time": "2024-12-23T20:46:32.529Z"
      },
      {
        "duration": 682,
        "start_time": "2024-12-23T20:46:32.540Z"
      },
      {
        "duration": 9,
        "start_time": "2024-12-23T20:46:33.224Z"
      },
      {
        "duration": 594,
        "start_time": "2024-12-23T20:46:33.234Z"
      },
      {
        "duration": 5,
        "start_time": "2024-12-23T20:46:33.830Z"
      },
      {
        "duration": 40,
        "start_time": "2024-12-23T20:46:33.837Z"
      },
      {
        "duration": 780,
        "start_time": "2024-12-23T20:46:33.879Z"
      },
      {
        "duration": 11,
        "start_time": "2024-12-23T20:46:34.662Z"
      },
      {
        "duration": 43,
        "start_time": "2024-12-23T20:46:34.675Z"
      },
      {
        "duration": 13,
        "start_time": "2024-12-23T20:46:34.720Z"
      },
      {
        "duration": 34,
        "start_time": "2024-12-23T20:46:34.734Z"
      },
      {
        "duration": 6,
        "start_time": "2024-12-23T20:46:34.770Z"
      },
      {
        "duration": 6,
        "start_time": "2024-12-23T20:46:34.778Z"
      },
      {
        "duration": 7,
        "start_time": "2024-12-23T20:46:34.785Z"
      },
      {
        "duration": 38,
        "start_time": "2024-12-23T20:46:34.793Z"
      },
      {
        "duration": 8,
        "start_time": "2024-12-23T20:46:34.832Z"
      },
      {
        "duration": 1202,
        "start_time": "2024-12-23T20:58:18.102Z"
      },
      {
        "duration": 3,
        "start_time": "2024-12-23T20:58:19.306Z"
      },
      {
        "duration": 80,
        "start_time": "2024-12-23T20:58:19.311Z"
      },
      {
        "duration": 3,
        "start_time": "2024-12-23T20:58:19.393Z"
      },
      {
        "duration": 36,
        "start_time": "2024-12-23T20:58:19.398Z"
      },
      {
        "duration": 22,
        "start_time": "2024-12-23T20:58:19.436Z"
      },
      {
        "duration": 21,
        "start_time": "2024-12-23T20:58:19.460Z"
      },
      {
        "duration": 6,
        "start_time": "2024-12-23T20:58:19.483Z"
      },
      {
        "duration": 13,
        "start_time": "2024-12-23T20:58:19.490Z"
      },
      {
        "duration": 9,
        "start_time": "2024-12-23T20:58:19.505Z"
      },
      {
        "duration": 8,
        "start_time": "2024-12-23T20:58:19.516Z"
      },
      {
        "duration": 80,
        "start_time": "2024-12-23T20:58:19.526Z"
      },
      {
        "duration": 21,
        "start_time": "2024-12-23T20:58:19.608Z"
      },
      {
        "duration": 29,
        "start_time": "2024-12-23T20:58:19.632Z"
      },
      {
        "duration": 7,
        "start_time": "2024-12-23T20:58:19.663Z"
      },
      {
        "duration": 79,
        "start_time": "2024-12-23T20:58:19.671Z"
      },
      {
        "duration": 12,
        "start_time": "2024-12-23T20:58:19.752Z"
      },
      {
        "duration": 182,
        "start_time": "2024-12-23T20:58:19.766Z"
      },
      {
        "duration": 12,
        "start_time": "2024-12-23T20:58:19.950Z"
      },
      {
        "duration": 847,
        "start_time": "2024-12-23T20:58:19.964Z"
      },
      {
        "duration": 12,
        "start_time": "2024-12-23T20:58:20.813Z"
      },
      {
        "duration": 681,
        "start_time": "2024-12-23T20:58:20.827Z"
      },
      {
        "duration": 10,
        "start_time": "2024-12-23T20:58:21.510Z"
      },
      {
        "duration": 666,
        "start_time": "2024-12-23T20:58:21.521Z"
      },
      {
        "duration": 6,
        "start_time": "2024-12-23T20:58:22.189Z"
      },
      {
        "duration": 28,
        "start_time": "2024-12-23T20:58:22.197Z"
      },
      {
        "duration": 823,
        "start_time": "2024-12-23T20:58:22.226Z"
      },
      {
        "duration": 17,
        "start_time": "2024-12-23T20:58:23.051Z"
      },
      {
        "duration": 49,
        "start_time": "2024-12-23T20:58:23.070Z"
      },
      {
        "duration": 14,
        "start_time": "2024-12-23T20:58:23.121Z"
      },
      {
        "duration": 11,
        "start_time": "2024-12-23T20:58:23.160Z"
      },
      {
        "duration": 14,
        "start_time": "2024-12-23T20:58:23.173Z"
      },
      {
        "duration": 12,
        "start_time": "2024-12-23T20:58:23.189Z"
      },
      {
        "duration": 8,
        "start_time": "2024-12-23T20:58:23.202Z"
      },
      {
        "duration": 9,
        "start_time": "2024-12-23T20:58:23.212Z"
      },
      {
        "duration": 8,
        "start_time": "2024-12-23T20:58:23.223Z"
      },
      {
        "duration": 1230,
        "start_time": "2024-12-23T21:39:49.380Z"
      },
      {
        "duration": 3,
        "start_time": "2024-12-23T21:39:50.613Z"
      },
      {
        "duration": 82,
        "start_time": "2024-12-23T21:39:50.618Z"
      },
      {
        "duration": 3,
        "start_time": "2024-12-23T21:39:50.702Z"
      },
      {
        "duration": 52,
        "start_time": "2024-12-23T21:39:50.707Z"
      },
      {
        "duration": 18,
        "start_time": "2024-12-23T21:39:50.761Z"
      },
      {
        "duration": 15,
        "start_time": "2024-12-23T21:39:50.781Z"
      },
      {
        "duration": 12,
        "start_time": "2024-12-23T21:39:50.798Z"
      },
      {
        "duration": 32,
        "start_time": "2024-12-23T21:39:50.811Z"
      },
      {
        "duration": 26,
        "start_time": "2024-12-23T21:39:50.845Z"
      },
      {
        "duration": 22,
        "start_time": "2024-12-23T21:39:50.872Z"
      },
      {
        "duration": 75,
        "start_time": "2024-12-23T21:39:50.895Z"
      },
      {
        "duration": 20,
        "start_time": "2024-12-23T21:39:50.972Z"
      },
      {
        "duration": 22,
        "start_time": "2024-12-23T21:39:50.995Z"
      },
      {
        "duration": 21,
        "start_time": "2024-12-23T21:39:51.019Z"
      },
      {
        "duration": 84,
        "start_time": "2024-12-23T21:39:51.042Z"
      },
      {
        "duration": 11,
        "start_time": "2024-12-23T21:39:51.128Z"
      },
      {
        "duration": 174,
        "start_time": "2024-12-23T21:39:51.140Z"
      },
      {
        "duration": 9,
        "start_time": "2024-12-23T21:39:51.316Z"
      },
      {
        "duration": 904,
        "start_time": "2024-12-23T21:39:51.327Z"
      },
      {
        "duration": 8,
        "start_time": "2024-12-23T21:39:52.233Z"
      },
      {
        "duration": 683,
        "start_time": "2024-12-23T21:39:52.243Z"
      },
      {
        "duration": 9,
        "start_time": "2024-12-23T21:39:52.928Z"
      },
      {
        "duration": 611,
        "start_time": "2024-12-23T21:39:52.939Z"
      },
      {
        "duration": 6,
        "start_time": "2024-12-23T21:39:53.560Z"
      },
      {
        "duration": 28,
        "start_time": "2024-12-23T21:39:53.568Z"
      },
      {
        "duration": 802,
        "start_time": "2024-12-23T21:39:53.598Z"
      },
      {
        "duration": 11,
        "start_time": "2024-12-23T21:39:54.401Z"
      },
      {
        "duration": 61,
        "start_time": "2024-12-23T21:39:54.414Z"
      },
      {
        "duration": 15,
        "start_time": "2024-12-23T21:39:54.477Z"
      },
      {
        "duration": 12,
        "start_time": "2024-12-23T21:39:54.494Z"
      },
      {
        "duration": 7,
        "start_time": "2024-12-23T21:39:54.508Z"
      },
      {
        "duration": 8,
        "start_time": "2024-12-23T21:39:54.517Z"
      },
      {
        "duration": 34,
        "start_time": "2024-12-23T21:39:54.527Z"
      },
      {
        "duration": 9,
        "start_time": "2024-12-23T21:39:54.562Z"
      },
      {
        "duration": 7,
        "start_time": "2024-12-23T21:39:54.573Z"
      },
      {
        "duration": 14,
        "start_time": "2024-12-23T21:43:47.187Z"
      },
      {
        "duration": 7,
        "start_time": "2024-12-23T21:44:43.675Z"
      },
      {
        "duration": 11,
        "start_time": "2024-12-23T21:44:49.316Z"
      },
      {
        "duration": 12,
        "start_time": "2024-12-23T21:45:14.419Z"
      },
      {
        "duration": 116,
        "start_time": "2024-12-23T21:46:29.251Z"
      },
      {
        "duration": 13,
        "start_time": "2024-12-23T21:49:47.988Z"
      },
      {
        "duration": 345,
        "start_time": "2024-12-23T21:49:49.415Z"
      },
      {
        "duration": 9,
        "start_time": "2024-12-23T21:50:30.511Z"
      },
      {
        "duration": 9,
        "start_time": "2024-12-23T21:50:36.283Z"
      },
      {
        "duration": 20,
        "start_time": "2024-12-23T21:50:57.007Z"
      },
      {
        "duration": 16,
        "start_time": "2024-12-23T21:51:14.908Z"
      },
      {
        "duration": 14,
        "start_time": "2024-12-23T21:51:44.335Z"
      },
      {
        "duration": 11,
        "start_time": "2024-12-23T21:52:24.995Z"
      },
      {
        "duration": 18,
        "start_time": "2024-12-23T21:52:30.999Z"
      },
      {
        "duration": 15,
        "start_time": "2024-12-23T21:53:17.835Z"
      },
      {
        "duration": 15,
        "start_time": "2024-12-23T21:55:26.759Z"
      },
      {
        "duration": 12,
        "start_time": "2024-12-23T21:55:50.606Z"
      },
      {
        "duration": 430,
        "start_time": "2024-12-23T21:56:37.110Z"
      },
      {
        "duration": 286,
        "start_time": "2024-12-23T21:59:18.675Z"
      },
      {
        "duration": 176,
        "start_time": "2024-12-23T21:59:27.246Z"
      },
      {
        "duration": 180,
        "start_time": "2024-12-23T21:59:32.758Z"
      },
      {
        "duration": 209,
        "start_time": "2024-12-23T21:59:37.762Z"
      },
      {
        "duration": 310,
        "start_time": "2024-12-23T21:59:46.841Z"
      },
      {
        "duration": 155,
        "start_time": "2024-12-23T22:00:18.446Z"
      },
      {
        "duration": 318,
        "start_time": "2024-12-23T22:00:35.931Z"
      },
      {
        "duration": 415,
        "start_time": "2024-12-23T22:00:42.378Z"
      },
      {
        "duration": 319,
        "start_time": "2024-12-23T22:00:46.962Z"
      },
      {
        "duration": 349,
        "start_time": "2024-12-23T22:00:51.586Z"
      },
      {
        "duration": 307,
        "start_time": "2024-12-23T22:00:59.594Z"
      },
      {
        "duration": 310,
        "start_time": "2024-12-23T22:05:51.873Z"
      },
      {
        "duration": 418,
        "start_time": "2024-12-23T22:07:49.073Z"
      },
      {
        "duration": 303,
        "start_time": "2024-12-23T22:08:38.565Z"
      },
      {
        "duration": 303,
        "start_time": "2024-12-23T22:08:50.425Z"
      },
      {
        "duration": 299,
        "start_time": "2024-12-23T22:09:28.824Z"
      },
      {
        "duration": 305,
        "start_time": "2024-12-23T22:10:20.501Z"
      },
      {
        "duration": 176,
        "start_time": "2024-12-23T22:10:27.537Z"
      },
      {
        "duration": 4,
        "start_time": "2024-12-23T22:12:46.897Z"
      },
      {
        "duration": 429,
        "start_time": "2024-12-23T22:12:52.994Z"
      },
      {
        "duration": 6,
        "start_time": "2024-12-23T22:22:05.044Z"
      },
      {
        "duration": 6,
        "start_time": "2024-12-23T22:24:51.003Z"
      },
      {
        "duration": 6,
        "start_time": "2024-12-23T22:25:08.692Z"
      },
      {
        "duration": 5,
        "start_time": "2024-12-23T22:25:17.172Z"
      },
      {
        "duration": 6,
        "start_time": "2024-12-23T22:25:29.823Z"
      },
      {
        "duration": 1192,
        "start_time": "2024-12-23T22:59:37.210Z"
      },
      {
        "duration": 3,
        "start_time": "2024-12-23T22:59:38.404Z"
      },
      {
        "duration": 72,
        "start_time": "2024-12-23T22:59:38.409Z"
      },
      {
        "duration": 2,
        "start_time": "2024-12-23T22:59:38.484Z"
      },
      {
        "duration": 29,
        "start_time": "2024-12-23T22:59:38.488Z"
      },
      {
        "duration": 20,
        "start_time": "2024-12-23T22:59:38.519Z"
      },
      {
        "duration": 33,
        "start_time": "2024-12-23T22:59:38.541Z"
      },
      {
        "duration": 6,
        "start_time": "2024-12-23T22:59:38.577Z"
      },
      {
        "duration": 11,
        "start_time": "2024-12-23T22:59:38.585Z"
      },
      {
        "duration": 9,
        "start_time": "2024-12-23T22:59:38.600Z"
      },
      {
        "duration": 49,
        "start_time": "2024-12-23T22:59:38.611Z"
      },
      {
        "duration": 48,
        "start_time": "2024-12-23T22:59:38.663Z"
      },
      {
        "duration": 22,
        "start_time": "2024-12-23T22:59:38.713Z"
      },
      {
        "duration": 30,
        "start_time": "2024-12-23T22:59:38.737Z"
      },
      {
        "duration": 5,
        "start_time": "2024-12-23T22:59:38.769Z"
      },
      {
        "duration": 54,
        "start_time": "2024-12-23T22:59:38.775Z"
      },
      {
        "duration": 38,
        "start_time": "2024-12-23T22:59:38.831Z"
      },
      {
        "duration": 348,
        "start_time": "2024-12-23T22:59:38.871Z"
      },
      {
        "duration": 11,
        "start_time": "2024-12-23T22:59:39.221Z"
      },
      {
        "duration": 162,
        "start_time": "2024-12-23T22:59:39.233Z"
      },
      {
        "duration": 8,
        "start_time": "2024-12-23T22:59:39.397Z"
      },
      {
        "duration": 921,
        "start_time": "2024-12-23T22:59:39.407Z"
      },
      {
        "duration": 8,
        "start_time": "2024-12-23T22:59:40.330Z"
      },
      {
        "duration": 575,
        "start_time": "2024-12-23T22:59:40.340Z"
      },
      {
        "duration": 9,
        "start_time": "2024-12-23T22:59:40.917Z"
      },
      {
        "duration": 591,
        "start_time": "2024-12-23T22:59:40.928Z"
      },
      {
        "duration": 6,
        "start_time": "2024-12-23T22:59:41.521Z"
      },
      {
        "duration": 52,
        "start_time": "2024-12-23T22:59:41.531Z"
      },
      {
        "duration": 792,
        "start_time": "2024-12-23T22:59:41.585Z"
      },
      {
        "duration": 11,
        "start_time": "2024-12-23T22:59:42.379Z"
      },
      {
        "duration": 43,
        "start_time": "2024-12-23T22:59:42.392Z"
      },
      {
        "duration": 35,
        "start_time": "2024-12-23T22:59:42.437Z"
      },
      {
        "duration": 129,
        "start_time": "2024-12-23T22:59:42.474Z"
      },
      {
        "duration": 7,
        "start_time": "2024-12-23T22:59:42.605Z"
      },
      {
        "duration": 7,
        "start_time": "2024-12-23T22:59:42.613Z"
      },
      {
        "duration": 2,
        "start_time": "2024-12-23T22:59:42.622Z"
      },
      {
        "duration": 10,
        "start_time": "2024-12-23T22:59:42.626Z"
      },
      {
        "duration": 10,
        "start_time": "2024-12-23T22:59:42.659Z"
      },
      {
        "duration": 7,
        "start_time": "2024-12-23T22:59:42.671Z"
      },
      {
        "duration": 1280,
        "start_time": "2024-12-24T05:56:29.655Z"
      },
      {
        "duration": 3,
        "start_time": "2024-12-24T05:56:30.937Z"
      },
      {
        "duration": 353,
        "start_time": "2024-12-24T05:56:30.941Z"
      },
      {
        "duration": 3,
        "start_time": "2024-12-24T05:56:31.296Z"
      },
      {
        "duration": 51,
        "start_time": "2024-12-24T05:56:31.301Z"
      },
      {
        "duration": 39,
        "start_time": "2024-12-24T05:56:31.353Z"
      },
      {
        "duration": 33,
        "start_time": "2024-12-24T05:56:31.394Z"
      },
      {
        "duration": 20,
        "start_time": "2024-12-24T05:56:31.429Z"
      },
      {
        "duration": 44,
        "start_time": "2024-12-24T05:56:31.450Z"
      },
      {
        "duration": 28,
        "start_time": "2024-12-24T05:56:31.497Z"
      },
      {
        "duration": 38,
        "start_time": "2024-12-24T05:56:31.527Z"
      },
      {
        "duration": 77,
        "start_time": "2024-12-24T05:56:31.567Z"
      },
      {
        "duration": 17,
        "start_time": "2024-12-24T05:56:31.646Z"
      },
      {
        "duration": 26,
        "start_time": "2024-12-24T05:56:31.664Z"
      },
      {
        "duration": 48,
        "start_time": "2024-12-24T05:56:31.691Z"
      },
      {
        "duration": 98,
        "start_time": "2024-12-24T05:56:31.741Z"
      },
      {
        "duration": 8,
        "start_time": "2024-12-24T05:56:31.841Z"
      },
      {
        "duration": 318,
        "start_time": "2024-12-24T05:56:31.851Z"
      },
      {
        "duration": 8,
        "start_time": "2024-12-24T05:56:32.171Z"
      },
      {
        "duration": 151,
        "start_time": "2024-12-24T05:56:32.181Z"
      },
      {
        "duration": 9,
        "start_time": "2024-12-24T05:56:32.333Z"
      },
      {
        "duration": 777,
        "start_time": "2024-12-24T05:56:32.343Z"
      },
      {
        "duration": 8,
        "start_time": "2024-12-24T05:56:33.122Z"
      },
      {
        "duration": 488,
        "start_time": "2024-12-24T05:56:33.131Z"
      },
      {
        "duration": 9,
        "start_time": "2024-12-24T05:56:33.621Z"
      },
      {
        "duration": 557,
        "start_time": "2024-12-24T05:56:33.631Z"
      },
      {
        "duration": 6,
        "start_time": "2024-12-24T05:56:34.190Z"
      },
      {
        "duration": 43,
        "start_time": "2024-12-24T05:56:34.201Z"
      },
      {
        "duration": 673,
        "start_time": "2024-12-24T05:56:34.246Z"
      },
      {
        "duration": 9,
        "start_time": "2024-12-24T05:56:34.921Z"
      },
      {
        "duration": 54,
        "start_time": "2024-12-24T05:56:34.931Z"
      },
      {
        "duration": 11,
        "start_time": "2024-12-24T05:56:34.986Z"
      },
      {
        "duration": 94,
        "start_time": "2024-12-24T05:56:34.998Z"
      },
      {
        "duration": 5,
        "start_time": "2024-12-24T05:56:35.094Z"
      },
      {
        "duration": 51,
        "start_time": "2024-12-24T05:56:35.101Z"
      },
      {
        "duration": 68,
        "start_time": "2024-12-24T05:56:35.154Z"
      },
      {
        "duration": 59,
        "start_time": "2024-12-24T05:56:35.223Z"
      },
      {
        "duration": 39,
        "start_time": "2024-12-24T05:56:35.283Z"
      },
      {
        "duration": 48,
        "start_time": "2024-12-24T05:56:35.324Z"
      }
    ],
    "kernelspec": {
      "display_name": "Python 3 (ipykernel)",
      "language": "python",
      "name": "python3"
    },
    "language_info": {
      "codemirror_mode": {
        "name": "ipython",
        "version": 3
      },
      "file_extension": ".py",
      "mimetype": "text/x-python",
      "name": "python",
      "nbconvert_exporter": "python",
      "pygments_lexer": "ipython3",
      "version": "3.9.5"
    },
    "toc": {
      "base_numbering": 1,
      "nav_menu": {},
      "number_sections": true,
      "sideBar": true,
      "skip_h1_title": true,
      "title_cell": "Table of Contents",
      "title_sidebar": "Contents",
      "toc_cell": false,
      "toc_position": {
        "height": "calc(100% - 180px)",
        "left": "10px",
        "top": "150px",
        "width": "268.475px"
      },
      "toc_section_display": true,
      "toc_window_display": false
    },
    "colab": {
      "provenance": [],
      "toc_visible": true
    }
  },
  "nbformat": 4,
  "nbformat_minor": 5
}